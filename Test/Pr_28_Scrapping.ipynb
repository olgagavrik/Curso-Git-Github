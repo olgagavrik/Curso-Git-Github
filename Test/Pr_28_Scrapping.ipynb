{
 "cells": [
  {
   "attachments": {
    "image.png": {
     "image/png": "[encoded data removed]"
    }
   },
   "cell_type": "markdown",
   "metadata": {},
   "source": [
    "![image.png](attachment:image.png)"
   ]
  },
  {
   "attachments": {
    "image.png": {
     "image/png": "[encoded data removed]"
    }
   },
   "cell_type": "markdown",
   "metadata": {},
   "source": [
    "URLs\n",
    "\n",
    "#### schema:[//[user[:passwd]@]host[:port]][/path][?query][#tag]\n",
    "\n",
    "![image.png](attachment:image.png)\n",
    "\n",
    "En esta URL, el esquema viene dado por el protocolo https, la autoridad\n",
    "corresponde con es.wikipedia.org (no hay usuario ni palabra clave) y la ruta es la\n",
    "cadena wiki/Alan_Turing. La URI no contiene consultas, pero sí una etiqueta final,\n",
    "tras el símbolo “#”: Turing_en_el_cine."
   ]
  },
  {
   "cell_type": "code",
   "execution_count": 3,
   "metadata": {},
   "outputs": [
    {
     "name": "stdout",
     "output_type": "stream",
     "text": [
      "Error al descargar el archivo: 503\n"
     ]
    }
   ],
   "source": [
    "import os\n",
    "import requests\n",
    "\n",
    "# Definir la URL y el directorio de destino\n",
    "url = \"http://www.mambiente.munimadrid.es/opendata/horario.txt\"\n",
    "directory = r'C:\\Users\\CursosTardes\\Desktop\\Olga GG\\Modulo_5_P\\PythonGH\\IT-Automation-with-Python\\Test'\n",
    "file_path = os.path.join(directory, 'horario.txt')\n",
    "\n",
    "# Asegurarse de que el directorio existe\n",
    "os.makedirs(directory, exist_ok=True)\n",
    "\n",
    "try:\n",
    "    # Descargar el archivo\n",
    "    resp = requests.get(url)\n",
    "    if resp.status_code == 200:\n",
    "        with open(file_path, 'wb') as output:\n",
    "            output.write(resp.content)\n",
    "        print(f\"Archivo guardado en: {file_path}\")\n",
    "    else:\n",
    "        print(f\"Error al descargar el archivo: {resp.status_code}\")\n",
    "except Exception as e:\n",
    "    print(f\"Ocurrió un error: {e}\")\n"
   ]
  },
  {
   "cell_type": "markdown",
   "metadata": {},
   "source": [
    "#### Analizar datos descargados con csv y matplotlib:"
   ]
  },
  {
   "cell_type": "code",
   "execution_count": null,
   "metadata": {},
   "outputs": [],
   "source": [
    "import csv\n",
    "import matplotlib.pyplot as plt\n",
    "\n",
    "path = r'C:\\Users\\CursosTardes\\Desktop\\Olga GG\\Modulo_5_P\\PythonGH\\IT-Automation-with-Python\\Test'\n",
    "with open(path + r'\\horario.txt') as csvfile:\n",
    "    readCSV = csv.reader(csvfile, delimiter=',')\n",
    "    for row in readCSV:\n",
    "        # Verificar que la fila tenga al menos 57 columnas\n",
    "        if len(row) < 57:\n",
    "            print(f\"Fila con longitud inesperada: {row}\")\n",
    "            continue\n",
    "        \n",
    "        if (row[0]+row[1]+row[2]=='28079004' and row[3]=='12'):\n",
    "            plt.title(\"Óxido de nitrógeno: \" + row[8] + \"/\" + row[7] + \"/\" + row[6])\n",
    "            hora = 0\n",
    "            desp = 9\n",
    "            vs = []\n",
    "            horas = []\n",
    "            while hora <= 23:\n",
    "                if row[desp + 2*hora + 1] == 'V':\n",
    "                    vs.append(row[desp + 2*hora])\n",
    "                    horas.append(hora)\n",
    "                hora += 1\n",
    "            plt.plot(horas, vs)\n",
    "            plt.show()\n"
   ]
  },
  {
   "cell_type": "markdown",
   "metadata": {},
   "source": [
    "#### Web scraping estático con BeautifulSoup:"
   ]
  },
  {
   "cell_type": "code",
   "execution_count": 9,
   "metadata": {},
   "outputs": [
    {
     "name": "stdout",
     "output_type": "stream",
     "text": [
      "<!DOCTYPE html>\n",
      "<html>\n",
      " <head>\n",
      "  <title>\n",
      "   Un mini ejemplo\n",
      "  </title>\n",
      " </head>\n",
      " <body>\n",
      "  <div id=\"date\">\n",
      "   Fecha 13/06/2024\n",
      "  </div>\n",
      "  <div id=\"content\">\n",
      "   Un poco de texto\n",
      "  </div>\n",
      " </body>\n",
      "</html>\n",
      "\n",
      " Fecha 13/06/2024 \n"
     ]
    }
   ],
   "source": [
    "from bs4 import BeautifulSoup\n",
    "\n",
    "# Ruta del archivo\n",
    "url = r'C:\\Users\\CursosTardes\\Desktop\\Olga GG\\Modulo_5_P\\PythonGH\\IT-Automation-with-Python\\Test\\mini.html'\n",
    "\n",
    "# Crear un archivo HTML de ejemplo si no existe\n",
    "html_content = '''\n",
    "<!DOCTYPE html>\n",
    "<html>\n",
    "  <head>\n",
    "    <title>\n",
    "      Un mini ejemplo\n",
    "    </title>\n",
    "  </head>\n",
    "  <body>\n",
    "    <div id=\"date\"> Fecha 13/06/2024 </div>\n",
    "    <div id=\"content\"> Un poco de texto </div>\n",
    "  </body>\n",
    "</html>\n",
    "'''\n",
    "\n",
    "# Escribir el contenido HTML en el archivo\n",
    "with open(url, \"w\") as f:\n",
    "    f.write(html_content)\n",
    "\n",
    "# Leer el archivo HTML y procesarlo con BeautifulSoup\n",
    "with open(url, \"r\") as f:\n",
    "    page = f.read()\n",
    "\n",
    "soup = BeautifulSoup(page, \"html.parser\")\n",
    "print(soup.prettify())\n",
    "print(soup.find(\"div\", id=\"date\").get_text())\n"
   ]
  },
  {
   "cell_type": "markdown",
   "metadata": {},
   "source": [
    "#### Web scraping dinámico con Selenium:"
   ]
  },
  {
   "cell_type": "code",
   "execution_count": 12,
   "metadata": {},
   "outputs": [
    {
     "ename": "NoSuchDriverException",
     "evalue": "Message: Unable to obtain driver for chrome; For documentation on this error, please visit: https://www.selenium.dev/documentation/webdriver/troubleshooting/errors/driver_location\n",
     "output_type": "error",
     "traceback": [
      "\u001b[1;31m---------------------------------------------------------------------------\u001b[0m",
      "\u001b[1;31mValueError\u001b[0m                                Traceback (most recent call last)",
      "File \u001b[1;32mc:\\Users\\CursosTardes\\anaconda3\\Lib\\site-packages\\selenium\\webdriver\\common\\driver_finder.py:64\u001b[0m, in \u001b[0;36mDriverFinder._binary_paths\u001b[1;34m(self)\u001b[0m\n\u001b[0;32m     63\u001b[0m \u001b[38;5;28;01mif\u001b[39;00m \u001b[38;5;129;01mnot\u001b[39;00m Path(path)\u001b[38;5;241m.\u001b[39mis_file():\n\u001b[1;32m---> 64\u001b[0m     \u001b[38;5;28;01mraise\u001b[39;00m \u001b[38;5;167;01mValueError\u001b[39;00m(\u001b[38;5;124mf\u001b[39m\u001b[38;5;124m\"\u001b[39m\u001b[38;5;124mThe path is not a valid file: \u001b[39m\u001b[38;5;132;01m{\u001b[39;00mpath\u001b[38;5;132;01m}\u001b[39;00m\u001b[38;5;124m\"\u001b[39m)\n\u001b[0;32m     65\u001b[0m \u001b[38;5;28mself\u001b[39m\u001b[38;5;241m.\u001b[39m_paths[\u001b[38;5;124m\"\u001b[39m\u001b[38;5;124mdriver_path\u001b[39m\u001b[38;5;124m\"\u001b[39m] \u001b[38;5;241m=\u001b[39m path\n",
      "\u001b[1;31mValueError\u001b[0m: The path is not a valid file: C:\\path\\to\\chromedriver.exe",
      "\nThe above exception was the direct cause of the following exception:\n",
      "\u001b[1;31mNoSuchDriverException\u001b[0m                     Traceback (most recent call last)",
      "Cell \u001b[1;32mIn[12], line 8\u001b[0m\n\u001b[0;32m      5\u001b[0m chromedriver_path \u001b[38;5;241m=\u001b[39m \u001b[38;5;124mr\u001b[39m\u001b[38;5;124m'\u001b[39m\u001b[38;5;124mC:\u001b[39m\u001b[38;5;124m\\\u001b[39m\u001b[38;5;124mpath\u001b[39m\u001b[38;5;124m\\\u001b[39m\u001b[38;5;124mto\u001b[39m\u001b[38;5;124m\\\u001b[39m\u001b[38;5;124mchromedriver.exe\u001b[39m\u001b[38;5;124m'\u001b[39m\n\u001b[0;32m      6\u001b[0m service \u001b[38;5;241m=\u001b[39m Service(executable_path\u001b[38;5;241m=\u001b[39mchromedriver_path)\n\u001b[1;32m----> 8\u001b[0m driver \u001b[38;5;241m=\u001b[39m webdriver\u001b[38;5;241m.\u001b[39mChrome(service\u001b[38;5;241m=\u001b[39mservice)\n\u001b[0;32m      9\u001b[0m url \u001b[38;5;241m=\u001b[39m \u001b[38;5;124m\"\u001b[39m\u001b[38;5;124mhttps://www1.sedecatastro.gob.es/CYCBienInmueble/OVCBusqueda.aspx\u001b[39m\u001b[38;5;124m\"\u001b[39m\n\u001b[0;32m     10\u001b[0m driver\u001b[38;5;241m.\u001b[39mget(url)\n",
      "File \u001b[1;32mc:\\Users\\CursosTardes\\anaconda3\\Lib\\site-packages\\selenium\\webdriver\\chrome\\webdriver.py:45\u001b[0m, in \u001b[0;36mWebDriver.__init__\u001b[1;34m(self, options, service, keep_alive)\u001b[0m\n\u001b[0;32m     42\u001b[0m service \u001b[38;5;241m=\u001b[39m service \u001b[38;5;28;01mif\u001b[39;00m service \u001b[38;5;28;01melse\u001b[39;00m Service()\n\u001b[0;32m     43\u001b[0m options \u001b[38;5;241m=\u001b[39m options \u001b[38;5;28;01mif\u001b[39;00m options \u001b[38;5;28;01melse\u001b[39;00m Options()\n\u001b[1;32m---> 45\u001b[0m \u001b[38;5;28msuper\u001b[39m()\u001b[38;5;241m.\u001b[39m\u001b[38;5;21m__init__\u001b[39m(\n\u001b[0;32m     46\u001b[0m     browser_name\u001b[38;5;241m=\u001b[39mDesiredCapabilities\u001b[38;5;241m.\u001b[39mCHROME[\u001b[38;5;124m\"\u001b[39m\u001b[38;5;124mbrowserName\u001b[39m\u001b[38;5;124m\"\u001b[39m],\n\u001b[0;32m     47\u001b[0m     vendor_prefix\u001b[38;5;241m=\u001b[39m\u001b[38;5;124m\"\u001b[39m\u001b[38;5;124mgoog\u001b[39m\u001b[38;5;124m\"\u001b[39m,\n\u001b[0;32m     48\u001b[0m     options\u001b[38;5;241m=\u001b[39moptions,\n\u001b[0;32m     49\u001b[0m     service\u001b[38;5;241m=\u001b[39mservice,\n\u001b[0;32m     50\u001b[0m     keep_alive\u001b[38;5;241m=\u001b[39mkeep_alive,\n\u001b[0;32m     51\u001b[0m )\n",
      "File \u001b[1;32mc:\\Users\\CursosTardes\\anaconda3\\Lib\\site-packages\\selenium\\webdriver\\chromium\\webdriver.py:50\u001b[0m, in \u001b[0;36mChromiumDriver.__init__\u001b[1;34m(self, browser_name, vendor_prefix, options, service, keep_alive)\u001b[0m\n\u001b[0;32m     47\u001b[0m \u001b[38;5;28mself\u001b[39m\u001b[38;5;241m.\u001b[39mservice \u001b[38;5;241m=\u001b[39m service\n\u001b[0;32m     49\u001b[0m finder \u001b[38;5;241m=\u001b[39m DriverFinder(\u001b[38;5;28mself\u001b[39m\u001b[38;5;241m.\u001b[39mservice, options)\n\u001b[1;32m---> 50\u001b[0m \u001b[38;5;28;01mif\u001b[39;00m finder\u001b[38;5;241m.\u001b[39mget_browser_path():\n\u001b[0;32m     51\u001b[0m     options\u001b[38;5;241m.\u001b[39mbinary_location \u001b[38;5;241m=\u001b[39m finder\u001b[38;5;241m.\u001b[39mget_browser_path()\n\u001b[0;32m     52\u001b[0m     options\u001b[38;5;241m.\u001b[39mbrowser_version \u001b[38;5;241m=\u001b[39m \u001b[38;5;28;01mNone\u001b[39;00m\n",
      "File \u001b[1;32mc:\\Users\\CursosTardes\\anaconda3\\Lib\\site-packages\\selenium\\webdriver\\common\\driver_finder.py:47\u001b[0m, in \u001b[0;36mDriverFinder.get_browser_path\u001b[1;34m(self)\u001b[0m\n\u001b[0;32m     46\u001b[0m \u001b[38;5;28;01mdef\u001b[39;00m \u001b[38;5;21mget_browser_path\u001b[39m(\u001b[38;5;28mself\u001b[39m) \u001b[38;5;241m-\u001b[39m\u001b[38;5;241m>\u001b[39m \u001b[38;5;28mstr\u001b[39m:\n\u001b[1;32m---> 47\u001b[0m     \u001b[38;5;28;01mreturn\u001b[39;00m \u001b[38;5;28mself\u001b[39m\u001b[38;5;241m.\u001b[39m_binary_paths()[\u001b[38;5;124m\"\u001b[39m\u001b[38;5;124mbrowser_path\u001b[39m\u001b[38;5;124m\"\u001b[39m]\n",
      "File \u001b[1;32mc:\\Users\\CursosTardes\\anaconda3\\Lib\\site-packages\\selenium\\webdriver\\common\\driver_finder.py:78\u001b[0m, in \u001b[0;36mDriverFinder._binary_paths\u001b[1;34m(self)\u001b[0m\n\u001b[0;32m     76\u001b[0m \u001b[38;5;28;01mexcept\u001b[39;00m \u001b[38;5;167;01mException\u001b[39;00m \u001b[38;5;28;01mas\u001b[39;00m err:\n\u001b[0;32m     77\u001b[0m     msg \u001b[38;5;241m=\u001b[39m \u001b[38;5;124mf\u001b[39m\u001b[38;5;124m\"\u001b[39m\u001b[38;5;124mUnable to obtain driver for \u001b[39m\u001b[38;5;132;01m{\u001b[39;00mbrowser\u001b[38;5;132;01m}\u001b[39;00m\u001b[38;5;124m\"\u001b[39m\n\u001b[1;32m---> 78\u001b[0m     \u001b[38;5;28;01mraise\u001b[39;00m NoSuchDriverException(msg) \u001b[38;5;28;01mfrom\u001b[39;00m \u001b[38;5;21;01merr\u001b[39;00m\n\u001b[0;32m     79\u001b[0m \u001b[38;5;28;01mreturn\u001b[39;00m \u001b[38;5;28mself\u001b[39m\u001b[38;5;241m.\u001b[39m_paths\n",
      "\u001b[1;31mNoSuchDriverException\u001b[0m: Message: Unable to obtain driver for chrome; For documentation on this error, please visit: https://www.selenium.dev/documentation/webdriver/troubleshooting/errors/driver_location\n"
     ]
    }
   ],
   "source": [
    "from selenium import webdriver\n",
    "from selenium.webdriver.chrome.service import Service\n",
    "\n",
    "# Ruta al chromedriver, asegúrate de actualizar la ruta correcta si es necesario\n",
    "chromedriver_path = r'C:\\path\\to\\chromedriver.exe'\n",
    "service = Service(executable_path=chromedriver_path)\n",
    "\n",
    "driver = webdriver.Chrome(service=service)\n",
    "url = \"https://www1.sedecatastro.gob.es/CYCBienInmueble/OVCBusqueda.aspx\"\n",
    "driver.get(url)\n",
    "\n",
    "coord = driver.find_element_by_link_text(\"COORDENADAS\")\n",
    "coord.click()\n",
    "\n",
    "lat = driver.find_element_by_id(\"ctl00_Contenido_txtLatitud\")\n",
    "lon = driver.find_element_by_id(\"ctl00_Contenido_txtLongitud\")\n",
    "\n",
    "latitud = \"28.2723368\"\n",
    "longitud = \"-16.6600606\"\n",
    "lat.send_keys(latitud)\n",
    "lon.send_keys(longitud)\n",
    "\n",
    "datos = driver.find_element_by_id(\"ctl00_Contenido_btnDatos\")\n",
    "datos.click()\n",
    "\n",
    "# Añadir cualquier paso adicional para extraer datos según sea necesario\n",
    "# driver.quit() para cerrar el navegador al finalizar\n"
   ]
  }
 ],
 "metadata": {
  "kernelspec": {
   "display_name": "base",
   "language": "python",
   "name": "python3"
  },
  "language_info": {
   "codemirror_mode": {
    "name": "ipython",
    "version": 3
   },
   "file_extension": ".py",
   "mimetype": "text/x-python",
   "name": "python",
   "nbconvert_exporter": "python",
   "pygments_lexer": "ipython3",
   "version": "3.11.7"
  }
 },
 "nbformat": 4,
 "nbformat_minor": 2
}
