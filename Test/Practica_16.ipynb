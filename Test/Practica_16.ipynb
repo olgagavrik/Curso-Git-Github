{
 "cells": [
  {
   "cell_type": "code",
   "execution_count": null,
   "metadata": {},
   "outputs": [],
   "source": [
    "# 1 Desarrolle un programa que le pregunte al usuario por la edad y que luego imprima\n",
    "# en pantalla si dicho usuario es menor o mayor de edad"
   ]
  },
  {
   "cell_type": "code",
   "execution_count": 5,
   "metadata": {},
   "outputs": [
    {
     "name": "stdout",
     "output_type": "stream",
     "text": [
      "Eres mayor de edad.\n"
     ]
    }
   ],
   "source": [
    "edad = int(input(\"Por favor, ingresa tu edad: \"))\n",
    "if edad >= 18:\n",
    "    print(\"Eres mayor de edad.\")\n",
    "else:\n",
    "    print(\"Eres menor de edad.\")\n",
    " "
   ]
  },
  {
   "cell_type": "code",
   "execution_count": null,
   "metadata": {},
   "outputs": [],
   "source": [
    "# 2 Escribir un programa que pida al usuario un número entero y que luego imprima en\n",
    "# pantalla si dicho número es o no divisible entre 2"
   ]
  },
  {
   "cell_type": "code",
   "execution_count": 8,
   "metadata": {},
   "outputs": [
    {
     "name": "stdout",
     "output_type": "stream",
     "text": [
      "El número 456 es divisible entre 2.\n"
     ]
    }
   ],
   "source": [
    "numero = int(input('Por favor, ingresa un número entero'))\n",
    "if numero % 2 == 0:\n",
    "    print(f\"El número {numero} es divisible entre 2.\")\n",
    "else:\n",
    "    print(f\"El número {numero} no es divisible entre 2.\")"
   ]
  },
  {
   "cell_type": "code",
   "execution_count": null,
   "metadata": {},
   "outputs": [],
   "source": [
    "# 3 Escriba un programa que pida al usuario dos números enteros y que calcule su\n",
    "# división, indicando si la división es exacta o no"
   ]
  },
  {
   "cell_type": "code",
   "execution_count": 16,
   "metadata": {},
   "outputs": [
    {
     "name": "stdout",
     "output_type": "stream",
     "text": [
      "La división de 125 entre 12 no es exacta y el resultado es 10.416666666666666.\n"
     ]
    }
   ],
   "source": [
    "\n",
    "num1 = int(input(\"Ingresa el número a dividir: \"))\n",
    "num2 = int(input(\"Ingresa el número con el que dividir): \"))\n",
    "if num2 == 0:\n",
    "    print(\"No se puede dividir por cero.\")\n",
    "else:\n",
    "    resultado = num1 / num2\n",
    "    if num1 % num2 == 0:\n",
    "        print(f\"La división de {num1} entre {num2} es exacta y el resultado es {int(resultado)}.\")\n",
    "    else:\n",
    "        print(f\"La división de {num1} entre {num2} no es exacta y el resultado es {resultado}.\")\n",
    "\n"
   ]
  },
  {
   "cell_type": "markdown",
   "metadata": {
    "notebookRunGroups": {
     "groupValue": "2"
    }
   },
   "source": [
    "4 <nb>\n",
    "\n",
    "Dada una variable llamada “year “ con un valor entero, compruebe si dicho año es bisiesto o no lo es. Un año\n",
    " es bisiesto en el Calendario Gregorian, si es divisible entre 4 y no divisible entre 100, o bien si es divisible \n",
    "entre 400.\n",
    "Ejemplo:\n",
    "Entrada: 2008\n",
    "Salida: Es un año bisiesto\n",
    "Usar solo el condicional if (no usar funciones)\n"
   ]
  },
  {
   "cell_type": "code",
   "execution_count": 1,
   "metadata": {},
   "outputs": [
    {
     "name": "stdout",
     "output_type": "stream",
     "text": [
      "El año 1568 es un año bisiesto.\n"
     ]
    }
   ],
   "source": [
    "\n",
    "year = int(input('Ingresa el año: ')) \n",
    "if (year % 400 == 0) or (year % 4 == 0 and year % 100 != 0):\n",
    "    print(f\"El año {year} es un año bisiesto.\")\n",
    "else:\n",
    "    print(f\"El año {year} no es un año bisiesto.\")\n"
   ]
  },
  {
   "cell_type": "markdown",
   "metadata": {},
   "source": [
    "5 <br>\n",
    "Escriba un programa que pida al usuario su año de nacimiento, y que luego imprima en \n",
    "pantalla a que generación pertenece según la siguiente taxonomía: \n",
    "Nombre de Generacion y años:  \n",
    "\n",
    "1930-1948 SILENCIOSA <br>\n",
    "1949-1968 BABY BOOMERS <br>\n",
    "1969-1980 GENERACION X <br>\n",
    "1977-1983 XENNIALS (IGNORAR ESTA PORQUE ES MUY PEQUEÑA) <br>\n",
    "1981-1993 MILLENIALS <br>\n",
    "1994-2010 GENERACION Z <br>\n",
    "2011-2025 GENERACION T\n",
    "\n"
   ]
  },
  {
   "cell_type": "code",
   "execution_count": 4,
   "metadata": {},
   "outputs": [
    {
     "name": "stdout",
     "output_type": "stream",
     "text": [
      "El año que ingresaste no está dentro de los rangos de generaciones definidos.\n"
     ]
    }
   ],
   "source": [
    "\n",
    "\n",
    "año_nacimiento = int(input(\"Por favor, ingresa tu año de nacimiento: \"))\n",
    "        \n",
    "if 1930 <= año_nacimiento <= 1948:\n",
    "    print(\"Perteneces a la Generación Silenciosa.\")\n",
    "elif 1949 <= año_nacimiento <= 1968:\n",
    "    print(\"Perteneces a los 'Baby Boomers'.\")\n",
    "elif 1969 <= año_nacimiento <= 1980:\n",
    "    print(\"Perteneces a la Generación 'X'.\")\n",
    "elif 1981 <= año_nacimiento <= 1993:\n",
    "    print(\"Perteneces a la Generación 'Y' o Millennials.\")\n",
    "elif 1994 <= año_nacimiento <= 2010:\n",
    "    print(\"Perteneces a la Generación 'Z'.\")\n",
    "elif 2011 <= año_nacimiento <= 2025:\n",
    "    print(\"Perteneces a la Generación 'T' (Alfa).\")\n",
    "else:\n",
    "    print(\"El año que ingresaste no está dentro de los rangos de generaciones definidos.\")\n",
    "\n",
    "\n"
   ]
  }
 ],
 "metadata": {
  "kernelspec": {
   "display_name": "base",
   "language": "python",
   "name": "python3"
  },
  "language_info": {
   "codemirror_mode": {
    "name": "ipython",
    "version": 3
   },
   "file_extension": ".py",
   "mimetype": "text/x-python",
   "name": "python",
   "nbconvert_exporter": "python",
   "pygments_lexer": "ipython3",
   "version": "3.11.7"
  }
 },
 "nbformat": 4,
 "nbformat_minor": 2
}
