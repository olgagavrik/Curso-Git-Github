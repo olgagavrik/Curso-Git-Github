{
 "cells": [
  {
   "cell_type": "markdown",
   "metadata": {},
   "source": [
    "#### Practica # 21 - Tuplas"
   ]
  },
  {
   "cell_type": "markdown",
   "metadata": {},
   "source": [
    "#### 1.\n",
    "Crea una tupla con números enteros con algunos de ellos repetidos, pide un número por teclado e indica cuántas veces se repite si estuviese en la tupla."
   ]
  },
  {
   "cell_type": "code",
   "execution_count": 6,
   "metadata": {},
   "outputs": [
    {
     "name": "stdout",
     "output_type": "stream",
     "text": [
      "El número 4 se repite 3 veces en la tupla.\n"
     ]
    }
   ],
   "source": [
    "numeros_enteros = (1, 2, 3, 4, 5, 1, 2, 3, 4, 5, 6, 7, 8, 2, 3, 4)\n",
    "\n",
    "numero_usuario = int(input(\"Introduce un número para ver cuántas veces se repite en la tupla: \"))\n",
    "\n",
    "repeticiones = numeros_enteros.count(numero_usuario)\n",
    "\n",
    "if repeticiones > 0:\n",
    "    print(f\"El número {numero_usuario} se repite {repeticiones} veces en la tupla.\")\n",
    "else:\n",
    "    print(f\"El número {numero_usuario} no está en la tupla.\")\n"
   ]
  },
  {
   "cell_type": "markdown",
   "metadata": {},
   "source": [
    "#### 2.\n",
    "Crea una tupla con números e indica el número con mayor valor y el que menor tenga.\n"
   ]
  },
  {
   "cell_type": "code",
   "execution_count": 7,
   "metadata": {},
   "outputs": [
    {
     "name": "stdout",
     "output_type": "stream",
     "text": [
      "El número máximo en la tupla es 45\n",
      "El número mínimo en la tupla es -89\n"
     ]
    }
   ],
   "source": [
    "numeros = (41, 45, 15, 23, -51, -74, -89, 5, 6, 15, 13)\n",
    "maximo = max(numeros)\n",
    "minimo = min(numeros)\n",
    "\n",
    "print(f\"El número máximo en la tupla es {maximo}\")\n",
    "print(f\"El número mínimo en la tupla es {minimo}\")"
   ]
  },
  {
   "cell_type": "markdown",
   "metadata": {},
   "source": [
    "#### 3.\n",
    "Crea una tupla con valores ya predefinidos del 1 al 10, pide un índice por teclado y muestra los valores de la tupla."
   ]
  },
  {
   "cell_type": "code",
   "execution_count": 8,
   "metadata": {},
   "outputs": [
    {
     "name": "stdout",
     "output_type": "stream",
     "text": [
      "El valor en el índice 8 es 9\n"
     ]
    }
   ],
   "source": [
    "valores = tuple(range(1, 11))\n",
    "\n",
    "indice = int(input(\"Introduce un índice entre 0 y 9: \"))\n",
    "\n",
    "if 0 <= indice < len(valores):\n",
    "       print(f\"El valor en el índice {indice} es {valores[indice]}\")\n",
    "else:\n",
    "    print(\"Índice fuera de rango.\")\n"
   ]
  },
  {
   "cell_type": "markdown",
   "metadata": {},
   "source": [
    "#### 4.\n",
    "Escribe un código donde se le pide al usuario almacenar en una tupla el día, mes y año (todos en formato entero) y luego que imprima dicha fecha en el formato: \"03/07/2023\"."
   ]
  },
  {
   "cell_type": "code",
   "execution_count": 12,
   "metadata": {},
   "outputs": [
    {
     "name": "stdout",
     "output_type": "stream",
     "text": [
      "31/05/2024\n"
     ]
    }
   ],
   "source": [
    "dia = int(input(\"Ingresa el día: \"))\n",
    "mes = int(input(\"Ingresa el mes: \"))\n",
    "año = int(input(\"Ingresa el año: \"))\n",
    "\n",
    "fecha = (dia, mes, año)\n",
    "\n",
    "print(f\"{fecha[0]:02d}/{fecha[1]:02d}/{fecha[2]}\")\n"
   ]
  },
  {
   "cell_type": "markdown",
   "metadata": {},
   "source": [
    "#### 5.\n",
    "Definir una tupla con tres valores enteros. Convertir el contenido de la tupla a tipo lista. Modificar la lista y luego convertir la lista en tupla."
   ]
  },
  {
   "cell_type": "code",
   "execution_count": 13,
   "metadata": {},
   "outputs": [
    {
     "name": "stdout",
     "output_type": "stream",
     "text": [
      "(10, 15, 20, 40)\n"
     ]
    }
   ],
   "source": [
    "tupla_original = (10, 15, 20)\n",
    "\n",
    "lista = list(tupla_original)\n",
    "\n",
    "lista.append(40)\n",
    "\n",
    "tupla_modificada = tuple(lista)\n",
    "\n",
    "print(tupla_modificada)\n"
   ]
  },
  {
   "cell_type": "markdown",
   "metadata": {},
   "source": [
    "#### 6.\n",
    "Crear una tupla y luego imprimirla en orden inverso en otra variable (otra tupla)."
   ]
  },
  {
   "cell_type": "code",
   "execution_count": 15,
   "metadata": {},
   "outputs": [
    {
     "name": "stdout",
     "output_type": "stream",
     "text": [
      "Tupla original: (14, 16, 18, 20)\n",
      "Tupla inversa: (20, 18, 16, 14)\n"
     ]
    }
   ],
   "source": [
    "tupla = (14, 16, 18, 20)\n",
    "\n",
    "tupla_inversa = tupla[::-1]\n",
    "\n",
    "print(\"Tupla original:\", tupla)\n",
    "\n",
    "print(\"Tupla inversa:\", tupla_inversa)\n"
   ]
  },
  {
   "cell_type": "markdown",
   "metadata": {},
   "source": [
    "#### 7. Dada la tupla:\n",
    "\n",
    "tuple1 = (\"Orange\", [10, 20, 30], (5, 15, 25))\n",
    "\n",
    "Acceder al valor 20 e imprimir en una nueva variable"
   ]
  },
  {
   "cell_type": "code",
   "execution_count": 18,
   "metadata": {},
   "outputs": [
    {
     "name": "stdout",
     "output_type": "stream",
     "text": [
      "El valor es: 20\n"
     ]
    }
   ],
   "source": [
    "tuple1 = (\"Orange\", [10, 20, 30], (5, 15, 25))\n",
    "\n",
    "# Acceder al valor '20' que está en la lista, la cual es el segundo elemento de la tupla\n",
    "nueva_var = tuple1[1][1]\n",
    "\n",
    "print(\"El valor es:\", nueva_var)\n"
   ]
  },
  {
   "cell_type": "markdown",
   "metadata": {},
   "source": [
    "#### 8. \n",
    "Escriba un programa para descomprimir la siguiente tupla en cuatro variables e imprimir cada variable.\n",
    "\n",
    "tuple1 = (10, 20, 30, 40)\n"
   ]
  },
  {
   "cell_type": "code",
   "execution_count": 19,
   "metadata": {},
   "outputs": [
    {
     "name": "stdout",
     "output_type": "stream",
     "text": [
      "a: 10\n",
      "b: 20\n",
      "c: 30\n",
      "d: 40\n"
     ]
    }
   ],
   "source": [
    "tuple1 = (10, 20, 30, 40)\n",
    "\n",
    "# Descomprimir la tupla en cuatro variables\n",
    "a, b, c, d = tuple1\n",
    "\n",
    "print(\"a:\", a)  \n",
    "print(\"b:\", b) \n",
    "print(\"c:\", c)  \n",
    "print(\"d:\", d)  "
   ]
  },
  {
   "cell_type": "markdown",
   "metadata": {},
   "source": [
    "#### 9.\n",
    " Intercambiar dos tuplas en Python dados:\n",
    "\n",
    "tuple1 = (11, 22)\n",
    "tuple2 = (99, 88)\n"
   ]
  },
  {
   "cell_type": "code",
   "execution_count": 20,
   "metadata": {},
   "outputs": [
    {
     "name": "stdout",
     "output_type": "stream",
     "text": [
      "tuple1: (99, 88)\n",
      "tuple2: (11, 22)\n"
     ]
    }
   ],
   "source": [
    "tuple1 = (11, 22)\n",
    "tuple2 = (99, 88)\n",
    "\n",
    "# Intercambiar las tuplas\n",
    "tuple1, tuple2 = tuple2, tuple1\n",
    "\n",
    "print(\"tuple1:\", tuple1)  \n",
    "print(\"tuple2:\", tuple2) \n"
   ]
  },
  {
   "cell_type": "markdown",
   "metadata": {},
   "source": [
    "#### 10. \n",
    "¿Cuántas veces aparece 777 en la siguiente tupla? Escribir código\n",
    "\n",
    "tt = (55, 6, 777, 54, 6, 76, 7777, 1, 777, 2, 6)"
   ]
  },
  {
   "cell_type": "code",
   "execution_count": 21,
   "metadata": {},
   "outputs": [
    {
     "name": "stdout",
     "output_type": "stream",
     "text": [
      "El número 777 aparece 2 veces en la tupla.\n"
     ]
    }
   ],
   "source": [
    "tt = (55, 6, 777, 54, 6, 76, 7777, 1, 777, 2, 6)\n",
    "\n",
    "contador = tt.count(777)\n",
    "\n",
    "print(\"El número 777 aparece\", contador, \"veces en la tupla.\")\n"
   ]
  },
  {
   "cell_type": "markdown",
   "metadata": {},
   "source": [
    "#### 11. \n",
    "¿Cuál es la suma de todos los números en la siguiente tupla?\n",
    "Escribir código\n",
    "\n",
    "tt = (42, 1092, 11, 88, 65, 2, 6)"
   ]
  },
  {
   "cell_type": "code",
   "execution_count": 28,
   "metadata": {},
   "outputs": [
    {
     "name": "stdout",
     "output_type": "stream",
     "text": [
      "La suma de todos los numeros es:   1306\n"
     ]
    }
   ],
   "source": [
    "tt = (42, 1092, 11, 88, 65, 2, 6)\n",
    "\n",
    "suma = sum(tt)\n",
    "\n",
    "print(\"La suma de todos los numeros es:  \", suma)"
   ]
  },
  {
   "cell_type": "markdown",
   "metadata": {},
   "source": [
    "#### 12.\n",
    " ¿Cuáles son los valores mínimo y máximo de la siguiente tupla? Escribir código\n",
    "\n",
    "tt = (42, 1092, 11, 88, 65, 2, 6)\n"
   ]
  },
  {
   "cell_type": "code",
   "execution_count": 29,
   "metadata": {},
   "outputs": [
    {
     "name": "stdout",
     "output_type": "stream",
     "text": [
      "Valor minimo es:  2\n",
      "Valor maximo es:  1092\n"
     ]
    }
   ],
   "source": [
    "valor_min = min(tt)\n",
    "\n",
    "valor_max = max(tt)\n",
    "\n",
    "print(\"Valor minimo es: \", valor_min)\n",
    "print(\"Valor maximo es: \", valor_max)"
   ]
  },
  {
   "cell_type": "markdown",
   "metadata": {},
   "source": [
    "\n",
    "#### 13.\n",
    " Escriba un programa para aceptar el nombre de cinco frutas por parte del usuario, almacenarlo en una tupla y luego imprimir.\n"
   ]
  },
  {
   "cell_type": "code",
   "execution_count": 32,
   "metadata": {},
   "outputs": [
    {
     "name": "stdout",
     "output_type": "stream",
     "text": [
      "('fresa', 'mango', 'platano', 'ciruela', 'melocoton')\n"
     ]
    }
   ],
   "source": [
    "nombres_frutas = []\n",
    "\n",
    "for i in range(5):\n",
    "    fruta = input(f\"Introduce el nombre de la fruta {i + 1}: \")\n",
    "    nombres_frutas.append(fruta)\n",
    "\n",
    "# Convertir la lista en una tupla\n",
    "tupla_frutas = tuple(nombres_frutas)\n",
    "\n",
    "print( tupla_frutas)\n"
   ]
  },
  {
   "cell_type": "markdown",
   "metadata": {},
   "source": [
    "\n",
    "#### 14. \n",
    "Considere la siguiente tupla y escriba el código para las siguientes declaraciones:\n",
    "\n",
    "T1 = (12, 3, 45, 'Hockey', 'Anil', ('a', 'b'))\n",
    "\n",
    "a) Imprimir el primer elemento de T1 <br>\n",
    "b) Imprimir el último elemento de T1<br>\n",
    "c) Imprimir T1 en orden inverso<br>\n",
    "d) Imprimir 'Anil' desde la tupla T1<br>\n",
    "e) Imprimir 'b' de la tupla T1\n",
    "\n"
   ]
  },
  {
   "cell_type": "code",
   "execution_count": 36,
   "metadata": {},
   "outputs": [
    {
     "name": "stdout",
     "output_type": "stream",
     "text": [
      "a) Primer elemento de t1: 12\n",
      "b) Último elemento de t1: ('a', 'b')\n",
      "c) t1 en orden inverso: (('a', 'b'), 'Anil', 'Hockey', 45, 3, 12)\n",
      "d) 'Anil' desde t1: Anil\n",
      "e) 'b' de t1: b\n"
     ]
    }
   ],
   "source": [
    "t1 = (12, 3, 45, 'Hockey', 'Anil', ('a', 'b'))\n",
    "\n",
    "print(\"a) Primer elemento de t1:\", t1[0])\n",
    "\n",
    "print(\"b) Último elemento de t1:\", t1[-1])\n",
    "\n",
    "print(\"c) t1 en orden inverso:\", t1[::-1])\n",
    "\n",
    "print(\"d) 'Anil' desde t1:\", t1[4])\n",
    "\n",
    "print(\"e) 'b' de t1:\", t1[5][1])\n"
   ]
  },
  {
   "cell_type": "markdown",
   "metadata": {},
   "source": [
    "#### 15.\n",
    " Escriba un programa que le pida a un usuario una cadena (string), luego convertirlo a una tupla e imprimir."
   ]
  },
  {
   "cell_type": "code",
   "execution_count": 38,
   "metadata": {},
   "outputs": [
    {
     "name": "stdout",
     "output_type": "stream",
     "text": [
      "La tupla de caracteres es: ('a', 'h', 'j', 'f', 'k', 'd', 'd', 'l', 'd', 'd')\n"
     ]
    }
   ],
   "source": [
    "cadena_usuario = input(\"Introduce una cadena de texto: \")\n",
    "\n",
    "tupla_caracteres = tuple(cadena_usuario)\n",
    "\n",
    "print(\"La tupla de caracteres es:\", tupla_caracteres)\n"
   ]
  }
 ],
 "metadata": {
  "kernelspec": {
   "display_name": "base",
   "language": "python",
   "name": "python3"
  },
  "language_info": {
   "codemirror_mode": {
    "name": "ipython",
    "version": 3
   },
   "file_extension": ".py",
   "mimetype": "text/x-python",
   "name": "python",
   "nbconvert_exporter": "python",
   "pygments_lexer": "ipython3",
   "version": "3.11.7"
  }
 },
 "nbformat": 4,
 "nbformat_minor": 2
}
