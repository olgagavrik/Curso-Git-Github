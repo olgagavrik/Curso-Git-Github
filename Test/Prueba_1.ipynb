{
 "cells": [
  {
   "cell_type": "code",
   "execution_count": 1,
   "id": "9ac88ef2-af96-4356-803f-6cd83b34bcf7",
   "metadata": {},
   "outputs": [
    {
     "name": "stdout",
     "output_type": "stream",
     "text": [
      "4\n"
     ]
    }
   ],
   "source": [
    "print(2+2)"
   ]
  },
  {
   "cell_type": "markdown",
   "id": "9378077c-7f23-493a-8ea0-382a5a0d2d85",
   "metadata": {},
   "source": [
    "# Prueba\n",
    "## Sección\n",
    "### Subsectión"
   ]
  },
  {
   "cell_type": "code",
   "execution_count": null,
   "id": "5fe52ba3-b169-41fe-9acc-1633fb5862bb",
   "metadata": {},
   "outputs": [],
   "source": []
  }
 ],
 "metadata": {
  "kernelspec": {
   "display_name": "Python 3 (ipykernel)",
   "language": "python",
   "name": "python3"
  },
  "language_info": {
   "codemirror_mode": {
    "name": "ipython",
    "version": 3
   },
   "file_extension": ".py",
   "mimetype": "text/x-python",
   "name": "python",
   "nbconvert_exporter": "python",
   "pygments_lexer": "ipython3",
   "version": "3.11.9"
  }
 },
 "nbformat": 4,
 "nbformat_minor": 5
}
