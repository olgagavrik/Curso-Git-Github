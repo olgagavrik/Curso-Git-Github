{
 "cells": [
  {
   "cell_type": "markdown",
   "metadata": {},
   "source": [
    "1 Escriba un programa que genere los siguientes resultados a partir del ‘string’: Shenanigan"
   ]
  },
  {
   "cell_type": "code",
   "execution_count": 2,
   "metadata": {},
   "outputs": [
    {
     "data": {
      "text/plain": [
       "'Sh'"
      ]
     },
     "execution_count": 2,
     "metadata": {},
     "output_type": "execute_result"
    }
   ],
   "source": [
    "\n",
    "str = 'Shenanigan'\n",
    "# Sh\n",
    "str[0:2]\n",
    "   "
   ]
  },
  {
   "cell_type": "code",
   "execution_count": 4,
   "metadata": {},
   "outputs": [
    {
     "data": {
      "text/plain": [
       "'an'"
      ]
     },
     "execution_count": 4,
     "metadata": {},
     "output_type": "execute_result"
    }
   ],
   "source": [
    "# an\n",
    "str[4:6]"
   ]
  },
  {
   "cell_type": "code",
   "execution_count": 5,
   "metadata": {},
   "outputs": [
    {
     "data": {
      "text/plain": [
       "'enanigan'"
      ]
     },
     "execution_count": 5,
     "metadata": {},
     "output_type": "execute_result"
    }
   ],
   "source": [
    "# enanigan\n",
    "str[2:]"
   ]
  },
  {
   "cell_type": "code",
   "execution_count": 6,
   "metadata": {},
   "outputs": [
    {
     "data": {
      "text/plain": [
       "'Shenan'"
      ]
     },
     "execution_count": 6,
     "metadata": {},
     "output_type": "execute_result"
    }
   ],
   "source": [
    "# Shenan\n",
    "str[0:6]"
   ]
  },
  {
   "cell_type": "code",
   "execution_count": 8,
   "metadata": {},
   "outputs": [
    {
     "data": {
      "text/plain": [
       "'Shenanigan'"
      ]
     },
     "execution_count": 8,
     "metadata": {},
     "output_type": "execute_result"
    }
   ],
   "source": [
    "# Shenanigan\n",
    "str[0:]"
   ]
  },
  {
   "cell_type": "code",
   "execution_count": 9,
   "metadata": {},
   "outputs": [
    {
     "data": {
      "text/plain": [
       "'Seaia'"
      ]
     },
     "execution_count": 9,
     "metadata": {},
     "output_type": "execute_result"
    }
   ],
   "source": [
    "# Seaia\n",
    "str[0: :2]"
   ]
  },
  {
   "cell_type": "code",
   "execution_count": 10,
   "metadata": {},
   "outputs": [
    {
     "data": {
      "text/plain": [
       "'Snin'"
      ]
     },
     "execution_count": 10,
     "metadata": {},
     "output_type": "execute_result"
    }
   ],
   "source": [
    "# Snin\n",
    "str[0: :3]"
   ]
  },
  {
   "cell_type": "code",
   "execution_count": 11,
   "metadata": {},
   "outputs": [
    {
     "data": {
      "text/plain": [
       "'Saa'"
      ]
     },
     "execution_count": 11,
     "metadata": {},
     "output_type": "execute_result"
    }
   ],
   "source": [
    "# Saa\n",
    "str[0: :4]"
   ]
  },
  {
   "cell_type": "code",
   "execution_count": 13,
   "metadata": {},
   "outputs": [
    {
     "name": "stdout",
     "output_type": "stream",
     "text": [
      "ShenaniganType\n"
     ]
    }
   ],
   "source": [
    "# ShenaiganType\n",
    "print(str + 'Type')"
   ]
  },
  {
   "cell_type": "code",
   "execution_count": 14,
   "metadata": {},
   "outputs": [
    {
     "name": "stdout",
     "output_type": "stream",
     "text": [
      "ShenanWabbite\n"
     ]
    }
   ],
   "source": [
    "# ShenanWabbite\n",
    "print(str[0:6] + 'Wabbite')"
   ]
  },
  {
   "cell_type": "markdown",
   "metadata": {},
   "source": [
    "2 Escriba un programa para convertir la siguiente cadena:\n",
    "‘Visita la web noexiste.com para mayor información sobre programación’\n",
    "En esta:\n",
    "‘Visita La Web Noexiste.com Para Mayor Información Sobre Programación’"
   ]
  },
  {
   "cell_type": "code",
   "execution_count": 20,
   "metadata": {},
   "outputs": [
    {
     "name": "stdout",
     "output_type": "stream",
     "text": [
      "Visita La Web Noexiste.com Para Mayor Información Sobre Programación\n"
     ]
    }
   ],
   "source": [
    "# Cadena de entrada\n",
    "input_str = 'Visita la web noexiste.com para mayor información sobre programación'\n",
    "\n",
    "# Convertir la cadena\n",
    "words = input_str.split()\n",
    "capitalized_words = [word.capitalize() for word in words]\n",
    "output_str = ' '.join(capitalized_words)\n",
    "\n",
    "# Imprimir el resultado\n",
    "print(output_str)\n",
    "\n",
    "\n"
   ]
  },
  {
   "cell_type": "markdown",
   "metadata": {},
   "source": [
    "3 Escriba un programa para convertir la siguiente cadena:\n",
    "‘Light travels faster than sound. This is why some people appear bright until you hear them speak ’\n",
    "En esta:\n",
    "‘LIGHT travels faster than SOUND. This is why some people appear bright until you hear them speak"
   ]
  },
  {
   "cell_type": "code",
   "execution_count": 21,
   "metadata": {},
   "outputs": [
    {
     "name": "stdout",
     "output_type": "stream",
     "text": [
      "LIGHT travels faster than SOUND. This is why some people appear bright until you hear them speak\n"
     ]
    }
   ],
   "source": [
    "# Cadena de entrada\n",
    "input_str = 'Light travels faster than sound. This is why some people appear bright until you hear them speak'\n",
    "\n",
    "# Convertir la cadena\n",
    "output_str = input_str.replace('Light', 'LIGHT').replace('sound', 'SOUND')\n",
    "\n",
    "# Imprimir el resultado\n",
    "print(output_str)\n"
   ]
  },
  {
   "cell_type": "markdown",
   "metadata": {},
   "source": [
    "4 ¿Cuál será la salida del siguiente programa?\n",
    "\n",
    "s = 'HumptyDumpty'\n",
    "\n",
    "print('s=', s)                       s = HumptyDumpty <br>\n",
    "print(s.isalpha())                  True <br>\n",
    "print(s.isdigit())                  False <br>\n",
    "print(s.isalnum())                  True <br>\n",
    "print(s.islower())                  False <br>\n",
    "print(s.isupper())                  False <br>\n",
    "print(s.startswith('Hump'))         True <br>\n",
    "print(s.endswith('Dump'))           False <br>\n"
   ]
  },
  {
   "cell_type": "code",
   "execution_count": 3,
   "metadata": {},
   "outputs": [
    {
     "name": "stdout",
     "output_type": "stream",
     "text": [
      "TraPoete\n"
     ]
    }
   ],
   "source": [
    "# 5 Extraiga la subcadena: 'TraPoete' de la cadena 'ThreadProperties'\n",
    "\n",
    "str = 'ThreadProperties'\n",
    "substring = str[0::2]\n",
    "print(substring)"
   ]
  },
  {
   "cell_type": "code",
   "execution_count": 4,
   "metadata": {},
   "outputs": [
    {
     "name": "stdout",
     "output_type": "stream",
     "text": [
      "49889584\n",
      "<class 'str'>\n"
     ]
    }
   ],
   "source": [
    "# 6 ¿Cuál será el resultado del siguiente fragmento de código?\n",
    "print(id('imaginary')) \n",
    "print(type('imaginary'))\n"
   ]
  },
  {
   "cell_type": "code",
   "execution_count": 6,
   "metadata": {},
   "outputs": [
    {
     "name": "stdout",
     "output_type": "stream",
     "text": [
      "['C:', 'Users', 'Tajamar', 'Documents']\n",
      "('C:', '\\\\', 'Users\\\\Tajamar\\\\Documents')\n"
     ]
    }
   ],
   "source": [
    "# 7 ¿Cuál será el resultado del siguiente fragmento de código?\n",
    "\n",
    "s3 = 'C:\\\\Users\\\\Tajamar\\\\Documents'\n",
    "print(s3.split('\\\\'))\n",
    "print(s3.partition('\\\\'))"
   ]
  },
  {
   "cell_type": "code",
   "execution_count": null,
   "metadata": {},
   "outputs": [],
   "source": [
    "#8 Indique si la siguiente afirmación es verdadera o falsa: Las cadenas en Python son iterables, troceables e\n",
    "# inmutables. Explicar en caso de que sea falsa"
   ]
  },
  {
   "cell_type": "markdown",
   "metadata": {},
   "source": [
    "Iterables: Las cadenas en Python son iterables, lo que significa que puedes recorrer cada carácter en la cadena utilizando un bucle, como un bucle for. \n",
    "\n",
    "Troceables (Sliceable): Las cadenas pueden ser troceadas, lo que permite obtener subcadenas usando índices especificados. \n",
    "\n",
    "Inmutables: Las cadenas son inmutables, lo que significa que una vez que una cadena es creada, sus caracteres no pueden ser modificados. Cualquier operación que parezca modificar una cadena en realidad crea una nueva cadena. \n",
    "\n",
    "Dado que todas estas características son verdaderas para las cadenas en Python, la afirmación es correcta.\n",
    "\n",
    "TRUE"
   ]
  }
 ],
 "metadata": {
  "kernelspec": {
   "display_name": "Python 3.6.8 64-bit",
   "language": "python",
   "name": "python3"
  },
  "language_info": {
   "codemirror_mode": {
    "name": "ipython",
    "version": 3
   },
   "file_extension": ".py",
   "mimetype": "text/x-python",
   "name": "python",
   "nbconvert_exporter": "python",
   "pygments_lexer": "ipython3",
   "version": "3.6.8"
  },
  "vscode": {
   "interpreter": {
    "hash": "0664568eec612509e3f4f9ca054325288895e1bf42fd6b6ec863d622dc6e339a"
   }
  }
 },
 "nbformat": 4,
 "nbformat_minor": 2
}
