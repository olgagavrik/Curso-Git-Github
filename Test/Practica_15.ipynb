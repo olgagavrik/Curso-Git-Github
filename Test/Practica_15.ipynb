{
 "cells": [
  {
   "cell_type": "markdown",
   "metadata": {},
   "source": [
    "1 Escriba un programa que genere los siguientes resultados a partir del ‘string’: Shenanigan"
   ]
  },
  {
   "cell_type": "code",
   "execution_count": 2,
   "metadata": {},
   "outputs": [
    {
     "data": {
      "text/plain": [
       "'Sh'"
      ]
     },
     "execution_count": 2,
     "metadata": {},
     "output_type": "execute_result"
    }
   ],
   "source": [
    "\n",
    "str = 'Shenanigan'\n",
    "# Sh\n",
    "str[0:2]\n",
    "   "
   ]
  },
  {
   "cell_type": "code",
   "execution_count": 4,
   "metadata": {},
   "outputs": [
    {
     "data": {
      "text/plain": [
       "'an'"
      ]
     },
     "execution_count": 4,
     "metadata": {},
     "output_type": "execute_result"
    }
   ],
   "source": [
    "# an\n",
    "str[4:6]"
   ]
  },
  {
   "cell_type": "code",
   "execution_count": 5,
   "metadata": {},
   "outputs": [
    {
     "data": {
      "text/plain": [
       "'enanigan'"
      ]
     },
     "execution_count": 5,
     "metadata": {},
     "output_type": "execute_result"
    }
   ],
   "source": [
    "# enanigan\n",
    "str[2:]"
   ]
  },
  {
   "cell_type": "code",
   "execution_count": 6,
   "metadata": {},
   "outputs": [
    {
     "data": {
      "text/plain": [
       "'Shenan'"
      ]
     },
     "execution_count": 6,
     "metadata": {},
     "output_type": "execute_result"
    }
   ],
   "source": [
    "# Shenan\n",
    "str[0:6]"
   ]
  },
  {
   "cell_type": "code",
   "execution_count": 8,
   "metadata": {},
   "outputs": [
    {
     "data": {
      "text/plain": [
       "'Shenanigan'"
      ]
     },
     "execution_count": 8,
     "metadata": {},
     "output_type": "execute_result"
    }
   ],
   "source": [
    "# Shenanigan\n",
    "str[0:]"
   ]
  },
  {
   "cell_type": "code",
   "execution_count": 9,
   "metadata": {},
   "outputs": [
    {
     "data": {
      "text/plain": [
       "'Seaia'"
      ]
     },
     "execution_count": 9,
     "metadata": {},
     "output_type": "execute_result"
    }
   ],
   "source": [
    "# Seaia\n",
    "str[0: :2]"
   ]
  },
  {
   "cell_type": "code",
   "execution_count": 10,
   "metadata": {},
   "outputs": [
    {
     "data": {
      "text/plain": [
       "'Snin'"
      ]
     },
     "execution_count": 10,
     "metadata": {},
     "output_type": "execute_result"
    }
   ],
   "source": [
    "# Snin\n",
    "str[0: :3]"
   ]
  },
  {
   "cell_type": "code",
   "execution_count": 11,
   "metadata": {},
   "outputs": [
    {
     "data": {
      "text/plain": [
       "'Saa'"
      ]
     },
     "execution_count": 11,
     "metadata": {},
     "output_type": "execute_result"
    }
   ],
   "source": [
    "# Saa\n",
    "str[0: :4]"
   ]
  },
  {
   "cell_type": "code",
   "execution_count": 13,
   "metadata": {},
   "outputs": [
    {
     "name": "stdout",
     "output_type": "stream",
     "text": [
      "ShenaniganType\n"
     ]
    }
   ],
   "source": [
    "# ShenaiganType\n",
    "print(str + 'Type')"
   ]
  },
  {
   "cell_type": "code",
   "execution_count": 14,
   "metadata": {},
   "outputs": [
    {
     "name": "stdout",
     "output_type": "stream",
     "text": [
      "ShenanWabbite\n"
     ]
    }
   ],
   "source": [
    "# ShenanWabbite\n",
    "print(str[0:6] + 'Wabbite')"
   ]
  },
  {
   "cell_type": "markdown",
   "metadata": {},
   "source": [
    "2 Escriba un programa para convertir la siguiente cadena:\n",
    "‘Visita la web noexiste.com para mayor información sobre programación’\n",
    "En esta:\n",
    "‘Visita La Web Noexiste.com Para Mayor Información Sobre Programación’"
   ]
  },
  {
   "cell_type": "code",
   "execution_count": 20,
   "metadata": {},
   "outputs": [
    {
     "name": "stdout",
     "output_type": "stream",
     "text": [
      "Visita La Web Noexiste.com Para Mayor Información Sobre Programación\n"
     ]
    }
   ],
   "source": [
    "# Cadena de entrada\n",
    "input_str = 'Visita la web noexiste.com para mayor información sobre programación'\n",
    "\n",
    "# Convertir la cadena\n",
    "words = input_str.split()\n",
    "capitalized_words = [word.capitalize() for word in words]\n",
    "output_str = ' '.join(capitalized_words)\n",
    "\n",
    "# Imprimir el resultado\n",
    "print(output_str)\n",
    "\n",
    "\n"
   ]
  },
  {
   "cell_type": "markdown",
   "metadata": {},
   "source": [
    "3 Escriba un programa para convertir la siguiente cadena:\n",
    "‘Light travels faster than sound. This is why some people appear bright until you hear them speak ’\n",
    "En esta:\n",
    "‘LIGHT travels faster than SOUND. This is why some people appear bright until you hear them speak"
   ]
  },
  {
   "cell_type": "code",
   "execution_count": 21,
   "metadata": {},
   "outputs": [
    {
     "name": "stdout",
     "output_type": "stream",
     "text": [
      "LIGHT travels faster than SOUND. This is why some people appear bright until you hear them speak\n"
     ]
    }
   ],
   "source": [
    "# Cadena de entrada\n",
    "input_str = 'Light travels faster than sound. This is why some people appear bright until you hear them speak'\n",
    "\n",
    "# Convertir la cadena\n",
    "output_str = input_str.replace('Light', 'LIGHT').replace('sound', 'SOUND')\n",
    "\n",
    "# Imprimir el resultado\n",
    "print(output_str)\n"
   ]
  },
  {
   "cell_type": "markdown",
   "metadata": {},
   "source": [
    "4 ¿Cuál será la salida del siguiente programa?\n",
    "\n",
    "s = 'HumptyDumpty'\n",
    "\n",
    "print('s=', s)                       s = HumptyDumpty <br>\n",
    "print(s.isalpha())                  True <br>\n",
    "print(s.isdigit())                  False <br>\n",
    "print(s.isalnum())                  True <br>\n",
    "print(s.islower())                  False <br>\n",
    "print(s.isupper())                  False <br>\n",
    "print(s.startswith('Hump'))         True <br>\n",
    "print(s.endswith('Dump'))           False <br>\n"
   ]
  },
  {
   "cell_type": "code",
   "execution_count": 3,
   "metadata": {},
   "outputs": [
    {
     "name": "stdout",
     "output_type": "stream",
     "text": [
      "TraPoete\n"
     ]
    }
   ],
   "source": [
    "# 5 Extraiga la subcadena: 'TraPoete' de la cadena 'ThreadProperties'\n",
    "\n",
    "str = 'ThreadProperties'\n",
    "substring = str[0::2]\n",
    "print(substring)"
   ]
  },
  {
   "cell_type": "code",
   "execution_count": 4,
   "metadata": {},
   "outputs": [
    {
     "name": "stdout",
     "output_type": "stream",
     "text": [
      "49889584\n",
      "<class 'str'>\n"
     ]
    }
   ],
   "source": [
    "# 6 ¿Cuál será el resultado del siguiente fragmento de código?\n",
    "print(id('imaginary')) \n",
    "print(type('imaginary'))\n"
   ]
  },
  {
   "cell_type": "code",
   "execution_count": 6,
   "metadata": {},
   "outputs": [
    {
     "name": "stdout",
     "output_type": "stream",
     "text": [
      "['C:', 'Users', 'Tajamar', 'Documents']\n",
      "('C:', '\\\\', 'Users\\\\Tajamar\\\\Documents')\n"
     ]
    }
   ],
   "source": [
    "# 7 ¿Cuál será el resultado del siguiente fragmento de código?\n",
    "\n",
    "s3 = 'C:\\\\Users\\\\Tajamar\\\\Documents'\n",
    "print(s3.split('\\\\'))\n",
    "print(s3.partition('\\\\'))"
   ]
  },
  {
   "cell_type": "code",
   "execution_count": null,
   "metadata": {},
   "outputs": [],
   "source": [
    "#8 Indique si la siguiente afirmación es verdadera o falsa: Las cadenas en Python son iterables, troceables e\n",
    "# inmutables. Explicar en caso de que sea falsa"
   ]
  },
  {
   "cell_type": "markdown",
   "metadata": {},
   "source": [
    "Iterables: Las cadenas en Python son iterables, lo que significa que puedes recorrer cada carácter en la cadena utilizando un bucle, como un bucle for. \n",
    "\n",
    "Troceables (Sliceable): Las cadenas pueden ser troceadas, lo que permite obtener subcadenas usando índices especificados. \n",
    "\n",
    "Inmutables: Las cadenas son inmutables, lo que significa que una vez que una cadena es creada, sus caracteres no pueden ser modificados. Cualquier operación que parezca modificar una cadena en realidad crea una nueva cadena. \n",
    "\n",
    "Dado que todas estas características son verdaderas para las cadenas en Python, la afirmación es correcta.\n",
    "\n",
    "TRUE"
   ]
  },
  {
   "cell_type": "code",
   "execution_count": 7,
   "metadata": {},
   "outputs": [
    {
     "name": "stdout",
     "output_type": "stream",
     "text": [
      "Flanked by spaces on either side\n"
     ]
    }
   ],
   "source": [
    "#9 ¿Cómo eliminar los espacios a ambos lados de la cadena?\n",
    "str = '    Flanked by spaces on either side    '\n",
    "cleaned_str = str.strip()\n",
    "print(cleaned_str)\n"
   ]
  },
  {
   "cell_type": "code",
   "execution_count": 8,
   "metadata": {},
   "outputs": [
    {
     "name": "stdout",
     "output_type": "stream",
     "text": [
      "128026360 128026360 128026360\n"
     ]
    }
   ],
   "source": [
    "#10 ¿Cuál será el resultado del siguiente fragmento de código?\n",
    "s1 = s2 =s3 = 'Hello'\n",
    "print(id(s1), id(s2), id(s3))"
   ]
  },
  {
   "cell_type": "code",
   "execution_count": 19,
   "metadata": {},
   "outputs": [],
   "source": [
    "# 11 Haga coincidir los códigos con sus respectivas salidas \n",
    "# con la variable msg = ‘Keep yourself warm’\n",
    "\n",
    "msg = 'Keep yourself warm'\n",
    "# a) msg.partition(' ')           8  ('Keep', ' ', 'yourself warm')\n",
    "# b) msg.split(' ')               7  ('Keep', 'yourself', 'warm')\n",
    "# c) msg.startswith('Keep')       5  True\n",
    "# d) msg.endswith('Keep')         6  False\n",
    "# e) msg.swapcase()               2  kEEP YOURSELF WARM\n",
    "# f) msg.capitalize()             3  Keep yourself warm\n",
    "# g) msg.count('e')               4  3\n",
    "# h) len(msg)                     1  18\n",
    "# i) msg[0]                       11  K\n",
    "# j) msg[-1]                      13  m\n",
    "# k) msg[1:1:1]                   12 empty string\n",
    "# l) msg[-1:3]                    15 empty string \n",
    "# m) msg[:-3]                     10 keep yourself w\n",
    "# n) msg[-3:]                     14 arm \n",
    "# o) msg[0:-2]                     9 keep yourself wa\n"
   ]
  },
  {
   "cell_type": "code",
   "execution_count": 28,
   "metadata": {},
   "outputs": [
    {
     "name": "stdout",
     "output_type": "stream",
     "text": [
      "3.14\n"
     ]
    }
   ],
   "source": [
    "# EJERCICIO ADICIONAL\n",
    "# FORMAT\n",
    "\n",
    "num = 3.1415926\n",
    "# Formatear el número a dos decimales sin mostrar el signo\n",
    "formato_sin_signo = \"{:.2f}\".format(num)\n",
    "print(formato_sin_signo)\n",
    "\n"
   ]
  },
  {
   "cell_type": "code",
   "execution_count": 29,
   "metadata": {},
   "outputs": [
    {
     "name": "stdout",
     "output_type": "stream",
     "text": [
      "+3.14\n"
     ]
    }
   ],
   "source": [
    "# Formatear el número a dos decimales mostrando el signo\n",
    "formato_con_signo = \"{:+.2f}\".format(num)\n",
    "print(formato_con_signo)"
   ]
  },
  {
   "cell_type": "code",
   "execution_count": 31,
   "metadata": {},
   "outputs": [
    {
     "name": "stdout",
     "output_type": "stream",
     "text": [
      "-1.00\n"
     ]
    }
   ],
   "source": [
    "# Format float 2 decimal places with sign\n",
    "num = -1\n",
    "formato_con_signo = '{:+.2f}'.format(num)\n",
    "print(formato_con_signo)"
   ]
  },
  {
   "cell_type": "code",
   "execution_count": 42,
   "metadata": {},
   "outputs": [
    {
     "data": {
      "text/plain": [
       "'3'"
      ]
     },
     "execution_count": 42,
     "metadata": {},
     "output_type": "execute_result"
    }
   ],
   "source": [
    "# Format float with no decimal places\n",
    "num = 2.71828\n",
    "f'{num:.0f}'"
   ]
  },
  {
   "cell_type": "code",
   "execution_count": 41,
   "metadata": {},
   "outputs": [
    {
     "data": {
      "text/plain": [
       "'05'"
      ]
     },
     "execution_count": 41,
     "metadata": {},
     "output_type": "execute_result"
    }
   ],
   "source": [
    "# Pad number with zeros (left padding width 2)\n",
    "num = 5\n",
    "f'{num:0>2d}'\n"
   ]
  },
  {
   "cell_type": "code",
   "execution_count": 44,
   "metadata": {},
   "outputs": [
    {
     "data": {
      "text/plain": [
       "'5xxx'"
      ]
     },
     "execution_count": 44,
     "metadata": {},
     "output_type": "execute_result"
    }
   ],
   "source": [
    "# Pad number with x´s (right padding width 4)\n",
    "num = 5\n",
    "f'{num:x<4d}'\n"
   ]
  },
  {
   "cell_type": "code",
   "execution_count": 45,
   "metadata": {},
   "outputs": [
    {
     "data": {
      "text/plain": [
       "'1,000,000'"
      ]
     },
     "execution_count": 45,
     "metadata": {},
     "output_type": "execute_result"
    }
   ],
   "source": [
    "# Number format with comma separator\n",
    "num = 1000000\n",
    "f'{num:,}'"
   ]
  },
  {
   "cell_type": "code",
   "execution_count": 47,
   "metadata": {},
   "outputs": [
    {
     "data": {
      "text/plain": [
       "'25.00%'"
      ]
     },
     "execution_count": 47,
     "metadata": {},
     "output_type": "execute_result"
    }
   ],
   "source": [
    "# Format percentage\n",
    "num = 0.25\n",
    "f'{num:.2%}'"
   ]
  },
  {
   "cell_type": "code",
   "execution_count": 48,
   "metadata": {},
   "outputs": [
    {
     "data": {
      "text/plain": [
       "'1.00e+09'"
      ]
     },
     "execution_count": 48,
     "metadata": {},
     "output_type": "execute_result"
    }
   ],
   "source": [
    "# Exponent notation\n",
    "num = 1000000000\n",
    "f'{num:.2e}'"
   ]
  },
  {
   "cell_type": "code",
   "execution_count": 49,
   "metadata": {},
   "outputs": [
    {
     "data": {
      "text/plain": [
       "'        13'"
      ]
     },
     "execution_count": 49,
     "metadata": {},
     "output_type": "execute_result"
    }
   ],
   "source": [
    "# Right aligned (default, width 10)\n",
    "num = 13\n",
    "f'{num:10d}'"
   ]
  },
  {
   "cell_type": "code",
   "execution_count": 51,
   "metadata": {},
   "outputs": [
    {
     "data": {
      "text/plain": [
       "'13        '"
      ]
     },
     "execution_count": 51,
     "metadata": {},
     "output_type": "execute_result"
    }
   ],
   "source": [
    "# Left aligned (width 10)\n",
    "num = 13\n",
    "f'{num:<10d}'"
   ]
  },
  {
   "cell_type": "code",
   "execution_count": 52,
   "metadata": {},
   "outputs": [
    {
     "data": {
      "text/plain": [
       "'    13    '"
      ]
     },
     "execution_count": 52,
     "metadata": {},
     "output_type": "execute_result"
    }
   ],
   "source": [
    "# Center aligned (width 10)\n",
    "num = 13\n",
    "f'{num:^10d}'"
   ]
  }
 ],
 "metadata": {
  "kernelspec": {
   "display_name": "Python 3.6.8 64-bit",
   "language": "python",
   "name": "python3"
  },
  "language_info": {
   "codemirror_mode": {
    "name": "ipython",
    "version": 3
   },
   "file_extension": ".py",
   "mimetype": "text/x-python",
   "name": "python",
   "nbconvert_exporter": "python",
   "pygments_lexer": "ipython3",
   "version": "3.6.8"
  },
  "vscode": {
   "interpreter": {
    "hash": "0664568eec612509e3f4f9ca054325288895e1bf42fd6b6ec863d622dc6e339a"
   }
  }
 },
 "nbformat": 4,
 "nbformat_minor": 2
}
