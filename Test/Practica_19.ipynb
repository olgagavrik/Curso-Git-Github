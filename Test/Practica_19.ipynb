{
 "cells": [
  {
   "cell_type": "markdown",
   "metadata": {},
   "source": [
    "#### 1. \n",
    "Escriba un programa que le pida al usuario un número entero mayor que cero y que luego\n",
    "imprima en pantalla sus divisores."
   ]
  },
  {
   "cell_type": "code",
   "execution_count": 2,
   "metadata": {},
   "outputs": [
    {
     "name": "stdout",
     "output_type": "stream",
     "text": [
      "Los divisores de 457 son:\n",
      "1 457 "
     ]
    }
   ],
   "source": [
    "# Solicitar al usuario que introduzca un número entero positivo\n",
    "numero = int(input(\"Introduce un número entero mayor que cero: \"))\n",
    "\n",
    "# Verificar que el número sea mayor que cero\n",
    "if numero <= 0:\n",
    "    print(\"El número debe ser mayor que cero.\")\n",
    "else:\n",
    "    print(f\"Los divisores de {numero} son:\")\n",
    "    for i in range(1, numero + 1):\n",
    "        if numero % i == 0:\n",
    "            print(i, end=\" \")  # Imprimir los divisores en la misma línea\n"
   ]
  },
  {
   "cell_type": "markdown",
   "metadata": {},
   "source": [
    "#### 2.\n",
    " Escriba un programa que pregunte al usuario cuántos números se van a introducir, pida\n",
    "esos números y escriba cuántos negativos ha introducido."
   ]
  },
  {
   "cell_type": "code",
   "execution_count": 3,
   "metadata": {},
   "outputs": [
    {
     "name": "stdout",
     "output_type": "stream",
     "text": [
      "Has introducido 2 números negativos.\n"
     ]
    }
   ],
   "source": [
    "cantidad = int(input(\"¿Cuántos números vas a introducir? \"))\n",
    "\n",
    "contador_negativos = 0  # Inicializar un contador para negativos\n",
    "\n",
    "for i in range(cantidad):\n",
    "    numero = int(input(f\"Introduce el número {i+1}: \"))\n",
    "    if numero < 0:\n",
    "        contador_negativos += 1\n",
    "\n",
    "print(f\"Has introducido {contador_negativos} números negativos.\")\n"
   ]
  },
  {
   "cell_type": "markdown",
   "metadata": {},
   "source": [
    "#### 3.\n",
    " Escriba un programa que pida dos números enteros y escriba qué números son pares y\n",
    "cuáles impares desde el primero hasta el segundo."
   ]
  },
  {
   "cell_type": "code",
   "execution_count": 6,
   "metadata": {},
   "outputs": [
    {
     "name": "stdout",
     "output_type": "stream",
     "text": [
      "El número 11 es impar.\n",
      "El número 12 es par.\n",
      "El número 13 es impar.\n",
      "El número 14 es par.\n",
      "El número 15 es impar.\n",
      "El número 16 es par.\n"
     ]
    }
   ],
   "source": [
    "numero1 = int(input(\"Introduce el primer número entero: \"))\n",
    "numero2 = int(input(\"Introduce el segundo número entero: \"))\n",
    "\n",
    "inicio = min(numero1, numero2)\n",
    "fin = max(numero1, numero2)\n",
    "\n",
    "for numero in range(inicio, fin + 1):\n",
    "    if numero % 2 == 0:\n",
    "        print(f\"El número {numero} es par.\")\n",
    "    else:\n",
    "        print(f\"El número {numero} es impar.\")\n"
   ]
  },
  {
   "cell_type": "markdown",
   "metadata": {},
   "source": [
    "otra version para imprimir los resultados en dos líneas"
   ]
  },
  {
   "cell_type": "code",
   "execution_count": 7,
   "metadata": {},
   "outputs": [
    {
     "name": "stdout",
     "output_type": "stream",
     "text": [
      "Números impares: 3 5 7 9 11 13 15 17\n",
      "Números pares: 4 6 8 10 12 14 16 18\n"
     ]
    }
   ],
   "source": [
    "numero1 = int(input(\"Introduce el primer número entero: \"))\n",
    "numero2 = int(input(\"Introduce el segundo número entero: \"))\n",
    "\n",
    "inicio = min(numero1, numero2)\n",
    "fin = max(numero1, numero2)\n",
    "\n",
    "pares = []   # Listas para almacenar los números pares e impares\n",
    "impares = []\n",
    "\n",
    "for numero in range(inicio, fin + 1):\n",
    "    if numero % 2 == 0:\n",
    "        pares.append(numero)\n",
    "    else:\n",
    "        impares.append(numero)\n",
    "\n",
    "print(f\"Números impares: {' '.join(map(str, impares))}\")\n",
    "print(f\"Números pares: {' '.join(map(str, pares))}\")\n"
   ]
  },
  {
   "cell_type": "markdown",
   "metadata": {},
   "source": [
    "#### 4.\n",
    "Escriba un programa que pregunte cuántos números se van a introducir, pida esos\n",
    "números, y diga al final cuántos han sido pares y cuántos impares"
   ]
  },
  {
   "cell_type": "code",
   "execution_count": 8,
   "metadata": {},
   "outputs": [
    {
     "name": "stdout",
     "output_type": "stream",
     "text": [
      "Has introducido 3 números pares y 3 números impares.\n"
     ]
    }
   ],
   "source": [
    "cantidad = int(input(\"¿Cuántos números vas a introducir? \"))\n",
    "\n",
    "contador_pares = 0       # Inicializar contadores para números par e impar\n",
    "contador_impares = 0\n",
    "\n",
    "for i in range(cantidad):\n",
    "    numero = int(input(f\"Introduce el número {i+1}: \"))\n",
    "    if numero % 2 == 0:\n",
    "        contador_pares += 1\n",
    "    else:\n",
    "        contador_impares += 1\n",
    "\n",
    "print(f\"Has introducido {contador_pares} números pares y {contador_impares} números impares.\")\n"
   ]
  },
  {
   "cell_type": "markdown",
   "metadata": {},
   "source": [
    "#### 5.\n",
    "Escriba un programa que pregunte cuantos números se van a introducir, pida esos\n",
    "números (que puedan ser decimales) y calcule su suma."
   ]
  },
  {
   "cell_type": "code",
   "execution_count": 9,
   "metadata": {},
   "outputs": [
    {
     "name": "stdout",
     "output_type": "stream",
     "text": [
      "La suma de todos los números introducidos es: 20.3\n"
     ]
    }
   ],
   "source": [
    "cantidad = int(input(\"¿Cuántos números vas a introducir? \"))\n",
    "\n",
    "suma_total = 0.0    # Inicializar la variable para guardar la suma\n",
    "\n",
    "for i in range(cantidad):\n",
    "    numero = float(input(f\"Introduce el número {i+1} (puede ser decimal): \"))\n",
    "    suma_total += numero     # Sumar el número al total\n",
    "\n",
    "print(f\"La suma de todos los números introducidos es: {suma_total}\")\n"
   ]
  },
  {
   "cell_type": "markdown",
   "metadata": {},
   "source": [
    "#### 6.\n",
    "Imprimir todos los dígitos decimales, del 0 al 9, utilizando una repetición."
   ]
  },
  {
   "cell_type": "code",
   "execution_count": 10,
   "metadata": {},
   "outputs": [
    {
     "name": "stdout",
     "output_type": "stream",
     "text": [
      "0\n",
      "1\n",
      "2\n",
      "3\n",
      "4\n",
      "5\n",
      "6\n",
      "7\n",
      "8\n",
      "9\n"
     ]
    }
   ],
   "source": [
    "# \"decimal\" no solo se refiere a los números después del punto\n",
    "# decimal en fracciones, sino a todo el conjunto de dígitos que \n",
    "# utilizamos en el sistema numérico base diez.\n",
    "\n",
    "for digito in range(10):\n",
    "    print(digito)\n"
   ]
  },
  {
   "cell_type": "markdown",
   "metadata": {},
   "source": [
    "#### 7.\n",
    "Imprimir todos los números entre el 100 y el 199."
   ]
  },
  {
   "cell_type": "code",
   "execution_count": 12,
   "metadata": {},
   "outputs": [
    {
     "name": "stdout",
     "output_type": "stream",
     "text": [
      "100 101 102 103 104 105 106 107 108 109 110 111 112 113 114 115 116 117 118 119 120 121 122 123 124 125 126 127 128 129 130 131 132 133 134 135 136 137 138 139 140 141 142 143 144 145 146 147 148 149 150 151 152 153 154 155 156 157 158 159 160 161 162 163 164 165 166 167 168 169 170 171 172 173 174 175 176 177 178 179 180 181 182 183 184 185 186 187 188 189 190 191 192 193 194 195 196 197 198 199\n"
     ]
    }
   ],
   "source": [
    "# Imprimir los números del 100 al 199 en una sola línea\n",
    "print(*range(100, 200))\n"
   ]
  },
  {
   "cell_type": "markdown",
   "metadata": {},
   "source": [
    "#### 8. \n",
    "Imprimir los números entre el 5 y el 20, saltando de tres en tres."
   ]
  },
  {
   "cell_type": "code",
   "execution_count": 14,
   "metadata": {},
   "outputs": [
    {
     "name": "stdout",
     "output_type": "stream",
     "text": [
      "5 8 11 14 17 20\n"
     ]
    }
   ],
   "source": [
    "print(*range(5, 21, 3))"
   ]
  },
  {
   "cell_type": "markdown",
   "metadata": {},
   "source": [
    "#### 9. \n",
    "Solicitar al usuario que ingrese una frase y luego imprimir un listado de las vocales que\n",
    "aparecen en esa frase (sin repetirlas)."
   ]
  },
  {
   "cell_type": "code",
   "execution_count": 23,
   "metadata": {},
   "outputs": [
    {
     "name": "stdout",
     "output_type": "stream",
     "text": [
      "La frase ingresada es: hoy es martes\n",
      "Vocales únicas en la frase: a e o\n"
     ]
    }
   ],
   "source": [
    "frase = input(\"Introduce una frase, sin tildes: \")\n",
    "print(\"La frase ingresada es:\", frase)\n",
    "\n",
    "vocales_unicas = set()  # Conjunto para almacenar las vocales unicas\n",
    "\n",
    "vocales = set('aeiouAEIOU')\n",
    "\n",
    "for caracter in frase:\n",
    "    if caracter in vocales:\n",
    "        vocales_unicas.add(caracter.lower())  # Añadir la vocal al conjunto\n",
    "print(\"Vocales únicas en la frase:\", *vocales_unicas)\n"
   ]
  },
  {
   "cell_type": "markdown",
   "metadata": {},
   "source": [
    "#### 10. \n",
    "Solicitar al usuario que ingrese una frase y luego imprimir la cantidad de vocales que se\n",
    "encuentran en dicha frase."
   ]
  },
  {
   "cell_type": "code",
   "execution_count": 24,
   "metadata": {},
   "outputs": [
    {
     "name": "stdout",
     "output_type": "stream",
     "text": [
      "La frase ingresada es: llego tarde al aeropuerto\n",
      "La frase contiene 11 vocales.\n"
     ]
    }
   ],
   "source": [
    "frase = input(\"Introduce una frase, no usar tildes: \")\n",
    "\n",
    "print(\"La frase ingresada es:\", frase)\n",
    "\n",
    "vocales = 'aeiouAEIOU'\n",
    "\n",
    "contador_vocales = 0\n",
    "\n",
    "for caracter in frase:\n",
    "    if caracter in vocales:\n",
    "        contador_vocales += 1  \n",
    "\n",
    "print(f\"La frase contiene {contador_vocales} vocales.\")\n"
   ]
  },
  {
   "cell_type": "markdown",
   "metadata": {},
   "source": [
    "#### 11. \n",
    "Escribir un programa que muestre la sumatoria de todos los números entre el 0 y el 100."
   ]
  },
  {
   "cell_type": "code",
   "execution_count": 25,
   "metadata": {},
   "outputs": [
    {
     "name": "stdout",
     "output_type": "stream",
     "text": [
      "La sumatoria de todos los números entre 0 y 100 es: 5050\n"
     ]
    }
   ],
   "source": [
    "sumatoria = 0\n",
    "\n",
    "for numero in range(101):\n",
    "    sumatoria += numero\n",
    "\n",
    "print(f\"La sumatoria de todos los números entre 0 y 100 es: {sumatoria}\")\n"
   ]
  },
  {
   "cell_type": "markdown",
   "metadata": {},
   "source": [
    "#### 12.\n",
    "Escribir un programa que muestre la sumatoria de todos los múltiplos de 3 encontrados\n",
    "entre el 0 y el 100."
   ]
  },
  {
   "cell_type": "code",
   "execution_count": 26,
   "metadata": {},
   "outputs": [
    {
     "name": "stdout",
     "output_type": "stream",
     "text": [
      "La sumatoria de todos los múltiplos de 3 entre 0 y 100 es: 1683\n"
     ]
    }
   ],
   "source": [
    "sumatoria_multiplos_3 = 0\n",
    "\n",
    "for numero in range(0, 101, 3):  # Incrementar en 3\n",
    "    sumatoria_multiplos_3 += numero\n",
    "\n",
    "print(f\"La sumatoria de todos los múltiplos de 3 entre 0 y 100 es: {sumatoria_multiplos_3}\")"
   ]
  },
  {
   "cell_type": "markdown",
   "metadata": {},
   "source": [
    "#### 13. \n",
    "Escribir un programa que permita al usuario ingresar 6 números enteros, que pueden ser\n",
    "positivos o negativos. Al finalizar, mostrar la sumatoria de los números negativos y el promedio\n",
    "de los positivos. No olvides que no es posible dividir por cero, por lo que es necesario evitar\n",
    "que el programa arroje un error si no se ingresaron números positivos."
   ]
  },
  {
   "cell_type": "code",
   "execution_count": 27,
   "metadata": {},
   "outputs": [
    {
     "name": "stdout",
     "output_type": "stream",
     "text": [
      "Sumatoria de números negativos: -1012\n",
      "Promedio de números positivos: 241.0\n"
     ]
    }
   ],
   "source": [
    "sumatoria_negativos = 0\n",
    "suma_positivos = 0\n",
    "contador_positivos = 0\n",
    "\n",
    "for i in range(6):\n",
    "    numero = int(input(f\"Introduce el número {i + 1}: \"))\n",
    "    if numero < 0:\n",
    "        sumatoria_negativos += numero\n",
    "    elif numero > 0:\n",
    "        suma_positivos += numero\n",
    "        contador_positivos += 1\n",
    "\n",
    "if contador_positivos > 0:\n",
    "    promedio_positivos = suma_positivos / contador_positivos\n",
    "else:\n",
    "    promedio_positivos = \"No se ingresaron números positivos\"\n",
    "\n",
    "print(f\"Sumatoria de números negativos: {sumatoria_negativos}\")\n",
    "print(f\"Promedio de números positivos: {promedio_positivos}\")\n"
   ]
  },
  {
   "cell_type": "markdown",
   "metadata": {},
   "source": [
    "#### 14.\n",
    " Dado un número entero positivo, mostrar su factorial. El factorial de un número se obtiene\n",
    "multiplicando todos los números enteros positivos que hay entre el 1 y ese número."
   ]
  },
  {
   "cell_type": "code",
   "execution_count": 31,
   "metadata": {},
   "outputs": [
    {
     "name": "stdout",
     "output_type": "stream",
     "text": [
      "El factorial de 56 es: 710998587804863451854045647463724949736497978881168458687447040000000000000\n"
     ]
    }
   ],
   "source": [
    "numero = int(input(\"Introduce un número entero positivo : \"))\n",
    "\n",
    "factorial = 1    # Inicializar la variable factorial\n",
    "\n",
    "for i in range(1, numero + 1):\n",
    "    factorial *= i\n",
    "\n",
    "print(f\"El factorial de {numero} es: {factorial}\")\n"
   ]
  },
  {
   "cell_type": "markdown",
   "metadata": {},
   "source": [
    "#### 15.\n",
    " Escribir un programa que pida al usuario una palabra y luego muestre por pantalla una a\n",
    "una las letras de la palabra introducida empezando por la última."
   ]
  },
  {
   "cell_type": "code",
   "execution_count": 33,
   "metadata": {},
   "outputs": [
    {
     "name": "stdout",
     "output_type": "stream",
     "text": [
      "d\n",
      "a\n",
      "d\n",
      "i\n",
      "r\n",
      "a\n",
      "l\n",
      "c\n"
     ]
    }
   ],
   "source": [
    "palabra = input(\"Introduce una palabra: \")\n",
    "\n",
    "for letra in reversed(palabra):\n",
    "    print(letra)\n"
   ]
  }
 ],
 "metadata": {
  "kernelspec": {
   "display_name": "Python 3.8.10 64-bit",
   "language": "python",
   "name": "python3"
  },
  "language_info": {
   "codemirror_mode": {
    "name": "ipython",
    "version": 3
   },
   "file_extension": ".py",
   "mimetype": "text/x-python",
   "name": "python",
   "nbconvert_exporter": "python",
   "pygments_lexer": "ipython3",
   "version": "3.8.10"
  },
  "orig_nbformat": 4,
  "vscode": {
   "interpreter": {
    "hash": "2a75be7c44ec7304484796a123393aaf72432c0d4935e52fae8ff7c54b508870"
   }
  }
 },
 "nbformat": 4,
 "nbformat_minor": 2
}
