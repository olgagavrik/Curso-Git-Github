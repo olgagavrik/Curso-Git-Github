{
 "cells": [
  {
   "cell_type": "markdown",
   "metadata": {},
   "source": [
    "#### Ejemplo 1: Cargar los datos\n",
    "\n",
    "Primero, necesitas cargar los datos desde el archivo JSON para poder trabajar con ellos:"
   ]
  },
  {
   "cell_type": "code",
   "execution_count": 4,
   "metadata": {},
   "outputs": [
    {
     "name": "stdout",
     "output_type": "stream",
     "text": [
      "[{'Asociación': 'AMPA ANTONIO MACHADO', 'Actividad Subvencionada': 'TALLER FIESTA DE CARNAVAL', 'Importe en euros': '94.56'}, {'Asociación': 'AMPA ANTONIO MACHADO', 'Actividad Subvencionada': 'TALLER DIA DEL PADRE', 'Importe en euros': '39.04 '}, {'Asociación': 'AMPA ANTONIO MACHADO', 'Actividad Subvencionada': 'TALLER DIA DE LA MADRE', 'Importe en euros': '43.64 '}, {'Asociación': 'AMPA ANTONIO MACHADO', 'Actividad Subvencionada': 'FIESTA FIN DE CURSO', 'Importe en euros': '921.00 '}, {'Asociación': 'AMPA ANTONIO MACHADO', 'Actividad Subvencionada': 'CONCURSO LOGOTIPO AMPA', 'Importe en euros': '56.57 '}, {'Asociación': 'AMPA ANTONIO MACHADO', 'Actividad Subvencionada': 'ASOCIACION FAPA ALCOBENDAS', 'Importe en euros': '80.00 '}, {'Asociación': 'AMPA ANTONIO MACHADO', 'Actividad Subvencionada': 'ASOCIACION FAPA GINER DE LOS RIOS', 'Importe en euros': '86.79 '}, {'Asociación': 'AMPA ANTONIO MACHADO', 'Actividad Subvencionada': 'FIESTA DE NAVIDAD', 'Importe en euros': '660.00 '}, {'Asociación': 'AMPA ANTONIO MACHADO', 'Actividad Subvencionada': 'HALLOWEEN', 'Importe en euros': '168.39 '}, {'Asociación': 'AMPA ANTONIO MACHADO', 'Actividad Subvencionada': 'SAN ISIDRO', 'Importe en euros': '195.00 '}, {'Asociación': 'AMPA BACHILLER ALONSO LOPEZ', 'Actividad Subvencionada': 'MATEMATICAS MANIPULATIVAS', 'Importe en euros': '480.00 '}, {'Asociación': 'AMPA BACHILLER ALONSO LOPEZ', 'Actividad Subvencionada': 'PROYECTO DE INGLES', 'Importe en euros': '480.00 '}, {'Asociación': 'AMPA BACHILLER ALONSO LOPEZ', 'Actividad Subvencionada': 'EXCURSIONES PRIMARIA', 'Importe en euros': '928.00 '}, {'Asociación': 'AMPA BACHILLER ALONSO LOPEZ', 'Actividad Subvencionada': 'GRADUACIÓN INFANTIL', 'Importe en euros': '360.00 '}, {'Asociación': 'AMPA BACHILLER ALONSO LOPEZ', 'Actividad Subvencionada': 'GRADUACIÓN 6 PRIM', 'Importe en euros': '240.00 '}, {'Asociación': 'AMPA BACHILLER ALONSO LOPEZ', 'Actividad Subvencionada': 'REVISTA COLEGIO ENTRETIZAS', 'Importe en euros': '220.00 '}, {'Asociación': 'AMPA BACHILLER ALONSO LOPEZ', 'Actividad Subvencionada': 'FIESTA INTERCULTURAL', 'Importe en euros': '492.00 '}, {'Asociación': 'AMPA CASTILLA', 'Actividad Subvencionada': 'CONCURSO TARJETAS NAVIDEÑAS', 'Importe en euros': '124.00 '}, {'Asociación': 'AMPA CASTILLA', 'Actividad Subvencionada': 'TALLER COMO MEJORAR LA AUTOESTIMA DE NUESTROS HIJOS', 'Importe en euros': '160.00 '}, {'Asociación': 'AMPA CASTILLA', 'Actividad Subvencionada': 'FIESTA FIN DE CURSO', 'Importe en euros': '840.00 '}, {'Asociación': 'AMPA CASTILLA', 'Actividad Subvencionada': 'PROPUESTA DE ACTIV EXTRAESCOLARES,INSCRIPCIONES. INTERCAMBIO LIBROS', 'Importe en euros': '150.00'}, {'Asociación': 'AMPA CASTILLA', 'Actividad Subvencionada': 'FEDERACION', 'Importe en euros': '64.00 '}, {'Asociación': 'AMPA CASTILLA', 'Actividad Subvencionada': 'FIESTA REYES MAGOS', 'Importe en euros': '460.00 '}, {'Asociación': 'AMPA CASTILLA', 'Actividad Subvencionada': 'CHOCOLATADA', 'Importe en euros': '336.00 '}, {'Asociación': 'AMPA CASTILLA', 'Actividad Subvencionada': 'SAN ISIDRO', 'Importe en euros': '163.00 '}, {'Asociación': 'AMPA CASTILLA', 'Actividad Subvencionada': 'HALLOWEEN', 'Importe en euros': '160.00 '}, {'Asociación': 'AMPA CASTILLA', 'Actividad Subvencionada': 'CARNAVAL EN LA AULAS', 'Importe en euros': '147.44 '}, {'Asociación': 'AMPA DAOIZ Y VELARDE', 'Actividad Subvencionada': 'PLAN LECTOR', 'Importe en euros': '370.00 '}, {'Asociación': 'AMPA DAOIZ Y VELARDE', 'Actividad Subvencionada': 'CONCIERTO MUSICA DIVERTIDA', 'Importe en euros': '575.74 '}, {'Asociación': 'AMPA DAOIZ Y VELARDE', 'Actividad Subvencionada': 'TALLER HABILIDADES SOCIALES O TECNICAS DE ESTUDIO', 'Importe en euros': '220.00 '}, {'Asociación': 'AMPA DAOIZ Y VELARDE', 'Actividad Subvencionada': 'FIESTA FIN DE CURSO', 'Importe en euros': '600.00 '}, {'Asociación': 'AMPA DAOIZ Y VELARDE', 'Actividad Subvencionada': 'GRADUACIONES INFANTIL Y SEXTO', 'Importe en euros': '160.00 '}, {'Asociación': 'AMPA DAOIZ Y VELARDE', 'Actividad Subvencionada': 'AGENDAS', 'Importe en euros': '340.00 '}, {'Asociación': 'AMPA DAOIZ Y VELARDE', 'Actividad Subvencionada': 'EXPOSICION FOTOGRAFICA', 'Importe en euros': '198.00 '}, {'Asociación': 'AMPA DAOIZ Y VELARDE', 'Actividad Subvencionada': 'NAVIDAD', 'Importe en euros': '689.00 '}, {'Asociación': 'AMPA EMILIO CASADO', 'Actividad Subvencionada': 'DIA DE LA MUSICA', 'Importe en euros': '295.67 '}, {'Asociación': 'AMPA EMILIO CASADO', 'Actividad Subvencionada': 'SALIDA CULTURAL AL TEATRO', 'Importe en euros': '196.00 '}, {'Asociación': 'AMPA EMILIO CASADO', 'Actividad Subvencionada': 'FESTIVAL FIN DE CURSO', 'Importe en euros': '247.00 '}, {'Asociación': 'AMPA EMILIO CASADO', 'Actividad Subvencionada': 'FIESTA FIN DE CURSO', 'Importe en euros': '1.000.00 '}, {'Asociación': 'AMPA EMILIO CASADO', 'Actividad Subvencionada': 'ASOCIACION FAPA GINER DE LOS RIOS', 'Importe en euros': '175.00 '}, {'Asociación': 'AMPA EMILIO CASADO', 'Actividad Subvencionada': 'ASOCIACION FAPA ALCOBENDAS', 'Importe en euros': '77.00 '}, {'Asociación': 'AMPA EMILIO CASADO', 'Actividad Subvencionada': 'FIESTA NAVIDAD', 'Importe en euros': '850.00 '}, {'Asociación': 'AMPA EMILIO CASADO', 'Actividad Subvencionada': 'INTERCENTROS ATLETISMO', 'Importe en euros': '175.00 '}, {'Asociación': 'AMPA FEDERICO GARCIA LORCA', 'Actividad Subvencionada': 'DIA DEL LIBRO', 'Importe en euros': '1.400.00 '}, {'Asociación': 'AMPA FEDERICO GARCIA LORCA', 'Actividad Subvencionada': 'TALLERES DE HALLOWEEN Y ADORNOS NAVIDAD', 'Importe en euros': '85.00 '}, {'Asociación': 'AMPA FEDERICO GARCIA LORCA', 'Actividad Subvencionada': 'FIESTA FIN DE CURSO', 'Importe en euros': '434.06 '}, {'Asociación': 'AMPA GABRIEL Y GALAN', 'Actividad Subvencionada': 'EXCURSIONES', 'Importe en euros': '1.151.51 '}, {'Asociación': 'AMPA GABRIEL Y GALAN', 'Actividad Subvencionada': 'HUERTO ESCOLAR', 'Importe en euros': '80.00 '}, {'Asociación': 'AMPA GABRIEL Y GALAN', 'Actividad Subvencionada': 'CUENTACUENTOS', 'Importe en euros': '200.00 '}, {'Asociación': 'AMPA GABRIEL Y GALAN', 'Actividad Subvencionada': 'TALLER NAVIDEÑO', 'Importe en euros': '120.00 '}, {'Asociación': 'AMPA GABRIEL Y GALAN', 'Actividad Subvencionada': 'FIESTA FIN DE CURSO', 'Importe en euros': '480.00 '}, {'Asociación': 'AMPA GABRIEL Y GALAN', 'Actividad Subvencionada': 'PERIODICO', 'Importe en euros': '160.00 '}, {'Asociación': 'AMPA GABRIEL Y GALAN', 'Actividad Subvencionada': 'CARNAVAL', 'Importe en euros': '350.00 '}, {'Asociación': 'AMPA GABRIEL Y GALAN', 'Actividad Subvencionada': 'SAN ISIDRO', 'Importe en euros': '200.00 '}, {'Asociación': 'AMPA LUIS BUÑUEL', 'Actividad Subvencionada': 'CONCURSO FELICITACIONES DE NAVIDAD', 'Importe en euros': '90.00 '}, {'Asociación': 'AMPA LUIS BUÑUEL', 'Actividad Subvencionada': 'MERCADILLO NAVIDEÑO', 'Importe en euros': '90.00 '}, {'Asociación': 'AMPA LUIS BUÑUEL', 'Actividad Subvencionada': 'GRADUACION', 'Importe en euros': '440.00 '}, {'Asociación': 'AMPA LUIS BUÑUEL', 'Actividad Subvencionada': 'FIESTA FIN DE CURSO', 'Importe en euros': '55.00 '}, {'Asociación': 'AMPA LUIS BUÑUEL', 'Actividad Subvencionada': 'PARTICIPACION FAPA ALCOBENDAS Y FAPA GINER DE LOS RIOS', 'Importe en euros': '227.00 '}, {'Asociación': 'AMPA LUIS BUÑUEL', 'Actividad Subvencionada': 'FIESTA NAVIDAD', 'Importe en euros': '625.00 '}, {'Asociación': 'AMPA LUIS BUÑUEL', 'Actividad Subvencionada': 'SAN ISIDRO', 'Importe en euros': '200.00 '}, {'Asociación': 'AMPA LUIS BUÑUEL', 'Actividad Subvencionada': 'FIESTA DE HALLOWEEN', 'Importe en euros': '80.00 '}, {'Asociación': 'AMPA LUIS BUÑUEL', 'Actividad Subvencionada': 'CASTAÑADA', 'Importe en euros': '65.00 '}, {'Asociación': 'AMPA LUIS BUÑUEL', 'Actividad Subvencionada': 'CARNAVAL EN LAS AULAS: MERCADILLO MEDIEVAL', 'Importe en euros': '209.00 '}, {'Asociación': 'AMPA MIGUEL HERNANDEZ', 'Actividad Subvencionada': 'CERTAMEN LITERARIO Y DE DIBUJO', 'Importe en euros': '300.00 '}, {'Asociación': 'AMPA MIGUEL HERNANDEZ', 'Actividad Subvencionada': 'SEMANA CULTURAL', 'Importe en euros': '153.00 '}, {'Asociación': 'AMPA MIGUEL HERNANDEZ', 'Actividad Subvencionada': 'EXCURSION A MADRID', 'Importe en euros': '504.00 '}, {'Asociación': 'AMPA MIGUEL HERNANDEZ', 'Actividad Subvencionada': 'EXCURSION A SIERRA DE GUADARRAMA', 'Importe en euros': '293.00 '}, {'Asociación': 'AMPA MIGUEL HERNANDEZ', 'Actividad Subvencionada': 'CONCURSO DE TARJETAS NAVIDEÑAS', 'Importe en euros': '150.00 '}, {'Asociación': 'AMPA MIGUEL HERNANDEZ', 'Actividad Subvencionada': 'PARTICIPACION FESTIVAL FAPA', 'Importe en euros': '12.00 '}, {'Asociación': 'AMPA MIGUEL HERNANDEZ', 'Actividad Subvencionada': 'FESTIVAL FIN CURSO', 'Importe en euros': '287.00 '}, {'Asociación': 'AMPA MIGUEL HERNANDEZ', 'Actividad Subvencionada': 'ENTREGA DE ORLAS 3º INFANTIL', 'Importe en euros': '100.00 '}, {'Asociación': 'AMPA MIGUEL HERNANDEZ', 'Actividad Subvencionada': 'PARTICIPACION EN FEDERACIONES', 'Importe en euros': '80.00 '}, {'Asociación': 'AMPA MIGUEL HERNANDEZ', 'Actividad Subvencionada': 'VISITA REYES MAGOS', 'Importe en euros': '530.00 '}, {'Asociación': 'AMPA MIGUEL HERNANDEZ', 'Actividad Subvencionada': 'FIESTA NAVIDAD', 'Importe en euros': '475.00 '}, {'Asociación': 'AMPA MIGUEL HERNANDEZ', 'Actividad Subvencionada': 'TORNEOS DEPORTIVOS', 'Importe en euros': '39.35 '}, {'Asociación': 'AMPA MIRAFLORES', 'Actividad Subvencionada': 'SALIDA CULTURAL SAFARI', 'Importe en euros': '1.500.00 '}, {'Asociación': 'AMPA MIRAFLORES', 'Actividad Subvencionada': 'FIESTA FIN DE CURSO', 'Importe en euros': '560.00 '}, {'Asociación': 'AMPA MIRAFLORES', 'Actividad Subvencionada': 'CUENTOS EN MIRAFLORES', 'Importe en euros': '400.00 '}, {'Asociación': 'AMPA MIRAFLORES', 'Actividad Subvencionada': 'FIESTA DE NAVIDAD', 'Importe en euros': '327.21 '}, {'Asociación': 'AMPA PARQUE CATALUÑA', 'Actividad Subvencionada': 'CONCURSO DE TARJETAS NAVIDEÑAS', 'Importe en euros': '290.00 '}, {'Asociación': 'AMPA PARQUE CATALUÑA', 'Actividad Subvencionada': 'FUTBOL', 'Importe en euros': '95.00 '}, {'Asociación': 'AMPA PARQUE CATALUÑA', 'Actividad Subvencionada': 'MULTIDEPORTE', 'Importe en euros': '400.00 '}, {'Asociación': 'AMPA PARQUE CATALUÑA', 'Actividad Subvencionada': 'GRADUACIÓN', 'Importe en euros': '130.00 '}, {'Asociación': 'AMPA PARQUE CATALUÑA', 'Actividad Subvencionada': 'FIESTA FIN DE CURSO', 'Importe en euros': '995.00 '}, {'Asociación': 'AMPA PARQUE CATALUÑA', 'Actividad Subvencionada': 'PARTICIPACIÓN FAPA', 'Importe en euros': '64.00 '}, {'Asociación': 'AMPA PARQUE CATALUÑA', 'Actividad Subvencionada': 'NAVIDAD', 'Importe en euros': '455.00 '}, {'Asociación': 'AMPA PARQUE CATALUÑA', 'Actividad Subvencionada': 'DIA DEL LIBRO', 'Importe en euros': '175.44 '}, {'Asociación': 'AMPA PROFESOR TIERNO GALVÁN', 'Actividad Subvencionada': 'FIESTA FIN DE CURSO', 'Importe en euros': '300.00 '}, {'Asociación': 'AMPA PROFESOR TIERNO GALVÁN', 'Actividad Subvencionada': 'FAPA', 'Importe en euros': '80.00 '}, {'Asociación': 'AMPA PROFESOR TIERNO GALVÁN', 'Actividad Subvencionada': 'DIA DEL LIBRO', 'Importe en euros': '306.00 '}, {'Asociación': 'AMPA PROFESOR TIERNO GALVÁN', 'Actividad Subvencionada': 'DIA DE SAN ISIDRO', 'Importe en euros': '100.00 '}, {'Asociación': 'AMPA PROFESOR TIERNO GALVÁN', 'Actividad Subvencionada': 'CONCURSO DE CHRISTMAS', 'Importe en euros': '250.00 '}, {'Asociación': 'AMPA PROFESOR TIERNO GALVÁN', 'Actividad Subvencionada': 'FIESTA NAVIDAD', 'Importe en euros': '250.00 '}, {'Asociación': 'AMPA SEIS DE DICIEMBRE', 'Actividad Subvencionada': 'EXCURSION GRANJA TALAMANCA', 'Importe en euros': '476.00 '}, {'Asociación': 'AMPA SEIS DE DICIEMBRE', 'Actividad Subvencionada': 'NAVIDAD', 'Importe en euros': '320.00 '}, {'Asociación': 'AMPA SEIS DE DICIEMBRE', 'Actividad Subvencionada': 'CUENTACUENTOS AMBIENTALES', 'Importe en euros': '280.00 '}, {'Asociación': 'AMPA SEIS DE DICIEMBRE', 'Actividad Subvencionada': 'FIN DE CURSO', 'Importe en euros': '256.00 '}, {'Asociación': 'AMPA SEIS DE DICIEMBRE', 'Actividad Subvencionada': 'FESTIVAL FIN DE CURSO', 'Importe en euros': '100.00 '}, {'Asociación': 'AMPA SEIS DE DICIEMBRE', 'Actividad Subvencionada': 'AGENDA ESCOLAR', 'Importe en euros': '518.00 '}, {'Asociación': 'AMPA VALDEPALITOS', 'Actividad Subvencionada': 'VISITA MUSEO DEL VIDRIO', 'Importe en euros': '385.50 '}, {'Asociación': 'AMPA VALDEPALITOS', 'Actividad Subvencionada': 'SALIDAS CULTURALES EN FAMILIA', 'Importe en euros': '490.00 '}, {'Asociación': 'AMPA VALDEPALITOS', 'Actividad Subvencionada': 'TALLER EXTRAESCOLAR DISFRACES', 'Importe en euros': '190.00 '}, {'Asociación': 'AMPA VALDEPALITOS', 'Actividad Subvencionada': 'TALLER EXTRAESCOLAR DANZA ESPAÑOLA', 'Importe en euros': '190.00 '}, {'Asociación': 'AMPA VALDEPALITOS', 'Actividad Subvencionada': 'TALLER EXTRAESCOLAR DANZA MODERNA', 'Importe en euros': '90.00 '}, {'Asociación': 'AMPA VALDEPALITOS', 'Actividad Subvencionada': 'FIESTA FIN DE CURSO', 'Importe en euros': '690.00 '}, {'Asociación': 'AMPA VALDEPALITOS', 'Actividad Subvencionada': 'FESTIVAL DANZA Y TEATRO', 'Importe en euros': '210.00 '}, {'Asociación': 'AMPA VALDEPALITOS', 'Actividad Subvencionada': 'CEREMONIA GRADUACION 6º PRIMARIA', 'Importe en euros': '170.00 '}, {'Asociación': 'AMPA VALDEPALITOS', 'Actividad Subvencionada': 'ORLA PARA 6º PRIMARIA', 'Importe en euros': '110.00 '}, {'Asociación': 'AMPA VALDEPALITOS', 'Actividad Subvencionada': 'CEREMONIA GRADUACION INFANTIL', 'Importe en euros': '180.00 '}, {'Asociación': 'AMPA VALDEPALITOS', 'Actividad Subvencionada': 'BOLETIN APA', 'Importe en euros': '260.00 '}, {'Asociación': 'AMPA VALDEPALITOS', 'Actividad Subvencionada': 'PARTICIPACION FAPA ALCOBENDAS', 'Importe en euros': '64.00 '}, {'Asociación': 'AMPA VALDEPALITOS', 'Actividad Subvencionada': 'PARTICIPACION FESTIVAL FAPA', 'Importe en euros': '260.00 '}, {'Asociación': 'AMPA VALDEPALITOS', 'Actividad Subvencionada': 'PARTICIPACION FAPA GINER DE LOS RIOS', 'Importe en euros': '160.00 '}, {'Asociación': 'AMPA VALDEPALITOS', 'Actividad Subvencionada': 'FIESTA DE NAVIDAD', 'Importe en euros': '180.00 '}, {'Asociación': 'AMPA VALDEPALITOS', 'Actividad Subvencionada': 'TORNEO MULTIDEPORTE', 'Importe en euros': '120.00 '}, {'Asociación': 'AMPA VALDEPALITOS', 'Actividad Subvencionada': 'SEMANA CULTURAL', 'Importe en euros': '180.00 '}, {'Asociación': 'AMPA LA CHOPERA', 'Actividad Subvencionada': 'SEMANA DEL LIBRO', 'Importe en euros': '990.00 '}, {'Asociación': 'AMPA LA CHOPERA', 'Actividad Subvencionada': 'TALLER DE MUSICA', 'Importe en euros': '120.00 '}, {'Asociación': 'AMPA LA CHOPERA', 'Actividad Subvencionada': 'FIESTA GRADUACION', 'Importe en euros': '320.00 '}, {'Asociación': 'AMPA EL CUQUILLO', 'Actividad Subvencionada': 'SEMANA DEL LIBRO', 'Importe en euros': '610.00 '}, {'Asociación': 'AMPA EL CUQUILLO', 'Actividad Subvencionada': 'DIA DE LA INFANCIA', 'Importe en euros': '150.00 '}, {'Asociación': 'AMPA EL CUQUILLO', 'Actividad Subvencionada': 'FIESTA FIN DE CURSO Y GRADUACION', 'Importe en euros': '368.00 '}, {'Asociación': 'AMPA EL CUQUILLO', 'Actividad Subvencionada': 'FIESTA NAVIDAD', 'Importe en euros': '379.83 '}, {'Asociación': 'AMPA VALDELAPARRA', 'Actividad Subvencionada': 'SEMANA DEL LIBRO Y FERIA DEL LIBRO', 'Importe en euros': '685.00 '}, {'Asociación': 'AMPA VALDELAPARRA', 'Actividad Subvencionada': 'EL HUERTO', 'Importe en euros': '70.00 '}, {'Asociación': 'AMPA VALDELAPARRA', 'Actividad Subvencionada': 'TALLER DEL NIDO', 'Importe en euros': '95.00 '}, {'Asociación': 'AMPA VALDELAPARRA', 'Actividad Subvencionada': 'FIESTA GRADUACION', 'Importe en euros': '670.00 '}, {'Asociación': 'AMPA VALDELAPARRA', 'Actividad Subvencionada': 'QUERIDOS REYES MAGOS', 'Importe en euros': '590.00 '}, {'Asociación': 'AMPA VALDELAPARRA', 'Actividad Subvencionada': 'FERIA DE LAS ASOCIACIONES', 'Importe en euros': '150.00 '}, {'Asociación': 'AMPA VALDELAPARRA', 'Actividad Subvencionada': 'SAN ISIDRO', 'Importe en euros': '205.00 '}, {'Asociación': 'AMPA RIVENDEL', 'Actividad Subvencionada': 'DIA DE LA PAZ', 'Importe en euros': '230.00 '}, {'Asociación': 'AMPA RIVENDEL', 'Actividad Subvencionada': 'SEMANA CULTURAL Y DIA DEL LIBRO', 'Importe en euros': '794.00 '}, {'Asociación': 'AMPA RIVENDEL', 'Actividad Subvencionada': 'VISITA GRANJA ESCUELA', 'Importe en euros': '115.00 '}, {'Asociación': 'AMPA RIVENDEL', 'Actividad Subvencionada': 'FIESTA FIN DE CURSO', 'Importe en euros': '700.00 '}, {'Asociación': 'AMPA RIVENDEL', 'Actividad Subvencionada': 'PERTENENCIA A LA FAPA', 'Importe en euros': '64.00 '}, {'Asociación': 'AMPA RIVENDEL', 'Actividad Subvencionada': 'CARNAVAL', 'Importe en euros': '157.00 '}, {'Asociación': 'AMPA RIVENDEL', 'Actividad Subvencionada': 'BELEN NAVIDEÑO', 'Importe en euros': '40.00 '}, {'Asociación': 'AMPA RIVENDEL', 'Actividad Subvencionada': 'FIESTA DE NAVIDAD', 'Importe en euros': '100.00 '}, {'Asociación': 'AMPA AGORA', 'Actividad Subvencionada': 'PREMIOS AL RENDIMIENTO. SUPERACIÓN Y CONVICENCIA', 'Importe en euros': '501.67 '}, {'Asociación': 'AMPA AGORA', 'Actividad Subvencionada': 'ANIMACION A LA LECTURA', 'Importe en euros': '560.00 '}, {'Asociación': 'AMPA AGORA', 'Actividad Subvencionada': 'SALIDA AL TEATRO', 'Importe en euros': '240.00 '}, {'Asociación': 'AMPA AGORA', 'Actividad Subvencionada': 'EXCURSION CULTURAL VISITA CORRALAS DE MADRID', 'Importe en euros': '120.00 '}, {'Asociación': 'AMPA AGORA', 'Actividad Subvencionada': 'CONCURSO FOTOGRAFICO CONSTITUCION', 'Importe en euros': '160.00 '}, {'Asociación': 'AMPA AGORA', 'Actividad Subvencionada': 'ACTO DE GRADUACIÓN', 'Importe en euros': '300.00 '}, {'Asociación': 'AMPA AGORA', 'Actividad Subvencionada': 'INTERCAMBIO DE LIBROS DE TEXTO', 'Importe en euros': '80.00 '}, {'Asociación': 'AMPA AGORA', 'Actividad Subvencionada': 'JORNADA DE CONVIVENCIA', 'Importe en euros': '250.00 '}, {'Asociación': 'AMPA AGORA', 'Actividad Subvencionada': 'MILLA ESCOLAR', 'Importe en euros': '210.00 '}, {'Asociación': 'AMPA ALDEBARAN', 'Actividad Subvencionada': 'PREMIOS AL RENDIMIENTO. SUPERACIÓN Y CONVIVENCIA', 'Importe en euros': '980.05 '}, {'Asociación': 'AMPA ALDEBARAN', 'Actividad Subvencionada': 'ANIMACION A LA LECTURA', 'Importe en euros': '302.00 '}, {'Asociación': 'AMPA ALDEBARAN', 'Actividad Subvencionada': 'PRACTICANDO IDIOMAS', 'Importe en euros': '278.00 '}, {'Asociación': 'AMPA ALDEBARAN', 'Actividad Subvencionada': 'CONCURSO DE TARJETAS NAVIDEÑAS', 'Importe en euros': '190.00 '}, {'Asociación': 'AMPA ALDEBARAN', 'Actividad Subvencionada': 'GRADUACION ALUMNOS BACHILLER', 'Importe en euros': '220.00 '}, {'Asociación': 'AMPA ALDEBARAN', 'Actividad Subvencionada': 'BOLETIN INFORMATIVO', 'Importe en euros': '587.00 '}, {'Asociación': 'AMPA ALDEBARAN', 'Actividad Subvencionada': 'PARTICIPACION EN FAPAS', 'Importe en euros': '260.00 '}, {'Asociación': 'AMPA ALDEBARAN', 'Actividad Subvencionada': 'TALLER CHAPAS E IMANES', 'Importe en euros': '290.00 '}, {'Asociación': 'AMPA GINER DE LOS RIOS', 'Actividad Subvencionada': 'CERTAMEN TARJETA NAVIDAD', 'Importe en euros': '673.00 '}, {'Asociación': 'AMPA GINER DE LOS RIOS', 'Actividad Subvencionada': 'CERTAMEN DE RELATO Y POESIA', 'Importe en euros': '320.00 '}, {'Asociación': 'AMPA GINER DE LOS RIOS', 'Actividad Subvencionada': 'CERTAMEN RECREANDO EL JARDIN DEL GINER', 'Importe en euros': '160.00 '}, {'Asociación': 'AMPA GINER DE LOS RIOS', 'Actividad Subvencionada': 'CERTAMEN ENSAYO FILOSOFICO RAQUEL PUSZKIN', 'Importe en euros': '120.00 '}, {'Asociación': 'AMPA GINER DE LOS RIOS', 'Actividad Subvencionada': 'CEREMONIA GRADUACION BACHILLERATO', 'Importe en euros': '270.00 '}, {'Asociación': 'AMPA GINER DE LOS RIOS', 'Actividad Subvencionada': 'LIBRO DE RELATO Y POESIAS LA PLUMA LITERARIA', 'Importe en euros': '290.00 '}, {'Asociación': 'AMPA GINER DE LOS RIOS', 'Actividad Subvencionada': 'PARTICIPACION FAPA ALCOBENDAS Y FAPA MADRID', 'Importe en euros': '225.00 '}, {'Asociación': 'AMPA SEVERO OCHOA', 'Actividad Subvencionada': 'TALLER DE MOTIVACION Y AUTOESTIMA', 'Importe en euros': '981.97 '}, {'Asociación': 'AMPA SEVERO OCHOA', 'Actividad Subvencionada': 'TALLER DE TECNICAS DE ESTUDIO', 'Importe en euros': '600.00 '}, {'Asociación': 'AMPA SEVERO OCHOA', 'Actividad Subvencionada': 'CONFERENCIA COLOQUIO SOBRE PREVENCION DEL FRACASO ESCOLAR', 'Importe en euros': '450.00 '}, {'Asociación': 'AMPA SEVERO OCHOA', 'Actividad Subvencionada': 'EXPOSICION Y EDICION ALBUM FOTOGRAFICO INTERCAMBIO EEUU', 'Importe en euros': '340.00 '}, {'Asociación': 'AMPA SEVERO OCHOA', 'Actividad Subvencionada': 'EXCURSION FIN DE CURO A PARQUE ECO-AVENTURA', 'Importe en euros': '480.00 '}, {'Asociación': 'AMPA SEVERO OCHOA', 'Actividad Subvencionada': 'GRADUACION CICLOS Y BACHILLERATOS', 'Importe en euros': '240.00 '}, {'Asociación': 'AMPA SEVERO OCHOA', 'Actividad Subvencionada': 'FERIA DE ASOCIACIONES DE ALCOBENDAS', 'Importe en euros': '40.00 '}, {'Asociación': 'AMPA SEVERO OCHOA', 'Actividad Subvencionada': 'PERTENENCIA A FAPA ALCOBENDAS', 'Importe en euros': '64.00 '}, {'Asociación': 'AMPA SEVERO OCHOA', 'Actividad Subvencionada': 'TORNEO DE AJEDREZ', 'Importe en euros': '48.00 '}, {'Asociación': 'AMPA SEVERO OCHOA', 'Actividad Subvencionada': 'FIESTA DE NAVIDAD', 'Importe en euros': '320.00 '}, {'Asociación': 'AMPA VIRGEN DE LA PAZ', 'Actividad Subvencionada': 'JORNADA LUDICO DEPORTIVA FIN DE CURSO', 'Importe en euros': '927.45 '}, {'Asociación': 'AMPA VIRGEN DE LA PAZ', 'Actividad Subvencionada': 'PARTICIPACION FAPA ALCOBENDAS Y GINER DE LOS RIOS', 'Importe en euros': '176.00 '}, {'Asociación': 'AMPA VIRGEN DE LA PAZ', 'Actividad Subvencionada': 'ACTO DE GRADUACIÓN', 'Importe en euros': '121.00 '}, {'Asociación': 'AMPA VIRGEN DE LA PAZ', 'Actividad Subvencionada': 'PARTICIPACION EN FERIA DE LAS ASOCIACIONES', 'Importe en euros': '40.00 '}, {'Asociación': 'AMPA VIRGEN DE LA PAZ', 'Actividad Subvencionada': 'TORNEO DEPORTIVO FUTBOL SALA', 'Importe en euros': '152.00 '}, {'Asociación': 'AMPA JUAN XXIII', 'Actividad Subvencionada': 'TALLER DE MANUALIDADES', 'Importe en euros': '800.00 '}, {'Asociación': 'AMPA JUAN XXIII', 'Actividad Subvencionada': 'TALLER DE JUEGOS DIDACTICOS', 'Importe en euros': '448.00 '}, {'Asociación': 'AMPA JUAN XXIII', 'Actividad Subvencionada': 'TALLER DE MAGIA', 'Importe en euros': '533.98 '}, {'Asociación': 'AMPA SAN ANTONIO', 'Actividad Subvencionada': 'GRANJA ESCUELA', 'Importe en euros': '895.00 '}, {'Asociación': 'AMPA SAN ANTONIO', 'Actividad Subvencionada': 'VISITA AL PARQUE DE AVENTURAS AMAZONIA', 'Importe en euros': '576.00 '}, {'Asociación': 'AMPA SAN ANTONIO', 'Actividad Subvencionada': 'ASISTENCIA AL CIRCO MUNDIAL', 'Importe en euros': '630.83 '}, {'Asociación': 'AMPA PADRE  MANYANET', 'Actividad Subvencionada': 'FERIA DE LA SEMANA CULTURAL', 'Importe en euros': '800.00 '}, {'Asociación': 'AMPA PADRE  MANYANET', 'Actividad Subvencionada': 'BIBLIOTECA DE EDUCACION PRIMARIA DE LA APA', 'Importe en euros': '803.82 '}, {'Asociación': 'AMPA PADRE  MANYANET', 'Actividad Subvencionada': 'FERIA DE ROBOTICA', 'Importe en euros': '720.00 '}, {'Asociación': 'AMPA PADRE  MANYANET', 'Actividad Subvencionada': 'LUDOTECA FIESTA FIN DE CURSO', 'Importe en euros': '372.00 '}, {'Asociación': 'AMPA FAPA', 'Actividad Subvencionada': 'JORNADA FAPA-APAS: ENCUENTROS DE PARTICIPACION', 'Importe en euros': '720.00 '}, {'Asociación': 'AMPA FAPA', 'Actividad Subvencionada': '25 ANIVERSARIO FAPA ALCOBENDAS', 'Importe en euros': '1.515.00 '}, {'Asociación': 'AMPA FAPA', 'Actividad Subvencionada': 'REVISTA DE LA FEDERACION LA ESCUELA EN ALCOBENDAS', 'Importe en euros': '963.43 '}]\n"
     ]
    }
   ],
   "source": [
    "import json\n",
    "\n",
    "# Cargar el JSON desde un archivo\n",
    "with open('subvenciones.json', 'r') as file:\n",
    "    subvenciones = json.load(file)\n",
    "\n",
    "# Mostrar los datos cargados\n",
    "print(subvenciones)\n"
   ]
  },
  {
   "cell_type": "markdown",
   "metadata": {},
   "source": [
    "#### Ejemplo 2: Filtrar subvenciones por una actividad específica\n",
    "Supongamos que quieres analizar solo las subvenciones para una actividad específica, como la \"FIESTA DE CARNAVAL\":"
   ]
  },
  {
   "cell_type": "code",
   "execution_count": 5,
   "metadata": {},
   "outputs": [
    {
     "name": "stdout",
     "output_type": "stream",
     "text": [
      "[{'Asociación': 'AMPA ANTONIO MACHADO', 'Actividad Subvencionada': 'TALLER FIESTA DE CARNAVAL', 'Importe en euros': '94.56'}]\n"
     ]
    }
   ],
   "source": [
    "# Filtrar subvenciones para la Fiesta de Carnaval\n",
    "fiesta_carnaval = [s for s in subvenciones if s['Actividad Subvencionada'] == \"TALLER FIESTA DE CARNAVAL\"]\n",
    "\n",
    "# Mostrar las subvenciones filtradas\n",
    "print(fiesta_carnaval)\n"
   ]
  },
  {
   "cell_type": "markdown",
   "metadata": {},
   "source": [
    "#### Ejemplo 3: Calcular el total de subvenciones en euros\n",
    "Puedes querer saber cuánto dinero total se ha dado en subvenciones, lo cual requeriría sumar los importes:"
   ]
  },
  {
   "cell_type": "markdown",
   "metadata": {},
   "source": [
    "En este código, primero se eliminan los espacios en blanco con .replace(\" \", \"\"), luego se elimina el punto que sirve como separador de miles con .replace(\".\", \"\") y finalmente se cambia la coma que separa los decimales por un punto con .replace(\",\", \".\"). Este proceso asegura que el formato del número sea compatible con lo que Python espera para la conversión a tipo flotante."
   ]
  },
  {
   "cell_type": "code",
   "execution_count": 7,
   "metadata": {},
   "outputs": [
    {
     "name": "stdout",
     "output_type": "stream",
     "text": [
      "Total de subvenciones en euros: 6648794.00\n"
     ]
    }
   ],
   "source": [
    "# Convertir el importe a float y sumar\n",
    "total_subvenciones = sum(float(s['Importe en euros'].replace(\" \", \"\").replace(\".\", \"\").replace(\",\", \".\")) for s in subvenciones)\n",
    "\n",
    "# Mostrar el total de subvenciones\n",
    "print(f'Total de subvenciones en euros: {total_subvenciones:.2f}')\n"
   ]
  },
  {
   "cell_type": "markdown",
   "metadata": {},
   "source": [
    "#### Ejemplo 4: Agrupar subvenciones por asociación\n",
    "Si estás interesado en ver cuánto dinero total ha recibido cada asociación:"
   ]
  },
  {
   "cell_type": "code",
   "execution_count": 9,
   "metadata": {},
   "outputs": [
    {
     "name": "stdout",
     "output_type": "stream",
     "text": [
      "Asociación: AMPA ANTONIO MACHADO, Total: 236843.99\n",
      "Asociación: AMPA BACHILLER ALONSO LOPEZ, Total: 323200.00\n",
      "Asociación: AMPA CASTILLA, Total: 263048.44\n",
      "Asociación: AMPA DAOIZ Y VELARDE, Total: 318426.74\n",
      "Asociación: AMPA EMILIO CASADO, Total: 302305.67\n",
      "Asociación: AMPA FEDERICO GARCIA LORCA, Total: 191906.00\n",
      "Asociación: AMPA GABRIEL Y GALAN, Total: 274151.00\n",
      "Asociación: AMPA LUIS BUÑUEL, Total: 208100.00\n",
      "Asociación: AMPA MIGUEL HERNANDEZ, Total: 292335.00\n",
      "Asociación: AMPA MIRAFLORES, Total: 278721.00\n",
      "Asociación: AMPA PARQUE CATALUÑA, Total: 260444.00\n",
      "Asociación: AMPA PROFESOR TIERNO GALVÁN, Total: 128600.00\n",
      "Asociación: AMPA SEIS DE DICIEMBRE, Total: 195000.00\n",
      "Asociación: AMPA VALDEPALITOS, Total: 392950.00\n",
      "Asociación: AMPA LA CHOPERA, Total: 143000.00\n",
      "Asociación: AMPA EL CUQUILLO, Total: 150783.00\n",
      "Asociación: AMPA VALDELAPARRA, Total: 246500.00\n",
      "Asociación: AMPA RIVENDEL, Total: 220000.00\n",
      "Asociación: AMPA AGORA, Total: 242167.00\n",
      "Asociación: AMPA ALDEBARAN, Total: 310705.00\n",
      "Asociación: AMPA GINER DE LOS RIOS, Total: 205800.00\n",
      "Asociación: AMPA SEVERO OCHOA, Total: 356397.00\n",
      "Asociación: AMPA VIRGEN DE LA PAZ, Total: 141645.00\n",
      "Asociación: AMPA JUAN XXIII, Total: 178198.00\n",
      "Asociación: AMPA SAN ANTONIO, Total: 210183.00\n",
      "Asociación: AMPA PADRE  MANYANET, Total: 269582.00\n",
      "Asociación: AMPA FAPA, Total: 319843.00\n"
     ]
    }
   ],
   "source": [
    "# Agregar importes al diccionario\n",
    "for s in subvenciones:\n",
    "    importe = s['Importe en euros'].replace(\" \", \"\")  # Eliminar espacios\n",
    "    importe = importe.replace(\".\", \"\")  # Eliminar puntos de miles\n",
    "    importe = importe.replace(\",\", \".\")  # Cambiar coma por punto en decimales\n",
    "    importe = float(importe)  # Convertir a flotante\n",
    "    totales_por_asociacion[s['Asociación']] += importe\n",
    "\n",
    "# Mostrar los totales por asociación\n",
    "for asociacion, total in totales_por_asociacion.items():\n",
    "    print(f\"Asociación: {asociacion}, Total: {total:.2f}\")\n"
   ]
  },
  {
   "cell_type": "markdown",
   "metadata": {},
   "source": [
    "#### Ejemplo 5: Guardar los datos modificados en un nuevo archivo JSON\n",
    "Después de realizar algunas manipulaciones, puedes querer guardar los resultados en un nuevo archivo JSON:"
   ]
  },
  {
   "cell_type": "code",
   "execution_count": 10,
   "metadata": {},
   "outputs": [],
   "source": [
    "# Guardar los datos modificados en un nuevo archivo JSON\n",
    "with open('subvenciones_modificadas.json', 'w') as file:\n",
    "    json.dump(list(totales_por_asociacion.items()), file, indent=4)\n"
   ]
  }
 ],
 "metadata": {
  "kernelspec": {
   "display_name": "base",
   "language": "python",
   "name": "python3"
  },
  "language_info": {
   "codemirror_mode": {
    "name": "ipython",
    "version": 3
   },
   "file_extension": ".py",
   "mimetype": "text/x-python",
   "name": "python",
   "nbconvert_exporter": "python",
   "pygments_lexer": "ipython3",
   "version": "3.11.7"
  }
 },
 "nbformat": 4,
 "nbformat_minor": 2
}
