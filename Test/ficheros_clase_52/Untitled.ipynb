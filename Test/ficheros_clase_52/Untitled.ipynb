{
 "cells": [
  {
   "cell_type": "code",
   "execution_count": 1,
   "id": "04993940",
   "metadata": {},
   "outputs": [],
   "source": [
    "f = open('poesia.txt', 'r')"
   ]
  },
  {
   "cell_type": "code",
   "execution_count": 2,
   "id": "aed53e8b",
   "metadata": {},
   "outputs": [
    {
     "name": "stdout",
     "output_type": "stream",
     "text": [
      "Tu eres el huracan y yo la alta\n",
      "\n",
      "torre que desafia su poder:\n",
      "\n",
      "Â¡tenias que estrelarte o que abatirme!\n",
      "\n",
      "Â¡No podia ser!\n",
      "\n",
      "TÃº eras el oceano y yo la enhiesta\n",
      "\n",
      "roca que firme aguarda su vaiven:\n",
      "\n",
      "Â¡tenias que romperte o que arrancarme !\n",
      "\n",
      "Â¡No podia ser!\n",
      "\n",
      "Hermosa tu, yo altivo: acostumbrados\n",
      "\n",
      "uno a arrollar, el otro a no ceder:\n",
      "\n",
      "la senda estrecha, inevitable el choque...\n",
      "\n",
      "Â¡No podia ser! \n"
     ]
    }
   ],
   "source": [
    "for linea in f:\n",
    "    print(linea)"
   ]
  },
  {
   "cell_type": "code",
   "execution_count": 5,
   "id": "2151de8b",
   "metadata": {},
   "outputs": [
    {
     "data": {
      "text/plain": [
       "'Tu eres el huracan y yo la alta\\ntorre que desafia su poder:\\nÂ¡tenias que estrelarte o que abatirme!\\nÂ¡No podia ser!\\nTÃº eras el oceano y yo la enhiesta\\nroca que firme aguarda su vaiven:\\nÂ¡tenias que romperte o que arrancarme !\\nÂ¡No podia ser!\\nHermosa tu, yo altivo: acostumbrados\\nuno a arrollar, el otro a no ceder:\\nla senda estrecha, inevitable el choque...\\nÂ¡No podia ser! '"
      ]
     },
     "execution_count": 5,
     "metadata": {},
     "output_type": "execute_result"
    }
   ],
   "source": [
    "f = open('poesia.txt', 'r')\n",
    "f.read()"
   ]
  },
  {
   "cell_type": "code",
   "execution_count": null,
   "id": "b420c165",
   "metadata": {},
   "outputs": [],
   "source": []
  }
 ],
 "metadata": {
  "kernelspec": {
   "display_name": "Python 3 (ipykernel)",
   "language": "python",
   "name": "python3"
  },
  "language_info": {
   "codemirror_mode": {
    "name": "ipython",
    "version": 3
   },
   "file_extension": ".py",
   "mimetype": "text/x-python",
   "name": "python",
   "nbconvert_exporter": "python",
   "pygments_lexer": "ipython3",
   "version": "3.11.7"
  }
 },
 "nbformat": 4,
 "nbformat_minor": 5
}
