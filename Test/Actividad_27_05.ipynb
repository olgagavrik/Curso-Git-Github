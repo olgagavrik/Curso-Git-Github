{
 "cells": [
  {
   "cell_type": "markdown",
   "metadata": {},
   "source": [
    "#### 1.8 Sentencia Match-Case  \n",
    "\n",
    "Comparando valores.\n",
    "\n",
    "Permite comparar un valor de enrada cin una serie de literales. Algo así como un conjunto de sentencias \"if\" encadenadas.\n",
    "\n"
   ]
  },
  {
   "cell_type": "code",
   "execution_count": 4,
   "metadata": {},
   "outputs": [
    {
     "name": "stdout",
     "output_type": "stream",
     "text": [
      "No es el color correcto\n"
     ]
    }
   ],
   "source": [
    "color = input('Ingrese un color: ')\n",
    "match color:\n",
    "    case 'verde':\n",
    "        print('El color es verde')\n",
    "    case 'rojo':\n",
    "        print('El color es rojo')\n",
    "    case 'azul':\n",
    "        print('El color es azul')\n",
    "    case _:\n",
    "        print('No es el color correcto')\n"
   ]
  },
  {
   "cell_type": "code",
   "execution_count": 5,
   "metadata": {},
   "outputs": [
    {
     "name": "stdout",
     "output_type": "stream",
     "text": [
      "Otro error\n"
     ]
    }
   ],
   "source": [
    "error = int(input('Introduzca el código de error https: '))\n",
    "\n",
    "match error:\n",
    "    case 400:\n",
    "        print('Solocitud incorrecta')\n",
    "    case 401:\n",
    "        print('No autorizado')\n",
    "    case 403:\n",
    "        print('Prohibido')\n",
    "    case 404:\n",
    "        print('No encontrado')\n",
    "    case _:\n",
    "        print('Otro error')\n",
    "     "
   ]
  },
  {
   "cell_type": "code",
   "execution_count": 7,
   "metadata": {},
   "outputs": [
    {
     "name": "stdout",
     "output_type": "stream",
     "text": [
      "Error de autenticación\n"
     ]
    }
   ],
   "source": [
    "error = int(input('Introduzca el código de error https: '))\n",
    "\n",
    "match error:\n",
    "    case 400:\n",
    "        print('Solicitud incorrecta')\n",
    "    case 401 | 403:\n",
    "        print('Error de autenticación')\n",
    "    case 404:\n",
    "        print('No encontrado')\n",
    "    case _:\n",
    "        print('Otro error')"
   ]
  },
  {
   "cell_type": "markdown",
   "metadata": {},
   "source": [
    "#### Loop while"
   ]
  },
  {
   "cell_type": "code",
   "execution_count": 9,
   "metadata": {},
   "outputs": [
    {
     "name": "stdout",
     "output_type": "stream",
     "text": [
      "¡Bienvenido!\n",
      "¡Hola que tal!\n",
      "¡Que tenga un buen día!\n"
     ]
    }
   ],
   "source": [
    "saludo = 'S'  # importante dar un valor inicial\n",
    "print('¡Bienvenido!')\n",
    "while saludo == 'S':\n",
    "    print('¡Hola que tal!')\n",
    "    saludo = input('Quiere que le salude de nuevo? [S/N]')\n",
    "print('¡Que tenga un buen día!')"
   ]
  },
  {
   "cell_type": "code",
   "execution_count": 17,
   "metadata": {},
   "outputs": [
    {
     "name": "stdout",
     "output_type": "stream",
     "text": [
      "Gracias por su colaboración!\n"
     ]
    }
   ],
   "source": [
    "numero = int(input('Escriba un número positivo:'))\n",
    "while numero < 0:\n",
    "    print('Ha escrito un número negativo! Inténtelo de nuevo')\n",
    "    numero = int(input('Escriba un número positivo:'))\n",
    "print('Gracias por su colaboración!')"
   ]
  },
  {
   "cell_type": "code",
   "execution_count": 18,
   "metadata": {},
   "outputs": [
    {
     "name": "stdout",
     "output_type": "stream",
     "text": [
      "Ha escrito algo que no es un número entero! Inténtelo de nuevo\n",
      "Ha escrito algo que no es un número entero! Inténtelo de nuevo\n",
      "Ha escrito algo que no es un número entero! Inténtelo de nuevo\n",
      "Ha escrito algo que no es un número entero! Inténtelo de nuevo\n",
      "Ha escrito algo que no es un número entero! Inténtelo de nuevo\n",
      "Gracias por su colaboración!\n"
     ]
    }
   ],
   "source": [
    "while True:\n",
    "    try:\n",
    "        numero = int(input('Escriba un número positivo: '))\n",
    "        if numero >= 0:\n",
    "            break\n",
    "        else:\n",
    "            print('Ha escrito un número negativo! Inténtelo de nuevo')\n",
    "    except ValueError:\n",
    "        print('Ha escrito algo que no es un número entero! Inténtelo de nuevo')\n",
    "\n",
    "print('Gracias por su colaboración!')\n"
   ]
  },
  {
   "cell_type": "code",
   "execution_count": 22,
   "metadata": {},
   "outputs": [
    {
     "name": "stdout",
     "output_type": "stream",
     "text": [
      "Hola que tal!\n",
      "Hola que tal!\n",
      "Hola que tal!\n",
      "Hola que tal!\n",
      "Máximo numero de saludos alcanzado\n",
      "¡ Que tenga un buen día !\n"
     ]
    }
   ],
   "source": [
    "MAX_SALUDOS = 4\n",
    "nro_saludos = 0\n",
    "saludo = 'S'\n",
    "\n",
    "while saludo == 'S':\n",
    "    print('Hola que tal!')\n",
    "    nro_saludos += 1\n",
    "    if nro_saludos == MAX_SALUDOS:\n",
    "        print('Máximo numero de saludos alcanzado')\n",
    "        break\n",
    "    saludo = input('Quiere otro saludo? [S/N]')\n",
    "print('¡ Que tenga un buen día !')"
   ]
  },
  {
   "cell_type": "code",
   "execution_count": 23,
   "metadata": {},
   "outputs": [
    {
     "name": "stdout",
     "output_type": "stream",
     "text": [
      "Hola que tal!\n",
      "Hola que tal!\n",
      "Hola que tal!\n",
      "Hola que tal!\n",
      "Máximo números de saludoa alcanzado\n",
      "Que tenga un buen día!\n"
     ]
    }
   ],
   "source": [
    "MAX_SALUDOS = 4\n",
    "nro_saludos = 0\n",
    "saludo = 'S'\n",
    "while saludo == 'S':\n",
    "    print('Hola que tal!')\n",
    "    nro_saludos += 1\n",
    "    if nro_saludos == MAX_SALUDOS:\n",
    "        print('Máximo números de saludoa alcanzado')\n",
    "        break\n",
    "    saludo = input('Quiere otro saludo? [S/N] ')\n",
    "else:\n",
    "    print('Usted no quiere más saludos')\n",
    "print('Que tenga un buen día!')"
   ]
  },
  {
   "cell_type": "code",
   "execution_count": 24,
   "metadata": {},
   "outputs": [
    {
     "name": "stdout",
     "output_type": "stream",
     "text": [
      "Hola que tal!\n",
      "Hola que tal!\n",
      "Hola que tal!\n",
      "Hola que tal!\n",
      "Hola que tal!\n",
      "Hola que tal!\n",
      "Hola que tal!\n",
      "Hola que tal!\n",
      "No le entendido, pero le saludo\n",
      "Hola que tal!\n",
      "No le entendido, pero le saludo\n",
      "Hola que tal!\n",
      "8 respuestas validas\n",
      "Que tenga un buen día!\n"
     ]
    }
   ],
   "source": [
    "saludo = 'S'\n",
    "respuestas_validas = 0\n",
    "while saludo == 'S':\n",
    "    print('Hola que tal!')\n",
    "    nro_saludos += 1\n",
    "    saludo = input('Quiere otro saludo? [S/N]')\n",
    "    if saludo not in 'SN':\n",
    "        print('No le entendido, pero le saludo')\n",
    "        saludo = 'S'\n",
    "        continue\n",
    "    respuestas_validas += 1\n",
    "print(f'{respuestas_validas} respuestas validas')\n",
    "print('Que tenga un buen día!')\n",
    "    \n",
    "    "
   ]
  },
  {
   "cell_type": "markdown",
   "metadata": {},
   "source": [
    "#### Bucle infinito\n",
    "\n",
    "Si no establecemos correctamente la condición de parada o bien el\n",
    "valor de alguna variable está fuera de control, es posible que lleguemos\n",
    "a una situación de bucle infinito, del que nunca podamos salir.\n",
    "\n",
    "\n"
   ]
  },
  {
   "cell_type": "code",
   "execution_count": 25,
   "metadata": {},
   "outputs": [
    {
     "name": "stdout",
     "output_type": "stream",
     "text": [
      " Se ha incrementado en 2\n",
      " Se ha incrementado en 2\n",
      " Se ha incrementado en 2\n",
      " Se ha incrementado en 2\n",
      " Se ha incrementado en 2\n",
      "Fin\n"
     ]
    }
   ],
   "source": [
    "# un ejemplo de bucle\n",
    "numero = 1\n",
    "while numero < 10:\n",
    "    numero += 2\n",
    "    print(' Se ha incrementado en 2')\n",
    "print('Fin')"
   ]
  },
  {
   "cell_type": "code",
   "execution_count": 28,
   "metadata": {},
   "outputs": [
    {
     "name": "stdout",
     "output_type": "stream",
     "text": [
      "3.6\n",
      "2.3\n",
      "Nota fuera de rango...\n"
     ]
    }
   ],
   "source": [
    "# supuesto bucle 'infinito'\n",
    "while True:\n",
    "    mark = float(input('Introduzca una nueva nota:'))\n",
    "    if not(0 <= mark <= 10):\n",
    "        print('Nota fuera de rango...')\n",
    "        break\n",
    "    print(mark)"
   ]
  }
 ],
 "metadata": {
  "kernelspec": {
   "display_name": "base",
   "language": "python",
   "name": "python3"
  },
  "language_info": {
   "codemirror_mode": {
    "name": "ipython",
    "version": 3
   },
   "file_extension": ".py",
   "mimetype": "text/x-python",
   "name": "python",
   "nbconvert_exporter": "python",
   "pygments_lexer": "ipython3",
   "version": "3.11.7"
  }
 },
 "nbformat": 4,
 "nbformat_minor": 2
}
