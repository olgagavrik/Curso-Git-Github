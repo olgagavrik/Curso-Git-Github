{
 "cells": [
  {
   "cell_type": "markdown",
   "metadata": {},
   "source": [
    "### Practica # 18. Bucle while\n",
    "#### 1\n",
    "Escriba un programa que pregunte una y otra vez si desea continuar con el programa,\n",
    "siempre que se conteste exactamente sí (en minúsculas y con tilde)."
   ]
  },
  {
   "cell_type": "code",
   "execution_count": 2,
   "metadata": {},
   "outputs": [
    {
     "name": "stdout",
     "output_type": "stream",
     "text": [
      "sí\n",
      "sí\n",
      "sí\n",
      "sí\n",
      "sí\n",
      "Adios!\n"
     ]
    }
   ],
   "source": [
    "while True:\n",
    "    continuar = input('Desea continuar con el programa?: [sí/no]')\n",
    "    if not (continuar == 'sí'):\n",
    "        print('Adios!')\n",
    "        break\n",
    "    print(continuar)"
   ]
  },
  {
   "cell_type": "markdown",
   "metadata": {},
   "source": [
    "#### 2\n",
    "Escriba un programa que pregunte una y otra vez si desea terminar el programa, siempre\n",
    "que se conteste exactamente N (en mayúsculas)"
   ]
  },
  {
   "cell_type": "code",
   "execution_count": 4,
   "metadata": {},
   "outputs": [
    {
     "name": "stdout",
     "output_type": "stream",
     "text": [
      "N\n",
      "N\n",
      "N\n",
      "Adios!\n"
     ]
    }
   ],
   "source": [
    "while True:\n",
    "    terminar = input('Desea terminar el programa?: [S/N]')\n",
    "    if not (terminar == 'N'):\n",
    "        print('Adios!')\n",
    "        break\n",
    "    print(terminar)"
   ]
  },
  {
   "cell_type": "markdown",
   "metadata": {},
   "source": [
    "#### 3\n",
    "Escriba un programa que pregunte una y otra vez si desea continuar con el programa,\n",
    "siempre que se conteste S o s (en mayúsculas o en minúsculas)\n"
   ]
  },
  {
   "cell_type": "code",
   "execution_count": 7,
   "metadata": {},
   "outputs": [
    {
     "name": "stdout",
     "output_type": "stream",
     "text": [
      "SI\n",
      "SI\n",
      "SI\n",
      "SI\n",
      "SI\n",
      "Adios!\n"
     ]
    }
   ],
   "source": [
    "while True:\n",
    "    pregunta = input('Desea continuar con el programa?: [S/N]')\n",
    "    pregunta = pregunta.lower()\n",
    "    if not (pregunta == 's'):\n",
    "        print('Adios!')\n",
    "        break\n",
    "    print('SI')"
   ]
  },
  {
   "cell_type": "markdown",
   "metadata": {},
   "source": [
    "#### 4\n",
    " Escriba un programa que solicite una contraseña (el texto de la contraseña no es importante)\n",
    "y la vuelva a solicitar hasta que las dos contraseñas coincidan."
   ]
  },
  {
   "cell_type": "code",
   "execution_count": 12,
   "metadata": {},
   "outputs": [
    {
     "name": "stdout",
     "output_type": "stream",
     "text": [
      "Contraseña incorrecta, intenta de nuevo\n",
      "Contraseña incorrecta, intenta de nuevo\n",
      "Contraseña incorrecta, intenta de nuevo\n",
      "Contraseña incorrecta, intenta de nuevo\n",
      "La contraseña es correcta\n"
     ]
    }
   ],
   "source": [
    "num_intentos = 0\n",
    "contrasena_correcta = 'respuesta'  # Contraseña que deseas comparar con la entrada del usuario\n",
    "\n",
    "while num_intentos < 7:\n",
    "    password = input('Introduce tu contraseña: ')\n",
    "    if password == contrasena_correcta:\n",
    "        print('La contraseña es correcta')\n",
    "        break\n",
    "    else:\n",
    "        print('Contraseña incorrecta, intenta de nuevo')\n",
    "        num_intentos += 1\n",
    "\n",
    "if num_intentos == 7:\n",
    "    print('Demasiados intentos fallidos, vuelve a intentar pasado 1 hora:')\n"
   ]
  },
  {
   "cell_type": "markdown",
   "metadata": {},
   "source": [
    "#### 5\n",
    "Escriba un programa que simule una hucha. El programa solicitará primero una cantidad, que será\n",
    "la cantidad de dinero que queremos ahorrar. A continuación, el programa solicitará una y otra vez las\n",
    "cantidades que se irán ahorrando, hasta que el total ahorrado iguale o supere al objetivo. El\n",
    "programa no comprobará que las cantidades sean positivas."
   ]
  },
  {
   "cell_type": "code",
   "execution_count": 15,
   "metadata": {},
   "outputs": [
    {
     "name": "stdout",
     "output_type": "stream",
     "text": [
      "Total ahorrado hasta ahora: 25.00 euros\n",
      "Total ahorrado hasta ahora: 45.00 euros\n",
      "Total ahorrado hasta ahora: 65.00 euros\n",
      "Total ahorrado hasta ahora: 55.00 euros\n",
      "Total ahorrado hasta ahora: 105.00 euros\n",
      "Total ahorrado hasta ahora: 125.00 euros\n",
      "Total ahorrado hasta ahora: 145.00 euros\n",
      "Total ahorrado hasta ahora: 155.00 euros\n",
      "¡Felicidades! Has alcanzado tu objetivo de ahorro de 150.00 euros.\n"
     ]
    }
   ],
   "source": [
    "target_end = float(input(\"Introduce la cantidad de dinero que deseas ahorrar: \"))\n",
    "total_ahorrado = 0  # Inicializar el total ahorrado\n",
    "while total_ahorrado < target_end:\n",
    "    ahorro = float(input(\"¿Cuánto dinero deseas agregar a la hucha ahora? \"))\n",
    "    total_ahorrado += ahorro   # Sumar el ahorro al total ahorrado\n",
    "    print(f\"Total ahorrado hasta ahora: {total_ahorrado:.2f} euros\")\n",
    "print(f\"¡Felicidades! Has alcanzado tu objetivo de ahorro de {target_end:.2f} euros.\")\n"
   ]
  }
 ],
 "metadata": {
  "kernelspec": {
   "display_name": "base",
   "language": "python",
   "name": "python3"
  },
  "language_info": {
   "codemirror_mode": {
    "name": "ipython",
    "version": 3
   },
   "file_extension": ".py",
   "mimetype": "text/x-python",
   "name": "python",
   "nbconvert_exporter": "python",
   "pygments_lexer": "ipython3",
   "version": "3.11.7"
  }
 },
 "nbformat": 4,
 "nbformat_minor": 2
}
