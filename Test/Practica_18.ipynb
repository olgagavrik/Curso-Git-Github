{
 "cells": [
  {
   "cell_type": "markdown",
   "metadata": {},
   "source": [
    "### Practica # 18. Bucle while\n",
    "#### 1\n",
    "Escriba un programa que pregunte una y otra vez si desea continuar con el programa,\n",
    "siempre que se conteste exactamente sí (en minúsculas y con tilde)."
   ]
  },
  {
   "cell_type": "code",
   "execution_count": 2,
   "metadata": {},
   "outputs": [
    {
     "name": "stdout",
     "output_type": "stream",
     "text": [
      "sí\n",
      "sí\n",
      "sí\n",
      "sí\n",
      "sí\n",
      "Adios!\n"
     ]
    }
   ],
   "source": [
    "while True:\n",
    "    continuar = input('Desea continuar con el programa?: [sí/no]')\n",
    "    if not (continuar == 'sí'):\n",
    "        print('Adios!')\n",
    "        break\n",
    "    print(continuar)"
   ]
  },
  {
   "cell_type": "markdown",
   "metadata": {},
   "source": [
    "#### 2\n",
    "Escriba un programa que pregunte una y otra vez si desea terminar el programa, siempre\n",
    "que se conteste exactamente N (en mayúsculas)"
   ]
  },
  {
   "cell_type": "code",
   "execution_count": 4,
   "metadata": {},
   "outputs": [
    {
     "name": "stdout",
     "output_type": "stream",
     "text": [
      "N\n",
      "N\n",
      "N\n",
      "Adios!\n"
     ]
    }
   ],
   "source": [
    "while True:\n",
    "    terminar = input('Desea terminar el programa?: [S/N]')\n",
    "    if not (terminar == 'N'):\n",
    "        print('Adios!')\n",
    "        break\n",
    "    print(terminar)"
   ]
  },
  {
   "cell_type": "markdown",
   "metadata": {},
   "source": [
    "#### 3\n",
    "Escriba un programa que pregunte una y otra vez si desea continuar con el programa,\n",
    "siempre que se conteste S o s (en mayúsculas o en minúsculas)\n"
   ]
  },
  {
   "cell_type": "code",
   "execution_count": 7,
   "metadata": {},
   "outputs": [
    {
     "name": "stdout",
     "output_type": "stream",
     "text": [
      "SI\n",
      "SI\n",
      "SI\n",
      "SI\n",
      "SI\n",
      "Adios!\n"
     ]
    }
   ],
   "source": [
    "while True:\n",
    "    pregunta = input('Desea continuar con el programa?: [S/N]')\n",
    "    pregunta = pregunta.lower()\n",
    "    if not (pregunta == 's'):\n",
    "        print('Adios!')\n",
    "        break\n",
    "    print('SI')"
   ]
  },
  {
   "cell_type": "markdown",
   "metadata": {},
   "source": [
    "#### 4\n",
    " Escriba un programa que solicite una contraseña (el texto de la contraseña no es importante)\n",
    "y la vuelva a solicitar hasta que las dos contraseñas coincidan."
   ]
  },
  {
   "cell_type": "code",
   "execution_count": 12,
   "metadata": {},
   "outputs": [
    {
     "name": "stdout",
     "output_type": "stream",
     "text": [
      "Contraseña incorrecta, intenta de nuevo\n",
      "Contraseña incorrecta, intenta de nuevo\n",
      "Contraseña incorrecta, intenta de nuevo\n",
      "Contraseña incorrecta, intenta de nuevo\n",
      "La contraseña es correcta\n"
     ]
    }
   ],
   "source": [
    "num_intentos = 0\n",
    "contrasena_correcta = 'respuesta'  # Contraseña que deseas comparar con la entrada del usuario\n",
    "\n",
    "while num_intentos < 7:\n",
    "    password = input('Introduce tu contraseña: ')\n",
    "    if password == contrasena_correcta:\n",
    "        print('La contraseña es correcta')\n",
    "        break\n",
    "    else:\n",
    "        print('Contraseña incorrecta, intenta de nuevo')\n",
    "        num_intentos += 1\n",
    "\n",
    "if num_intentos == 7:\n",
    "    print('Demasiados intentos fallidos, vuelve a intentar pasado 1 hora:')\n"
   ]
  },
  {
   "cell_type": "markdown",
   "metadata": {},
   "source": [
    "#### 5\n",
    "Escriba un programa que simule una hucha. El programa solicitará primero una cantidad, que será\n",
    "la cantidad de dinero que queremos ahorrar. A continuación, el programa solicitará una y otra vez las\n",
    "cantidades que se irán ahorrando, hasta que el total ahorrado iguale o supere al objetivo. El\n",
    "programa no comprobará que las cantidades sean positivas."
   ]
  },
  {
   "cell_type": "code",
   "execution_count": 15,
   "metadata": {},
   "outputs": [
    {
     "name": "stdout",
     "output_type": "stream",
     "text": [
      "Total ahorrado hasta ahora: 25.00 euros\n",
      "Total ahorrado hasta ahora: 45.00 euros\n",
      "Total ahorrado hasta ahora: 65.00 euros\n",
      "Total ahorrado hasta ahora: 55.00 euros\n",
      "Total ahorrado hasta ahora: 105.00 euros\n",
      "Total ahorrado hasta ahora: 125.00 euros\n",
      "Total ahorrado hasta ahora: 145.00 euros\n",
      "Total ahorrado hasta ahora: 155.00 euros\n",
      "¡Felicidades! Has alcanzado tu objetivo de ahorro de 150.00 euros.\n"
     ]
    }
   ],
   "source": [
    "target_end = float(input(\"Introduce la cantidad de dinero que deseas ahorrar: \"))\n",
    "total_ahorrado = 0  # Inicializar el total ahorrado\n",
    "while total_ahorrado < target_end:\n",
    "    ahorro = float(input(\"¿Cuánto dinero deseas agregar a la hucha ahora? \"))\n",
    "    total_ahorrado += ahorro   # Sumar el ahorro al total ahorrado\n",
    "    print(f\"Total ahorrado hasta ahora: {total_ahorrado:.2f} euros\")\n",
    "print(f\"¡Felicidades! Has alcanzado tu objetivo de ahorro de {target_end:.2f} euros.\")\n"
   ]
  },
  {
   "cell_type": "markdown",
   "metadata": {},
   "source": [
    "#### 6.\n",
    "Escriba un programa que mejore la simulación de la hucha del ejercicio anterior, no permitiendo\n",
    "que se escriban cantidades negativas."
   ]
  },
  {
   "cell_type": "code",
   "execution_count": 1,
   "metadata": {},
   "outputs": [
    {
     "name": "stdout",
     "output_type": "stream",
     "text": [
      "Total ahorrado hasta ahora: 50.00 euros\n",
      "Total ahorrado hasta ahora: 75.00 euros\n",
      "No puedes agregar cantidades negativas.\n",
      "Total ahorrado hasta ahora: 130.00 euros\n",
      "No puedes agregar cantidades negativas.\n",
      "Total ahorrado hasta ahora: 155.00 euros\n",
      "¡Felicidades! Has alcanzado tu objetivo de ahorro de 150.00 euros.\n"
     ]
    }
   ],
   "source": [
    "target_end = float(input(\"Introduce la cantidad de dinero que deseas ahorrar: \"))\n",
    "total_ahorrado = 0  # Inicializar el total ahorrado\n",
    "\n",
    "while total_ahorrado < target_end:\n",
    "    ahorro = float(input(\"¿Cuánto dinero deseas agregar a la hucha ahora? \"))\n",
    "    if ahorro < 0:\n",
    "        print(\"No puedes agregar cantidades negativas.\")\n",
    "    else:\n",
    "        total_ahorrado += ahorro   # Sumar el ahorro al total ahorrado si es positivo\n",
    "        print(f\"Total ahorrado hasta ahora: {total_ahorrado:.2f} euros\")\n",
    "\n",
    "print(f\"¡Felicidades! Has alcanzado tu objetivo de ahorro de {target_end:.2f} euros.\")\n",
    "\n"
   ]
  },
  {
   "cell_type": "markdown",
   "metadata": {},
   "source": [
    "#### 7.\n",
    "Escriba un programa que solicite una contraseña (el texto de la contraseña no es importante) y la\n",
    "vuelva a solicitar hasta que las dos contraseñas coincidan, con un límite de tres peticiones."
   ]
  },
  {
   "cell_type": "code",
   "execution_count": 2,
   "metadata": {},
   "outputs": [
    {
     "name": "stdout",
     "output_type": "stream",
     "text": [
      "Las contraseña no es correcta.\n",
      "Por favor, inténtalo de nuevo.\n",
      "Las contraseña no es correcta.\n",
      "Por favor, inténtalo de nuevo.\n",
      "La contraseña es correcta. Acceso concedido.\n"
     ]
    }
   ],
   "source": [
    "for intento in range(3):  # Limitar a tres intentos\n",
    "    password = 'enigma'\n",
    "    contraseña = input(\"Introduce tu contraseña : \")\n",
    "\n",
    "    if password == contraseña:\n",
    "        print(\"La contraseña es correcta. Acceso concedido.\")\n",
    "        break  # Salir del bucle si las contraseña coincide\n",
    "    else:\n",
    "        print(\"Las contraseña no es correcta.\")\n",
    "        if intento < 2:  # Comprobar si aún quedan intentos disponibles\n",
    "            print(\"Por favor, inténtalo de nuevo.\")\n",
    "        else:\n",
    "            print(\"Has excedido el número de intentos permitidos.\")\n",
    "\n",
    "if password != contraseña:\n",
    "    print(\"No se pudo confirmar la contraseña después de 3 intentos.\")\n"
   ]
  },
  {
   "cell_type": "markdown",
   "metadata": {},
   "source": [
    "#### 8.\n",
    "Escriba un programa que lea los números enteros desde teclado, hasta que el usuario ingrese el 0.\n",
    "Finalmente, mostrar la sumatoria de todos los números ingresados."
   ]
  },
  {
   "cell_type": "code",
   "execution_count": 3,
   "metadata": {},
   "outputs": [
    {
     "name": "stdout",
     "output_type": "stream",
     "text": [
      "La suma de todos los números ingresados es: 661\n"
     ]
    }
   ],
   "source": [
    "total = 0  # Inicia la variable para guardar la suma\n",
    "\n",
    "while True:  # Bucle infinito que se romperá bajo una condición específica\n",
    "    numero = int(input(\"Introduce un número entero (0 para terminar): \"))\n",
    "    if numero == 0:\n",
    "        break  # Romper el bucle si el usuario introduce 0\n",
    "    total += numero  # Sumar el número ingresado al total\n",
    "\n",
    "print(f\"La suma de todos los números ingresados es: {total}\")\n"
   ]
  },
  {
   "cell_type": "markdown",
   "metadata": {},
   "source": [
    "#### 9.\n",
    "Escriba un programa que lea los números enteros desde teclado, hasta que el usuario ingrese el 0.\n",
    "Finalmente, mostrar la cantidad de todos los números positivos ingresados."
   ]
  },
  {
   "cell_type": "code",
   "execution_count": 5,
   "metadata": {},
   "outputs": [
    {
     "name": "stdout",
     "output_type": "stream",
     "text": [
      "Has ingresado 5 números positivos.\n"
     ]
    }
   ],
   "source": [
    "contador_positivos = 0  # Inicializar el contador de números positivos\n",
    "\n",
    "while True:  # Bucle infinito que se romperá bajo una condición específica\n",
    "    numero = int(input(\"Introduce un número entero (0 para terminar): \"))\n",
    "    if numero == 0:\n",
    "        break  # Romper el bucle si el usuario introduce 0\n",
    "    if numero > 0:\n",
    "        contador_positivos += 1  # Incrementar el contador si el número es positivo\n",
    "\n",
    "print(f\"Has ingresado {contador_positivos} números positivos.\")"
   ]
  },
  {
   "cell_type": "markdown",
   "metadata": {},
   "source": [
    "#### 10.\n",
    "Escriba un programa que lea los números enteros positivos de teclado, hasta que el usuario\n",
    "ingrese el 0. Informar cuál fue el mayor número ingresado."
   ]
  },
  {
   "cell_type": "code",
   "execution_count": 6,
   "metadata": {},
   "outputs": [
    {
     "name": "stdout",
     "output_type": "stream",
     "text": [
      "El mayor número ingresado fue: 4586\n"
     ]
    }
   ],
   "source": [
    "mayor_numero = -1  # Inicializar la variable con un valor que será menor a cualquier número positivo ingresado\n",
    "\n",
    "while True:  # Bucle infinito que se romperá bajo una condición específica\n",
    "    numero = int(input(\"Introduce un número entero positivo (0 para terminar): \"))\n",
    "    if numero == 0:\n",
    "        break  # Romper el bucle si el usuario introduce 0\n",
    "    if numero > mayor_numero:\n",
    "        mayor_numero = numero  # Actualizar el mayor número si el número ingresado es más grande\n",
    "\n",
    "if mayor_numero == -1:\n",
    "    print(\"No se ingresaron números positivos.\")\n",
    "else:\n",
    "    print(f\"El mayor número ingresado fue: {mayor_numero}\")\n"
   ]
  }
 ],
 "metadata": {
  "kernelspec": {
   "display_name": "Python 3.8.10 64-bit",
   "language": "python",
   "name": "python3"
  },
  "language_info": {
   "codemirror_mode": {
    "name": "ipython",
    "version": 3
   },
   "file_extension": ".py",
   "mimetype": "text/x-python",
   "name": "python",
   "nbconvert_exporter": "python",
   "pygments_lexer": "ipython3",
   "version": "3.8.10"
  },
  "vscode": {
   "interpreter": {
    "hash": "2a75be7c44ec7304484796a123393aaf72432c0d4935e52fae8ff7c54b508870"
   }
  }
 },
 "nbformat": 4,
 "nbformat_minor": 2
}
