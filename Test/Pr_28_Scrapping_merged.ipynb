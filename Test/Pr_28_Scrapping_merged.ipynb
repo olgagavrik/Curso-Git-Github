{
 "cells": [
  {
   "cell_type": "markdown",
   "id": "2ecad428",
   "metadata": {},
   "source": [
    "#### he combinado dos notebooks, he añadido notebook de tutorial de scraping actualiazado a esta."
   ]
  },
  {
   "attachments": {
    "image.png": {
     "image/png": "[encoded data removed]"
    }
   },
   "cell_type": "markdown",
   "id": "4250c375",
   "metadata": {},
   "source": [
    "![image.png](attachment:image.png)"
   ]
  },
  {
   "attachments": {
    "image.png": {
     "image/png": "[encoded data removed]"
    }
   },
   "cell_type": "markdown",
   "id": "57ee23a9",
   "metadata": {},
   "source": [
    "URLs\n",
    "\n",
    "#### schema:[//[user[:passwd]@]host[:port]][/path][?query][#tag]\n",
    "\n",
    "![image.png](attachment:image.png)\n",
    "\n",
    "En esta URL, el esquema viene dado por el protocolo https, la autoridad\n",
    "corresponde con es.wikipedia.org (no hay usuario ni palabra clave) y la ruta es la\n",
    "cadena wiki/Alan_Turing. La URI no contiene consultas, pero s� una etiqueta final,\n",
    "tras el s�mbolo �#�: Turing_en_el_cine."
   ]
  },
  {
   "cell_type": "code",
   "execution_count": 3,
   "id": "7b254349",
   "metadata": {},
   "outputs": [
    {
     "name": "stdout",
     "output_type": "stream",
     "text": [
      "Error al descargar el archivo: 503\n"
     ]
    }
   ],
   "source": [
    "import os\n",
    "import requests\n",
    "\n",
    "# Definir la URL y el directorio de destino\n",
    "url = \"http://www.mambiente.munimadrid.es/opendata/horario.txt\"\n",
    "directory = r'C:\\Users\\CursosTardes\\Desktop\\Olga GG\\Modulo_5_P\\PythonGH\\IT-Automation-with-Python\\Test'\n",
    "file_path = os.path.join(directory, 'horario.txt')\n",
    "\n",
    "# Asegurarse de que el directorio existe\n",
    "os.makedirs(directory, exist_ok=True)\n",
    "\n",
    "try:\n",
    "    # Descargar el archivo\n",
    "    resp = requests.get(url)\n",
    "    if resp.status_code == 200:\n",
    "        with open(file_path, 'wb') as output:\n",
    "            output.write(resp.content)\n",
    "        print(f\"Archivo guardado en: {file_path}\")\n",
    "    else:\n",
    "        print(f\"Error al descargar el archivo: {resp.status_code}\")\n",
    "except Exception as e:\n",
    "    print(f\"Ocurri� un error: {e}\")\n"
   ]
  },
  {
   "cell_type": "markdown",
   "id": "5c84f7fe",
   "metadata": {},
   "source": [
    "#### Analizar datos descargados con csv y matplotlib:"
   ]
  },
  {
   "cell_type": "code",
   "execution_count": null,
   "id": "7bbb8d53",
   "metadata": {},
   "outputs": [],
   "source": [
    "import csv\n",
    "import matplotlib.pyplot as plt\n",
    "\n",
    "path = r'C:\\Users\\CursosTardes\\Desktop\\Olga GG\\Modulo_5_P\\PythonGH\\IT-Automation-with-Python\\Test'\n",
    "with open(path + r'\\horario.txt') as csvfile:\n",
    "    readCSV = csv.reader(csvfile, delimiter=',')\n",
    "    for row in readCSV:\n",
    "        # Verificar que la fila tenga al menos 57 columnas\n",
    "        if len(row) < 57:\n",
    "            print(f\"Fila con longitud inesperada: {row}\")\n",
    "            continue\n",
    "        \n",
    "        if (row[0]+row[1]+row[2]=='28079004' and row[3]=='12'):\n",
    "            plt.title(\"�xido de nitr�geno: \" + row[8] + \"/\" + row[7] + \"/\" + row[6])\n",
    "            hora = 0\n",
    "            desp = 9\n",
    "            vs = []\n",
    "            horas = []\n",
    "            while hora <= 23:\n",
    "                if row[desp + 2*hora + 1] == 'V':\n",
    "                    vs.append(row[desp + 2*hora])\n",
    "                    horas.append(hora)\n",
    "                hora += 1\n",
    "            plt.plot(horas, vs)\n",
    "            plt.show()\n"
   ]
  },
  {
   "cell_type": "markdown",
   "id": "356a0b1f",
   "metadata": {},
   "source": [
    "#### Web scraping est�tico con BeautifulSoup:"
   ]
  },
  {
   "cell_type": "code",
   "execution_count": 9,
   "id": "f7904144",
   "metadata": {},
   "outputs": [
    {
     "name": "stdout",
     "output_type": "stream",
     "text": [
      "<!DOCTYPE html>\n",
      "<html>\n",
      " <head>\n",
      "  <title>\n",
      "   Un mini ejemplo\n",
      "  </title>\n",
      " </head>\n",
      " <body>\n",
      "  <div id=\"date\">\n",
      "   Fecha 13/06/2024\n",
      "  </div>\n",
      "  <div id=\"content\">\n",
      "   Un poco de texto\n",
      "  </div>\n",
      " </body>\n",
      "</html>\n",
      "\n",
      " Fecha 13/06/2024 \n"
     ]
    }
   ],
   "source": [
    "from bs4 import BeautifulSoup\n",
    "\n",
    "# Ruta del archivo\n",
    "url = r'C:\\Users\\CursosTardes\\Desktop\\Olga GG\\Modulo_5_P\\PythonGH\\IT-Automation-with-Python\\Test\\mini.html'\n",
    "\n",
    "# Crear un archivo HTML de ejemplo si no existe\n",
    "html_content = '''\n",
    "<!DOCTYPE html>\n",
    "<html>\n",
    "  <head>\n",
    "    <title>\n",
    "      Un mini ejemplo\n",
    "    </title>\n",
    "  </head>\n",
    "  <body>\n",
    "    <div id=\"date\"> Fecha 13/06/2024 </div>\n",
    "    <div id=\"content\"> Un poco de texto </div>\n",
    "  </body>\n",
    "</html>\n",
    "'''\n",
    "\n",
    "# Escribir el contenido HTML en el archivo\n",
    "with open(url, \"w\") as f:\n",
    "    f.write(html_content)\n",
    "\n",
    "# Leer el archivo HTML y procesarlo con BeautifulSoup\n",
    "with open(url, \"r\") as f:\n",
    "    page = f.read()\n",
    "\n",
    "soup = BeautifulSoup(page, \"html.parser\")\n",
    "print(soup.prettify())\n",
    "print(soup.find(\"div\", id=\"date\").get_text())\n"
   ]
  },
  {
   "cell_type": "markdown",
   "id": "f3af7de4",
   "metadata": {},
   "source": [
    "#### Web scraping din�mico con Selenium:\n",
    "\n"
   ]
  },
  {
   "cell_type": "markdown",
   "id": "2ca647b1",
   "metadata": {},
   "source": [
    "# Big Data con Python\n",
    "\n",
    "#### Rafael Caballero, Enrique Mart�n y Adri�n Riesco. Editorial RC libros\n",
    "\n",
    "## Cap�tulo 2:  ejemplo  de web scraping. Acceso a los datos del catastro\n"
   ]
  },
  {
   "cell_type": "markdown",
   "id": "1d68542d",
   "metadata": {},
   "source": [
    "El prop�sito de este notebook es mostrar como hacer web scraping de datos de una p�gina, en este ejemplo del catastro,  que nos exige introducir previamente datos e interaccionar, en este caso seleccionando pesta�as y pulsando botones.\n",
    "\n",
    "En particular utilizaremos la biblioteca *Selenium* que nos permite obtener autom�ticamente datos de p�ginas web din�micas. Selenium est� pensado realmente para automatizar pruebas de entornos web, pero a nosotros nos servir� para nuestro prop�sito de hacer web scraping.\n",
    "\n",
    "En particular, lo que vamos a hacer es arrancar google Chrome y manejarlo autom�ticamente desde Python.\n",
    "\n",
    "\n",
    "\n",
    "**Preparaci�n**\n",
    "\n",
    "\n",
    "Para ello necesitamos 3 cosas:\n",
    "\n",
    "1.- Tener google Chrome\n",
    "\n",
    "2.- Instalar la biblioteca selenium (pip install selenium)\n",
    "\n",
    "3.- Tener un fichero controlador, un driver, de nombre *chromedriver.exe*.Esto lo vamos a hacer mediante la librer�a chromedriver_autoinstaller"
   ]
  },
  {
   "cell_type": "markdown",
   "id": "63c0ec24",
   "metadata": {},
   "source": [
    "\n",
    "#### Paso 1: abrir navegador\n",
    "Comenzamos abriendo una sesi�n de Chrome de forma autom�tica\n",
    "\n",
    "\n",
    "**Importante**\n",
    "Una vez que logremos que se abra el navegador no debemos teclear nada en �l, ni cerrarlo el control lo llevaremos desde el programa en Python"
   ]
  },
  {
   "cell_type": "code",
   "execution_count": 1,
   "id": "8f17cf76",
   "metadata": {},
   "outputs": [
    {
     "name": "stdout",
     "output_type": "stream",
     "text": [
      "Instalando m�dulos\n",
      "selenium  encontrado\n",
      "chromedriver_autoinstaller  encontrado\n",
      "�Terminado!\n"
     ]
    }
   ],
   "source": [
    "modules = [\"selenium\",\"chromedriver_autoinstaller\"]\n",
    "\n",
    "\n",
    "import sys\n",
    "import os.path\n",
    "from subprocess import check_call\n",
    "import importlib\n",
    "import os\n",
    "\n",
    "def instala(modules):\n",
    "    print(\"Instalando m�dulos\")\n",
    "    for m in modules:\n",
    "        # para el import quitamos [...] y ==...\n",
    "        p = m.find(\"[\")\n",
    "        mi = m if p==-1 else m[:p]\n",
    "        p = mi.find(\"==\")\n",
    "        mi = mi if p==-1 else mi[:p]\n",
    "        torch_loader = importlib.util.find_spec(mi)\n",
    "        if torch_loader is not None:\n",
    "            print(m,\" encontrado\")\n",
    "        else:\n",
    "            print(m,\" No encontrado, instalando...\",end=\"\")  \n",
    "            try:        \n",
    "                r = check_call([sys.executable, \"-m\", \"pip\", \"install\", \"--user\",  m])\n",
    "                print(\"�hecho!\")\n",
    "            except:\n",
    "                print(\"�Problema al instalar \",m,\"! �seguro que el m�dulo existe?\",sep=\"\")\n",
    "\n",
    "    print(\"�Terminado!\")\n",
    "\n",
    "instala(modules) "
   ]
  },
  {
   "cell_type": "code",
   "execution_count": 2,
   "id": "e30add83",
   "metadata": {},
   "outputs": [],
   "source": [
    "import pandas as pd\n",
    "from bs4 import BeautifulSoup\n",
    "from selenium import webdriver\n",
    "import chromedriver_autoinstaller\n",
    "\n",
    "# setup chrome options\n",
    "chrome_options = webdriver.ChromeOptions()\n",
    "#chrome_options.add_argument('--headless') # ensure GUI is off\n",
    "#chrome_options.add_argument('--no-sandbox')\n",
    "#chrome_options.add_argument('--disable-dev-shm-usage')\n",
    "\n",
    "# set path to chromedriver as per your configuration\n",
    "chromedriver_autoinstaller.install()\n",
    "\n",
    "\n",
    "# set up the webdriver\n",
    "driver = webdriver.Chrome(options=chrome_options)"
   ]
  },
  {
   "cell_type": "markdown",
   "id": "65886ca7",
   "metadata": {},
   "source": [
    "### Paso 2: cargar p�gina\n",
    "Una vez abierto el navegador lo siguiente es cargar la p�gina que deseemos, en este caso la del catastro. Debemos ver c�mo se carga la p�gina correspondiente"
   ]
  },
  {
   "cell_type": "code",
   "execution_count": 3,
   "id": "bf7475e4",
   "metadata": {},
   "outputs": [],
   "source": [
    "url = 'https://www1.sedecatastro.gob.es/CYCBienInmueble/OVCBusqueda.aspx'\n",
    "driver.get(url)"
   ]
  },
  {
   "cell_type": "markdown",
   "id": "3641f3d2",
   "metadata": {},
   "source": [
    "Es cada vez m�s normal que al cargar la p�gina tengamos que dar \"Aceptar\" para quitar el banner inicial sobre cookies"
   ]
  },
  {
   "cell_type": "code",
   "execution_count": 4,
   "id": "145657de",
   "metadata": {},
   "outputs": [
    {
     "name": "stdout",
     "output_type": "stream",
     "text": [
      "No se encontr� el bot�n de aceptar cookies o ocurri� un error: Message: no such element: Unable to locate element: {\"method\":\"link text\",\"selector\":\"Aceptar cookies\"}\n",
      "  (Session info: chrome=126.0.6478.61); For documentation on this error, please visit: https://www.selenium.dev/documentation/webdriver/troubleshooting/errors#no-such-element-exception\n",
      "Stacktrace:\n",
      "\tGetHandleVerifier [0x00F90F03+27667]\n",
      "\t(No symbol) [0x00F26C04]\n",
      "\t(No symbol) [0x00E21AFF]\n",
      "\t(No symbol) [0x00E62BFE]\n",
      "\t(No symbol) [0x00E62CDB]\n",
      "\t(No symbol) [0x00E9EC22]\n",
      "\t(No symbol) [0x00E83974]\n",
      "\t(No symbol) [0x00E9CAC7]\n",
      "\t(No symbol) [0x00E836C6]\n",
      "\t(No symbol) [0x00E574D1]\n",
      "\t(No symbol) [0x00E5804D]\n",
      "\tGetHandleVerifier [0x01243D83+2857619]\n",
      "\tGetHandleVerifier [0x01297EED+3202045]\n",
      "\tGetHandleVerifier [0x01014704+566292]\n",
      "\tGetHandleVerifier [0x0101B8FC+595468]\n",
      "\t(No symbol) [0x00F2F9F4]\n",
      "\t(No symbol) [0x00F2C708]\n",
      "\t(No symbol) [0x00F2C8A7]\n",
      "\t(No symbol) [0x00F1E79E]\n",
      "\tBaseThreadInitThunk [0x7578FCC9+25]\n",
      "\tRtlGetAppContainerNamedObjectPath [0x77877C5E+286]\n",
      "\tRtlGetAppContainerNamedObjectPath [0x77877C2E+238]\n",
      "\n"
     ]
    }
   ],
   "source": [
    "from selenium.webdriver.common.by import By\n",
    "from selenium.webdriver.chrome.options import Options\n",
    "import time\n",
    "#aceptar las cookies\n",
    "\n",
    "try:\n",
    "    cookies = driver.find_element(By.LINK_TEXT, \"Aceptar cookies\")\n",
    "    cookies.click()\n",
    "    print(\"Cookies aceptadas.\")\n",
    "except Exception as e:\n",
    "    print(\"No se encontr� el bot�n de aceptar cookies o ocurri� un error:\", e)\n"
   ]
  },
  {
   "cell_type": "markdown",
   "id": "af4162e0",
   "metadata": {},
   "source": [
    "### Paso 3, interacci�n con la p�gina\n",
    "\n",
    "Ahora queremos seleccionar la pesta�a coordenadas, ya que vamos a introducir las coordenadas de un lugar concreto. Esto se hace en dos fases: primero se selecciona el elemento y luego interaccionamos con �l. En este caso comprobamos viendo el c�digo fuente que la etiqueta COORDENADAS es un enlace, sobre el que deseamos hacer click\n"
   ]
  },
  {
   "cell_type": "code",
   "execution_count": 5,
   "id": "1965708c",
   "metadata": {},
   "outputs": [],
   "source": [
    "from selenium.webdriver.common.by import By\n",
    "coord   = driver.find_element(By.LINK_TEXT,\"COORDENADAS\")\n",
    "coord.click()"
   ]
  },
  {
   "cell_type": "markdown",
   "id": "fe245968",
   "metadata": {},
   "source": [
    "Ya en la pesta�a, introducimos las coordenadas y hacemos click para buscar la informaci�n. En este ejemplo hemos puesto las coordenadas  long=1.893817, lat=41.545639, pero pueden ser otras cualesquiera"
   ]
  },
  {
   "cell_type": "code",
   "execution_count": 6,
   "id": "b9aa2e34",
   "metadata": {},
   "outputs": [],
   "source": [
    "lat = driver.find_element(By.ID,\"ctl00_Contenido_txtLatitud\")\n",
    "lon = driver.find_element(By.ID,\"ctl00_Contenido_txtLongitud\")\n",
    "latitud  = \"41.545639 \"\n",
    "longitud = \"1.893817\"\n",
    "lat.send_keys(latitud)\n",
    "lon.send_keys(longitud)\n",
    "\n",
    "datos = driver.find_element(By.NAME, \"ctl00$Contenido$btnDatos\")\n",
    "datos.click()\n"
   ]
  },
  {
   "attachments": {
    "image.png": {
     "image/png": "[encoded data removed]"
    }
   },
   "cell_type": "markdown",
   "id": "ccf4d13f",
   "metadata": {},
   "source": [
    "![image.png](attachment:image.png)"
   ]
  },
  {
   "cell_type": "markdown",
   "id": "0224b3f0",
   "metadata": {},
   "source": [
    "Ahora supongamos que queremos determinar el uso principal de este inmueble, para ellos buscamos "
   ]
  },
  {
   "cell_type": "code",
   "execution_count": 21,
   "id": "33f8c968",
   "metadata": {},
   "outputs": [
    {
     "name": "stdout",
     "output_type": "stream",
     "text": [
      "7801701DF0070S0001QY    \n",
      "Religioso\n"
     ]
    }
   ],
   "source": [
    "xpath = \"//*[./span/text()='Referencia catastral']//label\"\n",
    "etiqs = driver.find_element(By.XPATH,xpath)\n",
    "print(etiqs.text)\n",
    "xpath = \"//*[./span/text()='Uso principal']//label\"\n",
    "etiqs = driver.find_element(By.XPATH,xpath)\n",
    "print(etiqs.text)"
   ]
  },
  {
   "attachments": {
    "image.png": {
     "image/png": "[encoded data removed]"
    }
   },
   "cell_type": "markdown",
   "id": "187ec722",
   "metadata": {},
   "source": [
    "![image.png](attachment:image.png)"
   ]
  },
  {
   "cell_type": "markdown",
   "id": "6170f2f6",
   "metadata": {},
   "source": [
    "### Otras pruebas"
   ]
  },
  {
   "cell_type": "markdown",
   "id": "cc36e37f",
   "metadata": {},
   "source": [
    "Texto de la p�gina"
   ]
  },
  {
   "cell_type": "code",
   "execution_count": 7,
   "id": "63390cb4",
   "metadata": {},
   "outputs": [
    {
     "name": "stdout",
     "output_type": "stream",
     "text": [
      "Formulario master\n",
      "Castellano\n",
      "ICONO CORREO ELECTR�NICO\n",
      "CONT�CTENOS\n",
      "Icono p�gina de inicio\n",
      "Consulta y certificaci�n de Bien Inmueble\n",
      "Volver\n",
      "CARTOGRAF�A\n",
      "CONSULTA DESCRIPTIVA Y GR�FICA\n",
      "IMPRIMIR DATOS\n",
      "VISOR 3D\n",
      "DATOS DESCRIPTIVOS DEL INMUEBLE\n",
      "Referencia catastral\n",
      "7801701DF0070S0001QY    \n",
      "Localizaci�n\n",
      "PZ NOVA 20\n",
      "08640 OLESA DE MONTSERRAT (BARCELONA)\n",
      "Clase\n",
      "Urbano\n",
      "Uso principal\n",
      "Religioso\n",
      "Superficie construida\n",
      "3.221 m2\n",
      "A�o construcci�n\n",
      "1400\n",
      "PARCELA CATASTRAL\n",
      "\n",
      "Parcela construida sin divisi�n horizontal\n",
      "Localizaci�n\n",
      "PZ NOVA 20\n",
      "OLESA DE MONTSERRAT (BARCELONA)\n",
      "Superficie gr�fica\n",
      "1.884 m2\n",
      "CONSTRUCCI�N\n",
      "Uso principal Escalera Planta Puerta Superficie m2 Tipo Reforma Fecha Reforma\n",
      "RELIGIOSO T OD OS 2.117 I Reforma m�nima 1.960\n",
      "RELIGIOSO T OD OS 249 I Reforma m�nima 1.960\n",
      "ALMACEN T OD OS 765 I Reforma m�nima 1.960\n",
      "RELIGIOSO 1 00 01 13 O Reforma total 2.002\n",
      "RELIGIOSO 1 01 01 26 O Reforma total 2.002\n",
      "RELIGIOSO 1 01 01 51\n",
      "�C�mo se pueden obtener datos protegidos (titularidad y valor catastral) de los inmuebles y certificados telem�ticos de los mismos?\n",
      "\n",
      "\n",
      "\n",
      "\n",
      "\n",
      "\n",
      "\n",
      "\n",
      "Normativa reguladora\n",
      "Pol�tica de privacidad\n",
      "Accesibilidad\n",
      "Mapa web\n"
     ]
    }
   ],
   "source": [
    "html = driver.find_element(By.XPATH,\"/html\")\n",
    "print(html.text)"
   ]
  },
  {
   "cell_type": "markdown",
   "id": "0acb9162",
   "metadata": {},
   "source": [
    "Caminos absolutos"
   ]
  },
  {
   "cell_type": "code",
   "execution_count": 8,
   "id": "6329dd03",
   "metadata": {},
   "outputs": [],
   "source": [
    "head = driver.find_element(By.XPATH,\"/html/head\")\n",
    "body = driver.find_element(By.XPATH,\"/html/body\")\n",
    "html2 = body.find_element(By.XPATH,\"/html\")"
   ]
  },
  {
   "cell_type": "markdown",
   "id": "24e8651a",
   "metadata": {},
   "source": [
    "Hijos de un elemento"
   ]
  },
  {
   "cell_type": "code",
   "execution_count": 9,
   "id": "dc2e68db",
   "metadata": {},
   "outputs": [
    {
     "name": "stdout",
     "output_type": "stream",
     "text": [
      "div\n",
      "div\n",
      "form\n",
      "div\n",
      "script\n",
      "a\n",
      "script\n",
      "link\n",
      "script\n",
      "script\n",
      "script\n"
     ]
    }
   ],
   "source": [
    "hijos = driver.find_elements(By.XPATH,\"/html/body/*\")\n",
    "for element in hijos:\n",
    "    print(element.tag_name)"
   ]
  },
  {
   "cell_type": "markdown",
   "id": "e0cd6c44",
   "metadata": {},
   "source": [
    "Camino relativo"
   ]
  },
  {
   "cell_type": "code",
   "execution_count": 10,
   "id": "c441f720",
   "metadata": {},
   "outputs": [
    {
     "name": "stdout",
     "output_type": "stream",
     "text": [
      "3\n"
     ]
    }
   ],
   "source": [
    "divs = driver.find_elements(By.XPATH,\"/html/body/*/div\")\n",
    "print(len(divs))"
   ]
  },
  {
   "cell_type": "code",
   "execution_count": 11,
   "id": "daec1510",
   "metadata": {},
   "outputs": [
    {
     "name": "stdout",
     "output_type": "stream",
     "text": [
      "3\n"
     ]
    }
   ],
   "source": [
    "divs = body.find_elements(By.XPATH,\"./*/div\")\n",
    "print(len(divs))"
   ]
  },
  {
   "cell_type": "markdown",
   "id": "0c0e00cb",
   "metadata": {},
   "source": [
    "Saltar pasos intermedios"
   ]
  },
  {
   "cell_type": "code",
   "execution_count": 12,
   "id": "cfaffdd9",
   "metadata": {},
   "outputs": [
    {
     "name": "stdout",
     "output_type": "stream",
     "text": [
      "155\n"
     ]
    }
   ],
   "source": [
    "divs = driver.find_elements(By.XPATH,\"/html/body//div\")\n",
    "print(len(divs))"
   ]
  },
  {
   "cell_type": "code",
   "execution_count": 13,
   "id": "ed3b9f48",
   "metadata": {},
   "outputs": [
    {
     "name": "stdout",
     "output_type": "stream",
     "text": [
      "19\n"
     ]
    }
   ],
   "source": [
    "labels = driver.find_elements(By.XPATH,\"//label\")\n",
    "print(len(labels))"
   ]
  },
  {
   "cell_type": "markdown",
   "id": "2156a826",
   "metadata": {},
   "source": [
    "Insertar texto"
   ]
  },
  {
   "cell_type": "code",
   "execution_count": 14,
   "id": "e730dd4d",
   "metadata": {},
   "outputs": [
    {
     "name": "stdout",
     "output_type": "stream",
     "text": [
      "7801701DF0070S0001QY    \n"
     ]
    }
   ],
   "source": [
    "id = \"ctl00_Contenido_tblInmueble\"\n",
    "div = driver.find_element(By.ID,id)\n",
    "label = div.find_element(By.XPATH,\"//label\")\n",
    "print(label.text)"
   ]
  },
  {
   "cell_type": "code",
   "execution_count": 15,
   "id": "1800740f",
   "metadata": {},
   "outputs": [
    {
     "name": "stdout",
     "output_type": "stream",
     "text": [
      "7801701DF0070S0001QY    \n"
     ]
    }
   ],
   "source": [
    "xpath = \"//*[./span/text()='Referencia catastral']//label\"\n",
    "etiqs = driver.find_element(By.XPATH,xpath)\n",
    "print(etiqs.text)"
   ]
  },
  {
   "cell_type": "code",
   "execution_count": 16,
   "id": "173da444",
   "metadata": {},
   "outputs": [
    {
     "name": "stdout",
     "output_type": "stream",
     "text": [
      "\n",
      "\n",
      "\n"
     ]
    }
   ],
   "source": [
    "clase = driver.find_elements(By.XPATH,\"(//label)[position()=3]\")\n",
    "print(clase[0].text)\n",
    "\n",
    "etiqs = driver.find_elements(By.XPATH,\"//label\")\n",
    "print(etiqs[2].text)\n",
    "\n",
    "ulti = driver.find_elements(By.XPATH,\"(//label)[last()]\")\n",
    "print(ulti[0].text)\n"
   ]
  },
  {
   "cell_type": "code",
   "execution_count": 17,
   "id": "0af18943",
   "metadata": {},
   "outputs": [],
   "source": [
    "driver.close()"
   ]
  },
  {
   "cell_type": "markdown",
   "id": "c815be12",
   "metadata": {},
   "source": [
    "Por Rafael Caballero. Del libro \"Big data con Python\". Gracias a Jos� Ram�n Guerra por las actualizaciones"
   ]
  },
  {
   "cell_type": "code",
   "execution_count": null,
   "id": "35e95e9a",
   "metadata": {},
   "outputs": [],
   "source": []
  }
 ],
 "metadata": {
  "language_info": {
   "name": "python"
  }
 },
 "nbformat": 4,
 "nbformat_minor": 5
}
