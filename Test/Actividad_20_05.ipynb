{
 "cells": [
  {
   "cell_type": "code",
   "execution_count": 1,
   "id": "a6f2ab64-95c0-4cc1-b657-587ff5f4a56a",
   "metadata": {},
   "outputs": [],
   "source": [
    "spase_odissey = 2001"
   ]
  },
  {
   "cell_type": "code",
   "execution_count": 2,
   "id": "af164ead-c9d2-4d3d-9a41-26349c44e6cc",
   "metadata": {},
   "outputs": [
    {
     "data": {
      "text/plain": [
       "2001"
      ]
     },
     "execution_count": 2,
     "metadata": {},
     "output_type": "execute_result"
    }
   ],
   "source": [
    "spase_odissey"
   ]
  },
  {
   "cell_type": "code",
   "execution_count": 7,
   "id": "02b4fe64-bc74-4532-b79d-5eb3bf66a6cf",
   "metadata": {},
   "outputs": [
    {
     "data": {
      "text/plain": [
       "str"
      ]
     },
     "execution_count": 7,
     "metadata": {},
     "output_type": "execute_result"
    }
   ],
   "source": [
    "type('Good night & Good luck')"
   ]
  },
  {
   "cell_type": "code",
   "execution_count": 8,
   "id": "4a8af1fb-d058-4a68-9a1e-9f948c0460d7",
   "metadata": {},
   "outputs": [
    {
     "data": {
      "text/plain": [
       "bool"
      ]
     },
     "execution_count": 8,
     "metadata": {},
     "output_type": "execute_result"
    }
   ],
   "source": [
    "type(True)"
   ]
  },
  {
   "cell_type": "code",
   "execution_count": 9,
   "id": "a32905bd-7094-4dcc-9996-63d0941a0d2b",
   "metadata": {},
   "outputs": [],
   "source": [
    "result = 10 * 3.0 "
   ]
  },
  {
   "cell_type": "code",
   "execution_count": 10,
   "id": "8596fcf9-3e60-4c60-9eaf-06ae22963cf7",
   "metadata": {},
   "outputs": [
    {
     "data": {
      "text/plain": [
       "float"
      ]
     },
     "execution_count": 10,
     "metadata": {},
     "output_type": "execute_result"
    }
   ],
   "source": [
    "type(result)"
   ]
  },
  {
   "cell_type": "code",
   "execution_count": 1,
   "id": "51cfaf36-4d50-422a-8be1-710a703c85e4",
   "metadata": {},
   "outputs": [
    {
     "name": "stdout",
     "output_type": "stream",
     "text": [
      "hola\n",
      "a\n",
      "todos\n"
     ]
    }
   ],
   "source": [
    "# El salto de linea\n",
    "# Caracter  \\n nos permite hacer el salto de linea\n",
    "saltos = 'hola\\na\\ntodos'\n",
    "print(saltos)"
   ]
  },
  {
   "cell_type": "code",
   "execution_count": 2,
   "id": "051d3e35",
   "metadata": {},
   "outputs": [
    {
     "name": "stdout",
     "output_type": "stream",
     "text": [
      "Hello\n",
      "World\n"
     ]
    }
   ],
   "source": [
    "# \\n  - new line character\n",
    "print('Hello\\nWorld')\n"
   ]
  },
  {
   "cell_type": "code",
   "execution_count": 3,
   "id": "aa7253f3",
   "metadata": {},
   "outputs": [
    {
     "name": "stdout",
     "output_type": "stream",
     "text": [
      "Hello\tWorld\n"
     ]
    }
   ],
   "source": [
    "# \\t - horizontal tab\n",
    "print('Hello\\tWorld')"
   ]
  },
  {
   "cell_type": "code",
   "execution_count": 4,
   "id": "7810a37b",
   "metadata": {},
   "outputs": [
    {
     "name": "stdout",
     "output_type": "stream",
     "text": [
      "Himanshu\n",
      "\tDAVY\n",
      "\t\tIndore\n"
     ]
    }
   ],
   "source": [
    "print('Himanshu\\n\\tDAVY\\n\\t\\tIndore')"
   ]
  },
  {
   "cell_type": "code",
   "execution_count": 5,
   "id": "31781618",
   "metadata": {},
   "outputs": [
    {
     "name": "stdout",
     "output_type": "stream",
     "text": [
      "*\n",
      "**\n",
      "***\n"
     ]
    }
   ],
   "source": [
    "print('*\\n**\\n***')"
   ]
  },
  {
   "cell_type": "code",
   "execution_count": 6,
   "id": "c3d81010",
   "metadata": {},
   "outputs": [
    {
     "name": "stdout",
     "output_type": "stream",
     "text": [
      "    *\n",
      "*\t*\n",
      "    *\n"
     ]
    }
   ],
   "source": [
    "print('    *\\n*\\t*\\n    *')"
   ]
  },
  {
   "cell_type": "code",
   "execution_count": 7,
   "id": "837de81d",
   "metadata": {},
   "outputs": [],
   "source": [
    "#Algunos ejemplos de asignacion a CONSTANTES\n",
    "SOUND_SPEED = 343.2\n",
    "WATER_DENSITY = 997\n",
    "EARTH_NAME = 'La Tierra'"
   ]
  },
  {
   "cell_type": "code",
   "execution_count": 10,
   "id": "71534b5e",
   "metadata": {},
   "outputs": [
    {
     "name": "stdout",
     "output_type": "stream",
     "text": [
      "HOLA MUNDO\n"
     ]
    }
   ],
   "source": [
    "# sumar dos Strings\n",
    "a = 'HOLA'\n",
    "b = ' MUNDO'\n",
    "print(a + b)"
   ]
  },
  {
   "cell_type": "code",
   "execution_count": 11,
   "id": "ccac5bcc",
   "metadata": {},
   "outputs": [
    {
     "name": "stdout",
     "output_type": "stream",
     "text": [
      "76\n"
     ]
    }
   ],
   "source": [
    "a = '7'\n",
    "b = '6'\n",
    "print(a + b)"
   ]
  },
  {
   "cell_type": "code",
   "execution_count": 12,
   "id": "8f3eb26c",
   "metadata": {},
   "outputs": [
    {
     "name": "stdout",
     "output_type": "stream",
     "text": [
      "Mi nombre es Carlos Santana\n"
     ]
    }
   ],
   "source": [
    "# Concatenacion\n",
    "nombre = 'Carlos'\n",
    "apellido = 'Santana'\n",
    "print('Mi nombre es ' + nombre + ' ' + apellido)"
   ]
  },
  {
   "cell_type": "code",
   "execution_count": 13,
   "id": "4c4939ea",
   "metadata": {},
   "outputs": [
    {
     "name": "stdout",
     "output_type": "stream",
     "text": [
      "Mi nombre es Carlos Santana\n"
     ]
    }
   ],
   "source": [
    "# Interpoación\n",
    "nombre = 'Carlos'\n",
    "apellido = 'Santana'\n",
    "print('Mi nombre es {} {}'.format(nombre, apellido))"
   ]
  },
  {
   "cell_type": "code",
   "execution_count": 16,
   "id": "18bf919c",
   "metadata": {},
   "outputs": [
    {
     "name": "stdout",
     "output_type": "stream",
     "text": [
      "3\n"
     ]
    }
   ],
   "source": [
    "# count aplicado a string nos permite contar la cantidad de ocurrencias  de un\n",
    "# caracter especifico dentro de un texto\n",
    "print(apellido.count('a'))"
   ]
  },
  {
   "cell_type": "code",
   "execution_count": 17,
   "id": "1a1fef15",
   "metadata": {},
   "outputs": [
    {
     "name": "stdout",
     "output_type": "stream",
     "text": [
      "7\n"
     ]
    }
   ],
   "source": [
    "# len la cantidad de letras o el largo del texto.\n",
    "print(len(apellido))"
   ]
  },
  {
   "cell_type": "code",
   "execution_count": 23,
   "id": "45237a62",
   "metadata": {},
   "outputs": [
    {
     "name": "stdout",
     "output_type": "stream",
     "text": [
      "SANTANA\n"
     ]
    }
   ],
   "source": [
    "# upper aplica letras mayusculas a todo el texto\n",
    "print(apellido.upper())\n"
   ]
  },
  {
   "cell_type": "code",
   "execution_count": 28,
   "id": "fa7393b8",
   "metadata": {},
   "outputs": [
    {
     "data": {
      "text/plain": [
       "float"
      ]
     },
     "execution_count": 28,
     "metadata": {},
     "output_type": "execute_result"
    }
   ],
   "source": [
    "type(5_3.3_3)"
   ]
  },
  {
   "cell_type": "code",
   "execution_count": 34,
   "id": "b4583806",
   "metadata": {},
   "outputs": [
    {
     "data": {
      "text/plain": [
       "int"
      ]
     },
     "execution_count": 34,
     "metadata": {},
     "output_type": "execute_result"
    }
   ],
   "source": [
    "# Podemos indicar el tipo de numero que deseamos utilizar con las funciones\n",
    "# int() y float()\n",
    "type(int(7.0))"
   ]
  },
  {
   "cell_type": "code",
   "execution_count": 35,
   "id": "f9fce674",
   "metadata": {},
   "outputs": [
    {
     "data": {
      "text/plain": [
       "int"
      ]
     },
     "execution_count": 35,
     "metadata": {},
     "output_type": "execute_result"
    }
   ],
   "source": [
    "type(int(9.))"
   ]
  },
  {
   "cell_type": "code",
   "execution_count": 36,
   "id": "28a8b5ea",
   "metadata": {},
   "outputs": [
    {
     "data": {
      "text/plain": [
       "float"
      ]
     },
     "execution_count": 36,
     "metadata": {},
     "output_type": "execute_result"
    }
   ],
   "source": [
    "type(float(3))"
   ]
  }
 ],
 "metadata": {
  "kernelspec": {
   "display_name": "Python 3 (ipykernel)",
   "language": "python",
   "name": "python3"
  },
  "language_info": {
   "codemirror_mode": {
    "name": "ipython",
    "version": 3
   },
   "file_extension": ".py",
   "mimetype": "text/x-python",
   "name": "python",
   "nbconvert_exporter": "python",
   "pygments_lexer": "ipython3",
   "version": "3.11.7"
  }
 },
 "nbformat": 4,
 "nbformat_minor": 5
}
