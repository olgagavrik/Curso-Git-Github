{
 "cells": [
  {
   "cell_type": "code",
   "execution_count": 1,
   "id": "a6f2ab64-95c0-4cc1-b657-587ff5f4a56a",
   "metadata": {},
   "outputs": [],
   "source": [
    "spase_odissey = 2001"
   ]
  },
  {
   "cell_type": "code",
   "execution_count": 2,
   "id": "af164ead-c9d2-4d3d-9a41-26349c44e6cc",
   "metadata": {},
   "outputs": [
    {
     "data": {
      "text/plain": [
       "2001"
      ]
     },
     "execution_count": 2,
     "metadata": {},
     "output_type": "execute_result"
    }
   ],
   "source": [
    "spase_odissey"
   ]
  },
  {
   "cell_type": "code",
   "execution_count": 7,
   "id": "02b4fe64-bc74-4532-b79d-5eb3bf66a6cf",
   "metadata": {},
   "outputs": [
    {
     "data": {
      "text/plain": [
       "str"
      ]
     },
     "execution_count": 7,
     "metadata": {},
     "output_type": "execute_result"
    }
   ],
   "source": [
    "type('Good night & Good luck')"
   ]
  },
  {
   "cell_type": "code",
   "execution_count": 8,
   "id": "4a8af1fb-d058-4a68-9a1e-9f948c0460d7",
   "metadata": {},
   "outputs": [
    {
     "data": {
      "text/plain": [
       "bool"
      ]
     },
     "execution_count": 8,
     "metadata": {},
     "output_type": "execute_result"
    }
   ],
   "source": [
    "type(True)"
   ]
  },
  {
   "cell_type": "code",
   "execution_count": 9,
   "id": "a32905bd-7094-4dcc-9996-63d0941a0d2b",
   "metadata": {},
   "outputs": [],
   "source": [
    "result = 10 * 3.0 "
   ]
  },
  {
   "cell_type": "code",
   "execution_count": 10,
   "id": "8596fcf9-3e60-4c60-9eaf-06ae22963cf7",
   "metadata": {},
   "outputs": [
    {
     "data": {
      "text/plain": [
       "float"
      ]
     },
     "execution_count": 10,
     "metadata": {},
     "output_type": "execute_result"
    }
   ],
   "source": [
    "type(result)"
   ]
  },
  {
   "cell_type": "code",
   "execution_count": null,
   "id": "51cfaf36-4d50-422a-8be1-710a703c85e4",
   "metadata": {},
   "outputs": [],
   "source": []
  }
 ],
 "metadata": {
  "kernelspec": {
   "display_name": "Python 3 (ipykernel)",
   "language": "python",
   "name": "python3"
  },
  "language_info": {
   "codemirror_mode": {
    "name": "ipython",
    "version": 3
   },
   "file_extension": ".py",
   "mimetype": "text/x-python",
   "name": "python",
   "nbconvert_exporter": "python",
   "pygments_lexer": "ipython3",
   "version": "3.11.9"
  }
 },
 "nbformat": 4,
 "nbformat_minor": 5
}
