{
 "cells": [
  {
   "cell_type": "code",
   "execution_count": 2,
   "metadata": {},
   "outputs": [
    {
     "data": {
      "text/plain": [
       "dtype('int32')"
      ]
     },
     "execution_count": 2,
     "metadata": {},
     "output_type": "execute_result"
    }
   ],
   "source": [
    "import numpy as np\n",
    "np.array([1, 2, 3]).dtype\n"
   ]
  },
  {
   "cell_type": "code",
   "execution_count": 3,
   "metadata": {},
   "outputs": [
    {
     "data": {
      "text/plain": [
       "array([0], dtype=uint8)"
      ]
     },
     "execution_count": 3,
     "metadata": {},
     "output_type": "execute_result"
    }
   ],
   "source": [
    "np.array([255], np.uint8) + 1"
   ]
  },
  {
   "cell_type": "code",
   "execution_count": 4,
   "metadata": {},
   "outputs": [
    {
     "data": {
      "text/plain": [
       "array([2147483647])"
      ]
     },
     "execution_count": 4,
     "metadata": {},
     "output_type": "execute_result"
    }
   ],
   "source": [
    "np.array([2 ** 31 - 1])"
   ]
  },
  {
   "cell_type": "code",
   "execution_count": 5,
   "metadata": {},
   "outputs": [
    {
     "data": {
      "text/plain": [
       "array([-2147483648])"
      ]
     },
     "execution_count": 5,
     "metadata": {},
     "output_type": "execute_result"
    }
   ],
   "source": [
    "np.array([2 ** 31 - 1]) + 1"
   ]
  },
  {
   "cell_type": "code",
   "execution_count": 6,
   "metadata": {},
   "outputs": [
    {
     "data": {
      "text/plain": [
       "array([-9223372036854775808], dtype=int64)"
      ]
     },
     "execution_count": 6,
     "metadata": {},
     "output_type": "execute_result"
    }
   ],
   "source": [
    "np.array([2 ** 63 - 1]) + 1"
   ]
  },
  {
   "cell_type": "code",
   "execution_count": 8,
   "metadata": {},
   "outputs": [
    {
     "data": {
      "text/plain": [
       "256"
      ]
     },
     "execution_count": 8,
     "metadata": {},
     "output_type": "execute_result"
    }
   ],
   "source": [
    "np.array([255], np.uint8)[0] + 1"
   ]
  },
  {
   "cell_type": "code",
   "execution_count": 9,
   "metadata": {},
   "outputs": [
    {
     "name": "stderr",
     "output_type": "stream",
     "text": [
      "C:\\Users\\miufa\\AppData\\Local\\Temp\\ipykernel_14484\\1499885946.py:1: RuntimeWarning: overflow encountered in scalar add\n",
      "  np.array([2 ** 31 - 1]) [0] + 1\n"
     ]
    },
    {
     "data": {
      "text/plain": [
       "-2147483648"
      ]
     },
     "execution_count": 9,
     "metadata": {},
     "output_type": "execute_result"
    }
   ],
   "source": [
    "np.array([2 ** 31 - 1]) [0] + 1"
   ]
  },
  {
   "cell_type": "code",
   "execution_count": 10,
   "metadata": {},
   "outputs": [
    {
     "name": "stderr",
     "output_type": "stream",
     "text": [
      "C:\\Users\\miufa\\AppData\\Local\\Temp\\ipykernel_14484\\2579184341.py:1: RuntimeWarning: overflow encountered in scalar add\n",
      "  np.array([2 ** 63 - 1]) [0] + 1\n"
     ]
    },
    {
     "data": {
      "text/plain": [
       "-9223372036854775808"
      ]
     },
     "execution_count": 10,
     "metadata": {},
     "output_type": "execute_result"
    }
   ],
   "source": [
    "np.array([2 ** 63 - 1]) [0] + 1"
   ]
  },
  {
   "cell_type": "markdown",
   "metadata": {},
   "source": [
    "Unlike true floating point errors (where the hardware FPU sets a flag whenever it does anatomic operation that overflows), we need to implement the integer overflow detectionourselves. We do it on the scalars, but not arrays because it would be too slow toimplement for every atomic operation on arrays. (Robert Kern, one of the NumPy coredevelopers)"
   ]
  },
  {
   "cell_type": "code",
   "execution_count": 13,
   "metadata": {},
   "outputs": [
    {
     "ename": "FloatingPointError",
     "evalue": "overflow encountered in scalar add",
     "output_type": "error",
     "traceback": [
      "\u001b[1;31m---------------------------------------------------------------------------\u001b[0m",
      "\u001b[1;31mFloatingPointError\u001b[0m                        Traceback (most recent call last)",
      "Cell \u001b[1;32mIn[13], line 3\u001b[0m\n\u001b[0;32m      1\u001b[0m \u001b[38;5;66;03m# You can turn in into an error\u001b[39;00m\n\u001b[0;32m      2\u001b[0m \u001b[38;5;28;01mwith\u001b[39;00m np\u001b[38;5;241m.\u001b[39merrstate(over \u001b[38;5;241m=\u001b[39m \u001b[38;5;124m'\u001b[39m\u001b[38;5;124mraise\u001b[39m\u001b[38;5;124m'\u001b[39m):\n\u001b[1;32m----> 3\u001b[0m     \u001b[38;5;28mprint\u001b[39m(np\u001b[38;5;241m.\u001b[39marray([\u001b[38;5;241m2\u001b[39m \u001b[38;5;241m*\u001b[39m\u001b[38;5;241m*\u001b[39m \u001b[38;5;241m31\u001b[39m \u001b[38;5;241m-\u001b[39m \u001b[38;5;241m1\u001b[39m])[\u001b[38;5;241m0\u001b[39m] \u001b[38;5;241m+\u001b[39m \u001b[38;5;241m1\u001b[39m)\n",
      "\u001b[1;31mFloatingPointError\u001b[0m: overflow encountered in scalar add"
     ]
    }
   ],
   "source": [
    "# You can turn in into an error\n",
    "with np.errstate(over = 'raise'):\n",
    "    print(np.array([2 ** 31 - 1])[0] + 1)"
   ]
  },
  {
   "cell_type": "code",
   "execution_count": 14,
   "metadata": {},
   "outputs": [
    {
     "name": "stdout",
     "output_type": "stream",
     "text": [
      "-2147483648\n"
     ]
    }
   ],
   "source": [
    "# or suppress it vtemporarily\n",
    "with np.errstate(over = 'ignore'):\n",
    "    print(np.array([2 ** 31 - 1])[0] + 1)"
   ]
  },
  {
   "cell_type": "markdown",
   "metadata": {},
   "source": [
    "#### Floats\n",
    "As pure Python\n",
    "float\n",
    "did not diverge from the IEEE 754-standardized C\n",
    "double\n",
    "type(note the difference in naming), the floating point numbers transition from Python to NumPy is pretty much hassle-free: Python\n",
    "float\n",
    "is directly compatible with\n",
    "np.float64\n",
    "and Python\n",
    "complex\n",
    "— with\n",
    "np.complex128\n"
   ]
  },
  {
   "cell_type": "code",
   "execution_count": 15,
   "metadata": {},
   "outputs": [
    {
     "name": "stderr",
     "output_type": "stream",
     "text": [
      "C:\\Users\\miufa\\AppData\\Local\\Temp\\ipykernel_14484\\2721166234.py:2: RuntimeWarning: overflow encountered in exp\n",
      "  1 / (1 + np.exp(-x))\n",
      "C:\\Users\\miufa\\AppData\\Local\\Temp\\ipykernel_14484\\2721166234.py:6: RuntimeWarning: overflow encountered in exp\n",
      "  np.exp(np.array([1234.5]))\n"
     ]
    },
    {
     "data": {
      "text/plain": [
       "array([inf])"
      ]
     },
     "execution_count": 15,
     "metadata": {},
     "output_type": "execute_result"
    }
   ],
   "source": [
    "\n",
    "x = np.array([-1234.5])\n",
    "1 / (1 + np.exp(-x))\n",
    "# Output: RuntimeWarning: overflow encountered in exp\n",
    "# array([0.])\n",
    "\n",
    "np.exp(np.array([1234.5]))\n",
    "# Output: RuntimeWarning: overflow encountered in exp\n",
    "# array([inf])\n"
   ]
  },
  {
   "cell_type": "markdown",
   "metadata": {},
   "source": [
    "One thing that distinguishes floats from integers is that they are inexact.\n",
    "You can’t compare two floats with a == b, unless you’re sure they are represented exactly. \n",
    "You can expect floats to exactly represent integers — but only below a certain level(limited by the number of the significant digits):"
   ]
  },
  {
   "cell_type": "code",
   "execution_count": 16,
   "metadata": {},
   "outputs": [
    {
     "data": {
      "text/plain": [
       "1.0000000000092504"
      ]
     },
     "execution_count": 16,
     "metadata": {},
     "output_type": "execute_result"
    }
   ],
   "source": [
    "92 / 9945539648888.0 + 1"
   ]
  },
  {
   "cell_type": "code",
   "execution_count": 17,
   "metadata": {},
   "outputs": [
    {
     "data": {
      "text/plain": [
       "16"
      ]
     },
     "execution_count": 17,
     "metadata": {},
     "output_type": "execute_result"
    }
   ],
   "source": [
    "len('9279945539648888')"
   ]
  },
  {
   "cell_type": "markdown",
   "metadata": {},
   "source": [
    "For the financial data decimal.\n",
    "Decimal type is handy as it involves no additional tolerances at all:"
   ]
  },
  {
   "cell_type": "code",
   "execution_count": 18,
   "metadata": {},
   "outputs": [
    {
     "data": {
      "text/plain": [
       "Decimal('0.3')"
      ]
     },
     "execution_count": 18,
     "metadata": {},
     "output_type": "execute_result"
    }
   ],
   "source": [
    "from decimal import Decimal as D\n",
    "\n",
    "a = np.array([D('0.1'), D('0.2')]); a\n",
    "# Output: array([Decimal('0.1'), Decimal('0.2')], dtype=object)\n",
    "\n",
    "a.sum()\n",
    "# Output: Decimal('0.3')\n"
   ]
  },
  {
   "cell_type": "markdown",
   "metadata": {},
   "source": [
    "For pure mathematical calculations fractions.Fraction can be used:"
   ]
  },
  {
   "cell_type": "code",
   "execution_count": 19,
   "metadata": {},
   "outputs": [
    {
     "data": {
      "text/plain": [
       "Fraction(3, 10)"
      ]
     },
     "execution_count": 19,
     "metadata": {},
     "output_type": "execute_result"
    }
   ],
   "source": [
    "from fractions import Fraction\n",
    "\n",
    "a = np.array([1, 2]) + Fraction(); a\n",
    "# Output: array([Fraction(1, 1), Fraction(2, 1)], dtype=object)\n",
    "\n",
    "a /= 10; a\n",
    "# Output: array([Fraction(1, 10), Fraction(1, 5)], dtype=object)\n",
    "\n",
    "a.sum()\n",
    "# Output: Fraction(3, 10)\n"
   ]
  },
  {
   "cell_type": "markdown",
   "metadata": {},
   "source": [
    "Complex numbers are treated the same way as floats.\n",
    "\n",
    " There are extra convenience functions with intuitive names like np.\n",
    "real\n",
    "(z), np.\n",
    "imag\n",
    "(z), np.\n",
    "abs\n",
    "(z), np.\n",
    "angle\n",
    "(z) that work on both scalars and arrays as a whole. The only difference from the pure Python\n",
    "complex,\n",
    "np.complex_\n",
    "does not work with integers:"
   ]
  },
  {
   "cell_type": "code",
   "execution_count": 20,
   "metadata": {},
   "outputs": [
    {
     "data": {
      "text/plain": [
       "array([1.+2.j])"
      ]
     },
     "execution_count": 20,
     "metadata": {},
     "output_type": "execute_result"
    }
   ],
   "source": [
    "np.array([1 + 2j])"
   ]
  },
  {
   "cell_type": "markdown",
   "metadata": {},
   "source": [
    "#### Bools\n",
    "The boolean values are stored as single bytes for better performance.\n",
    "np.bool_\n",
    "is aseparate type from Python’s\n",
    "bool\n",
    "because it doesn’t need reference counting and a link to the base class required for any pure Python type. So if you think that using 8 bits to store one bit of information is excessive look at this:"
   ]
  },
  {
   "cell_type": "code",
   "execution_count": 22,
   "metadata": {},
   "outputs": [
    {
     "data": {
      "text/plain": [
       "28"
      ]
     },
     "execution_count": 22,
     "metadata": {},
     "output_type": "execute_result"
    }
   ],
   "source": [
    "import sys\n",
    "sys.getsizeof(True)"
   ]
  },
  {
   "cell_type": "markdown",
   "metadata": {},
   "source": [
    "#### Strings\n",
    "Initializing a NumPy array with a list of Python strings packs them into a fixed-width native NumPy dtype called np.str_. \n",
    "Reserving a space necessary to fit the longest string for every element might look wasteful (especially in the fixed USC-4 encoding as opposed to ‘dynamic’ choice of the UTF width in Python\n",
    "str\n",
    ")"
   ]
  },
  {
   "cell_type": "code",
   "execution_count": 23,
   "metadata": {},
   "outputs": [
    {
     "data": {
      "text/plain": [
       "array(['abcde', 'x', 'y', 'x'], dtype='<U5')"
      ]
     },
     "execution_count": 23,
     "metadata": {},
     "output_type": "execute_result"
    }
   ],
   "source": [
    "import numpy as np\n",
    "\n",
    "np.array(['abcde', 'x', 'y', 'x'])\n",
    "# Output: array(['abcde', 'x', 'y', 'x'], dtype='<U5')\n",
    "# Comments: 4 bytes per any character, so 5 characters * 4 bytes = 20 bytes per element\n"
   ]
  },
  {
   "cell_type": "markdown",
   "metadata": {},
   "source": [
    "Another option is to keep references to Python\n",
    "str's in a NumPy array of objects:"
   ]
  },
  {
   "cell_type": "code",
   "execution_count": 24,
   "metadata": {},
   "outputs": [
    {
     "data": {
      "text/plain": [
       "array(['abcde', 'x', 'y', 'x'], dtype=object)"
      ]
     },
     "execution_count": 24,
     "metadata": {},
     "output_type": "execute_result"
    }
   ],
   "source": [
    "import numpy as np\n",
    "\n",
    "np.array(['abcde', 'x', 'y', 'x'], object)\n",
    "# Output: array(['abcde', 'x', 'y', 'x'], dtype=object)\n",
    "# Comments: 1 byte per ASCII character, so each element size is 49 + len(element) bytes\n"
   ]
  },
  {
   "cell_type": "markdown",
   "metadata": {},
   "source": [
    "If you’re dealing with a raw sequence of bytes NumPy has a fixed-length version of a Python\n",
    "bytes type called np.bytes_:"
   ]
  },
  {
   "cell_type": "code",
   "execution_count": 25,
   "metadata": {},
   "outputs": [
    {
     "data": {
      "text/plain": [
       "array([b'abcde', b'x', b'y', b'x'], dtype='|S5')"
      ]
     },
     "execution_count": 25,
     "metadata": {},
     "output_type": "execute_result"
    }
   ],
   "source": [
    "import numpy as np\n",
    "\n",
    "np.array([b'abcde', b'x', b'y', b'x'])\n",
    "# Output: array([b'abcde', b'x', b'y', b'x'], dtype='|S5')\n",
    "# Comments: 1 byte per ASCII character, so each element size is 5 bytes\n"
   ]
  },
  {
   "cell_type": "markdown",
   "metadata": {},
   "source": [
    "Here’s a useful function that decomposes a\n",
    "datetime64 array to an array of 7 integer columns (years, months, days, hours, minutes, seconds, microseconds):"
   ]
  },
  {
   "cell_type": "code",
   "execution_count": 26,
   "metadata": {},
   "outputs": [
    {
     "data": {
      "text/plain": [
       "array([[2021,   12,   15,    9,    0,    0,    0],\n",
       "       [2021,   12,   18,   19,    0,    0,    0],\n",
       "       [2021,   12,   24,    9,    0,    0,    0]], dtype=uint32)"
      ]
     },
     "execution_count": 26,
     "metadata": {},
     "output_type": "execute_result"
    }
   ],
   "source": [
    "def dt2cal(dt):\n",
    "    # allocate output\n",
    "    out = np.empty(dt.shape + (7,), dtype='u4')\n",
    "    # decompose calendar floors\n",
    "    Y, M, D, h, m, s = [dt.astype(f'M8[{x}]') for x in \"YMDhms\"]\n",
    "    out[..., 0] = Y + 1970  # Gregorian Year\n",
    "    out[..., 1] = (M - Y) + 1  # month\n",
    "    out[..., 2] = (D - M) + 1  # day\n",
    "    out[..., 3] = (dt - D).astype(\"m8[h]\")  # hour\n",
    "    out[..., 4] = (dt - h).astype(\"m8[m]\")  # minute\n",
    "    out[..., 5] = (dt - m).astype(\"m8[s]\")  # second\n",
    "    out[..., 6] = (dt - s).astype(\"m8[us]\")  # microsecond\n",
    "    return out\n",
    "\n",
    "# Example usage:\n",
    "a = np.array(['2021-12-15T09:00:00.000000', \n",
    "              '2021-12-18T19:00:00.000000', \n",
    "              '2021-12-24T09:00:00.000000'], dtype='datetime64[us]')\n",
    "\n",
    "dt2cal(a)\n",
    "# Output:\n",
    "# array([[2021, 12, 15,  9,  0,  0,     0],\n",
    "#        [2021, 12, 18, 19,  0,  0,     0],\n",
    "#        [2021, 12, 24,  9,  0,  0,     0]], dtype=uint32)\n"
   ]
  },
  {
   "cell_type": "markdown",
   "metadata": {},
   "source": [
    "#### Combinations thereof\n",
    "A ‘structured array’ in NumPy is an array with a custom dtype made from the typesdescribed above as the basic building blocks (akin to struct in C). \n",
    "A typical exampleis an RGB pixel color: a 3 bytes long type (usually 4 for alignment), in which thecolors can be accessed by name:"
   ]
  },
  {
   "cell_type": "code",
   "execution_count": 27,
   "metadata": {},
   "outputs": [
    {
     "data": {
      "text/plain": [
       "array([(10, 0, 5), ( 0, 0, 5), ( 0, 0, 5), ( 0, 0, 5), ( 0, 0, 5)],\n",
       "      dtype=[('x', 'u1'), ('y', 'u1'), ('z', 'u1')])"
      ]
     },
     "execution_count": 27,
     "metadata": {},
     "output_type": "execute_result"
    }
   ],
   "source": [
    "import numpy as np\n",
    "\n",
    "rgb = np.dtype([('x', np.uint8), ('y', np.uint8), ('z', np.uint8)])\n",
    "\n",
    "a = np.zeros(5, rgb); a\n",
    "# Output:\n",
    "# array([(0, 0, 0), (0, 0, 0), (0, 0, 0), (0, 0, 0), (0, 0, 0)],\n",
    "#       dtype=[('x', 'u1'), ('y', 'u1'), ('z', 'u1')])\n",
    "\n",
    "a[0]\n",
    "# Output: (0, 0, 0)\n",
    "\n",
    "a[0]['x']\n",
    "# Output: 0\n",
    "\n",
    "a[0]['x'] = 10\n",
    "a\n",
    "# Output:\n",
    "# array([(10,  0,  0), ( 0,  0,  0), ( 0,  0,  0), ( 0,  0,  0), ( 0,  0,  0)],\n",
    "#       dtype=[('x', 'u1'), ('y', 'u1'), ('z', 'u1')])\n",
    "\n",
    "a['z'] = 5\n",
    "a\n",
    "# Output:\n",
    "# array([(10,  0,  5), ( 0,  0,  5), ( 0,  0,  5), ( 0,  0,  5), ( 0,  0,  5)],\n",
    "#       dtype=[('x', 'u1'), ('y', 'u1'), ('z', 'u1')])\n"
   ]
  },
  {
   "cell_type": "markdown",
   "metadata": {},
   "source": [
    "Even though this syntax is convenient for addressing particular columns as a whole, neither structured arrays nor recarrays are something you’d want to use  in the innermost loop of a compute-intensive code:\n"
   ]
  },
  {
   "cell_type": "code",
   "execution_count": 29,
   "metadata": {},
   "outputs": [],
   "source": [
    "a = np.random.rand(100000, 4)\n",
    "\n",
    "b = a.view(dtype=[('x', np.float64), ('y', np.float64)])\n",
    "\n",
    "c = np.recarray(buf=a, shape=len(a), dtype=[('x', np.float64), ('y', np.float64)])\n",
    "\n",
    "# Reference calculation\n",
    "s1 = 0\n",
    "for r in a:\n",
    "    s1 += (r[0]**2 + r[1]**2)**-1.5\n",
    "\n",
    "# 5x slower\n",
    "s2 = 0\n",
    "for r in b:\n",
    "    s2 += (r['x']**2 + r['y']**2)**-1.5\n",
    "\n",
    "# 7x slower\n",
    "s3 = 0\n",
    "for r in c:\n",
    "    s3 += (r.x**2 + r.y**2)**-1.5\n",
    "\n",
    "# 20x faster\n",
    "s1_fast = np.sum((a[:, 0]**2 + a[:, 1]**2)**-1.5)\n",
    "\n",
    "# Same as s1\n",
    "s2_fast = np.sum((b['x']**2 + b['y']**2)**-1.5)\n",
    "\n",
    "# Same as s1\n",
    "s3_fast = np.sum((c.x**2 + c.y**2)**-1.5)\n"
   ]
  }
 ],
 "metadata": {
  "kernelspec": {
   "display_name": "Aroma",
   "language": "python",
   "name": "python3"
  },
  "language_info": {
   "codemirror_mode": {
    "name": "ipython",
    "version": 3
   },
   "file_extension": ".py",
   "mimetype": "text/x-python",
   "name": "python",
   "nbconvert_exporter": "python",
   "pygments_lexer": "ipython3",
   "version": "3.11.7"
  }
 },
 "nbformat": 4,
 "nbformat_minor": 2
}
