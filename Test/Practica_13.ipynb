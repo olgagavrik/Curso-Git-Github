{
 "cells": [
  {
   "cell_type": "markdown",
   "metadata": {},
   "source": [
    "PREGUNTA 1\n",
    "Escribir un programa que pregunte el nombre del usuario en la consola y después de que el usuario lo introduzca muestre por pantalla la cadena \n",
    "¡Hola <nombre>!, donde <nombre> es el nombre que el usuraio haya introducido.\n"
   ]
  },
  {
   "cell_type": "code",
   "execution_count": 1,
   "metadata": {},
   "outputs": [
    {
     "name": "stdout",
     "output_type": "stream",
     "text": [
      "¡Hola Blancanieves!\n"
     ]
    }
   ],
   "source": [
    "# Solicitar al usuario que introduzca su nombre\n",
    "nombre = input(\"Por favor, introduce tu nombre: \")\n",
    "\n",
    "# Mostrar un saludo personalizado\n",
    "print(f\"¡Hola {nombre}!\")\n"
   ]
  },
  {
   "cell_type": "markdown",
   "metadata": {},
   "source": [
    "PREGUNTA 2\n",
    "Escribir un programa que muestre por pantalla el resultado de la siguiente operación aritmética ((3+2)/(2*5))**2"
   ]
  },
  {
   "cell_type": "code",
   "execution_count": 4,
   "metadata": {},
   "outputs": [
    {
     "name": "stdout",
     "output_type": "stream",
     "text": [
      "El resultado de la operación ((3+2)/(2*5))**2 es: 0.25\n"
     ]
    }
   ],
   "source": [
    "# Calculamos el resultado de la operación aritmética\n",
    "resultado = ((3 + 2) / (2 * 5)) ** 2\n",
    "\n",
    "# Mostramos el resultado por pantalla\n",
    "print(\"El resultado de la operación ((3+2)/(2*5))**2 es:\", resultado)\n"
   ]
  },
  {
   "cell_type": "markdown",
   "metadata": {},
   "source": [
    "PREGUNTA 3\n",
    "Escribe un programa que pregunte al Usuario por el número de horas trabajadas y el coste por hora. Después debe mostrar por pantalla la paga que le corresponde."
   ]
  },
  {
   "cell_type": "code",
   "execution_count": 3,
   "metadata": {},
   "outputs": [
    {
     "name": "stdout",
     "output_type": "stream",
     "text": [
      "La paga que te corresponde es: 2800.0 euros\n"
     ]
    }
   ],
   "source": [
    "# Solicitar al usuario que introduzca las horas trabajadas\n",
    "horas_trabajadas = float(input(\"Introduce el número de horas trabajadas: \"))\n",
    "\n",
    "# Solicitar al usuario que introduzca el costo por hora\n",
    "costo_por_hora = float(input(\"Introduce el coste por hora de trabajo: \"))\n",
    "\n",
    "# Calcular la paga total\n",
    "paga = horas_trabajadas * costo_por_hora\n",
    "\n",
    "# Mostrar la paga que le corresponde\n",
    "print(f\"La paga que te corresponde es: {paga} euros\")\n"
   ]
  },
  {
   "cell_type": "markdown",
   "metadata": {},
   "source": [
    "PREGUNTA 4\n",
    "Escribir un programa que pida al usuario dos números enteros y muestre por pantalla la <n> entre <m> da un cociente <c> y un resto <r> donde <n> y <m> son los números introducidos por el usuario , y <c> es el cociente y <r> es el resto de la división entera."
   ]
  },
  {
   "cell_type": "code",
   "execution_count": 4,
   "metadata": {},
   "outputs": [
    {
     "name": "stdout",
     "output_type": "stream",
     "text": [
      "81 entre 13 da un cociente 6 y un resto 3\n"
     ]
    }
   ],
   "source": [
    "# Solicitar al usuario que introduzca dos números enteros\n",
    "n = int(input(\"Introduce el primer número entero (n): \"))\n",
    "m = int(input(\"Introduce el segundo número entero (m): \"))\n",
    "\n",
    "# Calcular el cociente y el resto de la división entera\n",
    "cociente = n // m\n",
    "resto = n % m\n",
    "\n",
    "# Mostrar los resultados\n",
    "print(f\"{n} entre {m} da un cociente {cociente} y un resto {resto}\")\n"
   ]
  },
  {
   "cell_type": "markdown",
   "metadata": {},
   "source": [
    "PREGUNTA 5\n",
    "Escribir un programa que pregunte al Usuario una cantidad a invertir, el interés procentual anual y el número de años, y muestre por pantalla el capital obtenido en la inversión redondeado con dos decimales."
   ]
  },
  {
   "cell_type": "code",
   "execution_count": 5,
   "metadata": {},
   "outputs": [
    {
     "name": "stdout",
     "output_type": "stream",
     "text": [
      "El capital obtenido en la inversión es: 60099.99 euros\n"
     ]
    }
   ],
   "source": [
    "# Solicitar al usuario que introduzca la cantidad a invertir\n",
    "cantidad_invertida = float(input(\"Introduce la cantidad a invertir: \"))\n",
    "\n",
    "# Solicitar al usuario que introduzca el interés procentual anual\n",
    "interes_anual = float(input(\"Introduce el interés procentual anual: \"))\n",
    "\n",
    "# Solicitar al usuario que introduzca el número de años de la inversión\n",
    "num_anios = int(input(\"Introduce el número de años de la inversión: \"))\n",
    "\n",
    "# Calcular el capital obtenido en la inversión utilizando la fórmula de interés compuesto\n",
    "capital_obtenido = cantidad_invertida * (1 + interes_anual / 100) ** num_anios\n",
    "\n",
    "# Mostrar el capital obtenido, redondeado a dos decimales\n",
    "print(f\"El capital obtenido en la inversión es: {round(capital_obtenido, 2)} euros\")\n"
   ]
  },
  {
   "cell_type": "markdown",
   "metadata": {},
   "source": [
    "PREGUNTA 6\n",
    "Una juguetería tiene mucho éxito en 2  de sus productos: payasos y muñecas. Suele hacer venta por correo y la empresa de logística \n",
    "les cobra por peso de cada paquete, así que deben calcular el peso de los payasos y muñecas que saldrán a cada paquete a demanda. Cada payaso pesa 112 g y cada muñeca 75 g.\n",
    "Escribir un programa que lea el número de payasos y muñecas vendidos en el último pedido y calcule el peso total del paquete que será enviado."
   ]
  },
  {
   "cell_type": "code",
   "execution_count": 9,
   "metadata": {},
   "outputs": [
    {
     "name": "stdout",
     "output_type": "stream",
     "text": [
      "El paquete incluye 24 payasos y 18 muñecas.\n",
      "El peso total del paquete es de 4038 gramos.\n"
     ]
    }
   ],
   "source": [
    "# Peso de cada payaso y cada muñeca en gramos\n",
    "peso_payaso = 112\n",
    "peso_muñeca = 75\n",
    "\n",
    "# Solicitar al usuario que introduzca el número de payasos vendidos\n",
    "num_payasos = int(input(\"Introduce el número de payasos vendidos: \"))\n",
    "\n",
    "# Solicitar al usuario que introduzca el número de muñecas vendidas\n",
    "num_muñecas = int(input(\"Introduce el número de muñecas vendidas: \"))\n",
    "\n",
    "# Mostrar el contenido del pedido\n",
    "print(f\"El paquete incluye {num_payasos} payasos y {num_muñecas} muñecas.\")\n",
    "\n",
    "# Calcular el peso total del paquete\n",
    "peso_total = (num_payasos * peso_payaso) + (num_muñecas * peso_muñeca)\n",
    "\n",
    "# Mostrar el peso total del paquete\n",
    "print(f\"El peso total del paquete es de {peso_total} gramos.\")\n"
   ]
  },
  {
   "cell_type": "markdown",
   "metadata": {},
   "source": [
    "PREGUNTA 7\n",
    "Una panadería vende barras de pan a 3.49 euros cada una. El pan que no es del día tiene un descuento de 60%. Escribir un programa que comience leyendo el número de barras vendidas que no son del día. Después el programa debe mostrar el precio habitual de una barra de pan, el descuento que se hace por no ser fresca y el coste final total.\n",
    "\n"
   ]
  },
  {
   "cell_type": "code",
   "execution_count": 10,
   "metadata": {},
   "outputs": [
    {
     "name": "stdout",
     "output_type": "stream",
     "text": [
      "El precio habitual de una barra de pan es de 3.49 euros.\n",
      "El descuento por no ser fresca es del 60.0%.\n",
      "El coste final total por las 62 barras no frescas es de 86.55 euros.\n"
     ]
    }
   ],
   "source": [
    "# Precio de una barra de pan fresca\n",
    "precio_normal = 3.49\n",
    "\n",
    "# Descuento para el pan que no es del día\n",
    "descuento = 0.60  # 60% de descuento\n",
    "\n",
    "# Preguntar al usuario cuántas barras de pan que no son del día se vendieron\n",
    "barras_no_frescas = int(input(\"Introduce el número de barras vendidas que no son del día: \"))\n",
    "\n",
    "# Calcular el precio con descuento por cada barra de pan no fresco\n",
    "precio_descuento = precio_normal * (1 - descuento)\n",
    "\n",
    "# Calcular el costo total para las barras no frescas\n",
    "costo_total = barras_no_frescas * precio_descuento\n",
    "\n",
    "# Mostrar el precio habitual, el descuento y el coste final\n",
    "print(f\"El precio habitual de una barra de pan es de {precio_normal} euros.\")\n",
    "print(f\"El descuento por no ser fresca es del {descuento * 100}%.\")\n",
    "print(f\"El coste final total por las {barras_no_frescas} barras no frescas es de {costo_total:.2f} euros.\")\n"
   ]
  },
  {
   "cell_type": "markdown",
   "metadata": {},
   "source": [
    "PREGUNTA 8\n",
    "Suponga un valor adecuado para la temperatura de una ciudad en grados\n",
    "Fahrenheit. Escriba un programa para convertir esta temperatura en grados centígrados e imprima ambas temperaturas  C=(F-32) * 5 / 9"
   ]
  },
  {
   "cell_type": "code",
   "execution_count": 11,
   "metadata": {},
   "outputs": [
    {
     "name": "stdout",
     "output_type": "stream",
     "text": [
      "Temperatura en Fahrenheit: 68°F\n",
      "Temperatura en Celsius: 20.00°C\n"
     ]
    }
   ],
   "source": [
    "# Suponer un valor para la temperatura en Fahrenheit\n",
    "temperatura_fahrenheit = 68  # Por ejemplo, 68 grados Fahrenheit\n",
    "\n",
    "# Convertir la temperatura a grados Celsius\n",
    "temperatura_celsius = (temperatura_fahrenheit - 32) * 5 / 9\n",
    "\n",
    "# Mostrar ambas temperaturas\n",
    "print(f\"Temperatura en Fahrenheit: {temperatura_fahrenheit}°F\")\n",
    "print(f\"Temperatura en Celsius: {temperatura_celsius:.2f}°C\")\n"
   ]
  },
  {
   "cell_type": "markdown",
   "metadata": {},
   "source": [
    "PREGUNTA 9\n",
    " Suponga un valor adecuado para la temperatura de una ciudad en grados\n",
    "centígrados. Escriba un programa para convertir esta temperatura en la escala Kelvin e imprima ambas temperaturas.\n",
    "K = C + 273.15\n"
   ]
  },
  {
   "cell_type": "code",
   "execution_count": 12,
   "metadata": {},
   "outputs": [
    {
     "name": "stdout",
     "output_type": "stream",
     "text": [
      "Temperatura en Celsius: 10°C\n",
      "Temperatura en Kelvin: 283.15 K\n"
     ]
    }
   ],
   "source": [
    "# Suponer un valor para la temperatura en Celsius\n",
    "temperatura_celsius = 10  # Por ejemplo, 10 grados Celsius\n",
    "\n",
    "# Convertir la temperatura a grados Kelvin\n",
    "temperatura_kelvin = temperatura_celsius + 273.15\n",
    "\n",
    "# Mostrar ambas temperaturas\n",
    "print(f\"Temperatura en Celsius: {temperatura_celsius}°C\")\n",
    "print(f\"Temperatura en Kelvin: {temperatura_kelvin:.2f} K\")\n"
   ]
  },
  {
   "cell_type": "markdown",
   "metadata": {},
   "source": [
    "PREGUNTA 10\n",
    "Imprima la parte imaginaria del complejo z = 2 + 3j\n"
   ]
  },
  {
   "cell_type": "code",
   "execution_count": 13,
   "metadata": {},
   "outputs": [
    {
     "name": "stdout",
     "output_type": "stream",
     "text": [
      "La parte imaginaria de z = (2+3j) es 3.0\n"
     ]
    }
   ],
   "source": [
    "# Definir el número complejo z\n",
    "z = 2 + 3j\n",
    "\n",
    "# Obtener la parte imaginaria del número complejo\n",
    "parte_imaginaria = z.imag\n",
    "\n",
    "# Imprimir la parte imaginaria\n",
    "print(f\"La parte imaginaria de z = {z} es {parte_imaginaria}\")\n"
   ]
  },
  {
   "cell_type": "markdown",
   "metadata": {},
   "source": [
    "PREGUNTA 11\n",
    "obtenga la parte real de z = 4 + 2j.\n"
   ]
  },
  {
   "cell_type": "code",
   "execution_count": 14,
   "metadata": {},
   "outputs": [
    {
     "name": "stdout",
     "output_type": "stream",
     "text": [
      "La parte real de z = (4+2j) es 4.0\n"
     ]
    }
   ],
   "source": [
    "# Definir el número complejo z\n",
    "z = 4 + 2j\n",
    "\n",
    "# Obtener la parte real del número complejo\n",
    "parte_real = z.real\n",
    "\n",
    "# Imprimir la parte real\n",
    "print(f\"La parte real de z = {z} es {parte_real}\")\n"
   ]
  },
  {
   "cell_type": "markdown",
   "metadata": {},
   "source": [
    "PREGUNTA 12\n",
    "obtenga el conjugado de z = 4 + 2j."
   ]
  },
  {
   "cell_type": "code",
   "execution_count": 15,
   "metadata": {},
   "outputs": [
    {
     "name": "stdout",
     "output_type": "stream",
     "text": [
      "El conjugado de z = (4+2j) es (4-2j)\n"
     ]
    }
   ],
   "source": [
    "# Definir el número complejo z\n",
    "z = 4 + 2j\n",
    "\n",
    "# Obtener el conjugado del número complejo\n",
    "conjugado_z = z.conjugate()\n",
    "\n",
    "# Imprimir el conjugado\n",
    "print(f\"El conjugado de z = {z} es {conjugado_z}\")\n"
   ]
  },
  {
   "cell_type": "markdown",
   "metadata": {},
   "source": [
    "PREGUNTA 13\n",
    "Imprima el equivalente en nuestra base decimal del binario ‘1100001110’"
   ]
  },
  {
   "cell_type": "code",
   "execution_count": 16,
   "metadata": {},
   "outputs": [
    {
     "name": "stdout",
     "output_type": "stream",
     "text": [
      "El equivalente decimal del binario '1100001110' es 782\n"
     ]
    }
   ],
   "source": [
    "# Definir el número binario como una cadena de texto\n",
    "numero_binario = '1100001110'\n",
    "\n",
    "# Convertir el número binario a un número decimal\n",
    "numero_decimal = int(numero_binario, 2)\n",
    "\n",
    "# Imprimir el resultado\n",
    "print(f\"El equivalente decimal del binario '{numero_binario}' es {numero_decimal}\")\n"
   ]
  },
  {
   "cell_type": "markdown",
   "metadata": {},
   "source": [
    "PREGUNTA 14\n",
    "convierta el valor flotante 4.33 a un string (cadena).\n"
   ]
  },
  {
   "cell_type": "code",
   "execution_count": 17,
   "metadata": {},
   "outputs": [
    {
     "name": "stdout",
     "output_type": "stream",
     "text": [
      "El valor flotante 4.33 convertido a string es '4.33'\n"
     ]
    }
   ],
   "source": [
    "# Definir el valor flotante\n",
    "valor_flotante = 4.33\n",
    "\n",
    "# Convertir el valor flotante a string\n",
    "valor_string = str(valor_flotante)\n",
    "\n",
    "# Imprimir el resultado\n",
    "print(f\"El valor flotante {valor_flotante} convertido a string es '{valor_string}'\")\n"
   ]
  },
  {
   "cell_type": "markdown",
   "metadata": {},
   "source": [
    "PREGUNTA 15\n",
    "Obtenga el cociente entero y el resto de la división entre 29 y 5."
   ]
  },
  {
   "cell_type": "code",
   "execution_count": 18,
   "metadata": {},
   "outputs": [
    {
     "name": "stdout",
     "output_type": "stream",
     "text": [
      "El cociente entero de 29 dividido por 5 es 5\n",
      "El resto de la división de 29 por 5 es 4\n"
     ]
    }
   ],
   "source": [
    "# Definir los números a dividir\n",
    "dividendo = 29\n",
    "divisor = 5\n",
    "\n",
    "# Calcular el cociente entero\n",
    "cociente = dividendo // divisor\n",
    "\n",
    "# Calcular el resto de la división\n",
    "resto = dividendo % divisor\n",
    "\n",
    "# Imprimir los resultados\n",
    "print(f\"El cociente entero de {dividendo} dividido por {divisor} es {cociente}\")\n",
    "print(f\"El resto de la división de {dividendo} por {divisor} es {resto}\")\n"
   ]
  },
  {
   "cell_type": "markdown",
   "metadata": {},
   "source": [
    "PREGUNTA 16\n",
    " Obtenga el equivalente hexadecimal de 34567"
   ]
  },
  {
   "cell_type": "code",
   "execution_count": 19,
   "metadata": {},
   "outputs": [
    {
     "name": "stdout",
     "output_type": "stream",
     "text": [
      "0x8707\n"
     ]
    }
   ],
   "source": [
    "# Definir el número entero\n",
    "numero_entero = 34567\n",
    "\n",
    "# Convertir el número a hexadecimal\n",
    "hexadecimal = hex(numero_entero)\n",
    "\n",
    "# Imprimir el resultado\n",
    "print(hexadecimal)\n"
   ]
  },
  {
   "cell_type": "markdown",
   "metadata": {},
   "source": [
    "PREGUNTA 17\n",
    " Aproxime hasta dos decimales el número 45.67859245"
   ]
  },
  {
   "cell_type": "code",
   "execution_count": 20,
   "metadata": {},
   "outputs": [
    {
     "name": "stdout",
     "output_type": "stream",
     "text": [
      "45.68\n"
     ]
    }
   ],
   "source": [
    "# Definir el número flotante\n",
    "numero_flotante = 45.67859245\n",
    "\n",
    "# Redondear el número hasta dos decimales\n",
    "numero_redondeado = round(numero_flotante, 2)\n",
    "\n",
    "# Imprimir el resultado\n",
    "print(numero_redondeado)\n"
   ]
  },
  {
   "cell_type": "markdown",
   "metadata": {},
   "source": [
    "PREGUNTA 18\n",
    " Obtenga 4 a partir de 3.556."
   ]
  },
  {
   "cell_type": "code",
   "execution_count": 21,
   "metadata": {},
   "outputs": [
    {
     "name": "stdout",
     "output_type": "stream",
     "text": [
      "4\n"
     ]
    }
   ],
   "source": [
    "# Definir el número flotante\n",
    "numero_flotante = 3.556\n",
    "\n",
    "# Redondear el número al entero más cercano\n",
    "numero_redondeado = round(numero_flotante)\n",
    "\n",
    "# Imprimir el resultado\n",
    "print(numero_redondeado)\n"
   ]
  },
  {
   "cell_type": "markdown",
   "metadata": {},
   "source": [
    "PREGUNTA 19\n",
    "Obtenga 17 a partir de 16.7844."
   ]
  },
  {
   "cell_type": "code",
   "execution_count": 22,
   "metadata": {},
   "outputs": [
    {
     "name": "stdout",
     "output_type": "stream",
     "text": [
      "17\n"
     ]
    }
   ],
   "source": [
    "# Definir el número flotante\n",
    "numero_flotante = 16.7844\n",
    "\n",
    "# Redondear el número al entero más cercano\n",
    "numero_redondeado = round(numero_flotante)\n",
    "\n",
    "# Imprimir el resultado\n",
    "print(numero_redondeado)\n"
   ]
  },
  {
   "cell_type": "markdown",
   "metadata": {},
   "source": [
    "PREGUNTA 20\n",
    " Calcule el resto de la división con 3.45 y 1.22"
   ]
  },
  {
   "cell_type": "code",
   "execution_count": 23,
   "metadata": {},
   "outputs": [
    {
     "name": "stdout",
     "output_type": "stream",
     "text": [
      "1.0100000000000002\n"
     ]
    }
   ],
   "source": [
    "# Definir los números flotantes\n",
    "numero1 = 3.45\n",
    "numero2 = 1.22\n",
    "\n",
    "# Calcular el resto de la división\n",
    "resto = numero1 % numero2\n",
    "\n",
    "# Imprimir el resultado\n",
    "print(resto)\n"
   ]
  },
  {
   "cell_type": "markdown",
   "metadata": {},
   "source": [
    "PREGUNTA 21\n",
    "Calcule 3.45 ** 1.22"
   ]
  },
  {
   "cell_type": "code",
   "execution_count": 24,
   "metadata": {},
   "outputs": [
    {
     "name": "stdout",
     "output_type": "stream",
     "text": [
      "4.530428659651715\n"
     ]
    }
   ],
   "source": [
    "\n",
    "resultado = 3.45 ** 1.22\n",
    "\n",
    "# Imprimir el resultado\n",
    "print(resultado)\n"
   ]
  },
  {
   "cell_type": "code",
   "execution_count": 25,
   "metadata": {},
   "outputs": [
    {
     "name": "stdout",
     "output_type": "stream",
     "text": [
      "4.530428659651715\n"
     ]
    }
   ],
   "source": [
    "# or\n",
    "print(3.45 ** 1.22)"
   ]
  },
  {
   "cell_type": "markdown",
   "metadata": {},
   "source": [
    "PREGUNTA 22\n",
    "Cuál de los siguientes es un nombre de variable no válido y por qué?"
   ]
  },
  {
   "cell_type": "markdown",
   "metadata": {},
   "source": [
    "VALIDOS:\n",
    "\n",
    "_basic: Válido, comienza con un guion bajo, lo cual es permitido.\n",
    "over\n",
    "timemindovermatter\n",
    "hELLO: Válido, aunque no es común usar mayúsculas \n",
    "\n",
    "NO VALIDOS:\n",
    "\n",
    "BASICSALARY: No válido, normalmente se usan Mayusculas para CONSTANTES\n",
    "SINGLE: No válido, por la misma razón\n",
    "pop in 2020: No válido, contiene espacios \n",
    "Plot # 3: No válido, contiene espacios y un símbolo (#).\n",
    "basic-hra: No válido, contiene un guión.\n",
    "queue.: No válido, contiene un punto.\n",
    "group.: No válido, contiene un punto.\n",
    "`#MEAN`: No válido, comienza con un símbolo no permitido (#).\n",
    "team’svictory: No válido, contiene un apóstrofe.\n",
    "2015_DDay: No válido, comienza con un número.\n",
    "422: No válido, comienza con un número."
   ]
  },
  {
   "cell_type": "markdown",
   "metadata": {},
   "source": [
    "PREGUNTA 23 \n",
    "Calcule (en Jupyter ) las siguientes operaciones:\n"
   ]
  },
  {
   "cell_type": "code",
   "execution_count": 27,
   "metadata": {},
   "outputs": [
    {
     "name": "stdout",
     "output_type": "stream",
     "text": [
      "0\n"
     ]
    }
   ],
   "source": [
    "# a\n",
    "print(2 ** 6 // 8 % 2)\n"
   ]
  },
  {
   "cell_type": "code",
   "execution_count": 28,
   "metadata": {},
   "outputs": [
    {
     "name": "stdout",
     "output_type": "stream",
     "text": [
      "13\n"
     ]
    }
   ],
   "source": [
    "# b\n",
    "print(9 ** 2 // 5 - 3)"
   ]
  },
  {
   "cell_type": "code",
   "execution_count": 29,
   "metadata": {},
   "outputs": [
    {
     "name": "stdout",
     "output_type": "stream",
     "text": [
      "19\n"
     ]
    }
   ],
   "source": [
    "# c\n",
    "print(10 + 6 - 2 % 3 + 7 - 2)"
   ]
  },
  {
   "cell_type": "code",
   "execution_count": 30,
   "metadata": {},
   "outputs": [
    {
     "name": "stdout",
     "output_type": "stream",
     "text": [
      "-15\n"
     ]
    }
   ],
   "source": [
    "# d\n",
    "print(5 % 10 + 10 - 23 * 4 // 3)"
   ]
  },
  {
   "cell_type": "code",
   "execution_count": 31,
   "metadata": {},
   "outputs": [
    {
     "name": "stdout",
     "output_type": "stream",
     "text": [
      "6\n"
     ]
    }
   ],
   "source": [
    "# e\n",
    "print(5 + 5 // 5 - 5 * 5 ** 5 % 5)"
   ]
  },
  {
   "cell_type": "code",
   "execution_count": 32,
   "metadata": {},
   "outputs": [
    {
     "name": "stdout",
     "output_type": "stream",
     "text": [
      "-48\n"
     ]
    }
   ],
   "source": [
    "# f\n",
    "print(7 % 7 + 7 // 7 - 7 * 7)"
   ]
  },
  {
   "cell_type": "markdown",
   "metadata": {},
   "source": [
    "PREGUNTA 24\n",
    "Evalúe las siguientes expresiones\n",
    "a    min(2, 6, 8, 5)\n",
    "b    bin(46)\n",
    "c    round(10.544336, 2)"
   ]
  },
  {
   "cell_type": "code",
   "execution_count": 33,
   "metadata": {},
   "outputs": [
    {
     "data": {
      "text/plain": [
       "2"
      ]
     },
     "execution_count": 33,
     "metadata": {},
     "output_type": "execute_result"
    }
   ],
   "source": [
    "# (a) La función min(2, 6, 8, 5) devuelve el valor mínimo, que es 2\n",
    "min(2, 6, 8, 5)"
   ]
  },
  {
   "cell_type": "code",
   "execution_count": 34,
   "metadata": {},
   "outputs": [
    {
     "data": {
      "text/plain": [
       "'0b101110'"
      ]
     },
     "execution_count": 34,
     "metadata": {},
     "output_type": "execute_result"
    }
   ],
   "source": [
    "# (b) La función bin(46) convierte el número 46 a su representación binaria, que es '0b101110'.\n",
    "bin(46)"
   ]
  },
  {
   "cell_type": "code",
   "execution_count": 35,
   "metadata": {},
   "outputs": [
    {
     "data": {
      "text/plain": [
       "10.54"
      ]
     },
     "execution_count": 35,
     "metadata": {},
     "output_type": "execute_result"
    }
   ],
   "source": [
    "# (c) La función round(10.544336, 2) redondea el número a dos decimales, resultando en 10.54\n",
    "round(10.5444336, 2)"
   ]
  },
  {
   "cell_type": "markdown",
   "metadata": {},
   "source": [
    "PREGUNTA 25 \n",
    " Escriba un programa que intercambie los valores enteros de las\n",
    "variables a y b. No está permitido utilizar una tercera variable. No se le permite\n",
    "realizar operaciones aritméticas en a y b.\n"
   ]
  },
  {
   "cell_type": "code",
   "execution_count": 36,
   "metadata": {},
   "outputs": [
    {
     "name": "stdout",
     "output_type": "stream",
     "text": [
      "Antes del intercambio:\n",
      "a = 5\n",
      "b = 10\n",
      "Después del intercambio:\n",
      "a = 10\n",
      "b = 5\n"
     ]
    }
   ],
   "source": [
    "# Inicializar las variables a y b\n",
    "a = 5\n",
    "b = 10\n",
    "\n",
    "# Mostrar los valores originales de a y b\n",
    "print(\"Antes del intercambio:\")\n",
    "print(\"a =\", a)\n",
    "print(\"b =\", b)\n",
    "\n",
    "# Intercambiar los valores de a y b sin usar una tercera variable\n",
    "a, b = b, a\n",
    "\n",
    "# Mostrar los valores después del intercambio\n",
    "print(\"Después del intercambio:\")\n",
    "print(\"a =\", a)\n",
    "print(\"b =\", b)\n"
   ]
  }
 ],
 "metadata": {
  "kernelspec": {
   "display_name": "base",
   "language": "python",
   "name": "python3"
  },
  "language_info": {
   "codemirror_mode": {
    "name": "ipython",
    "version": 3
   },
   "file_extension": ".py",
   "mimetype": "text/x-python",
   "name": "python",
   "nbconvert_exporter": "python",
   "pygments_lexer": "ipython3",
   "version": "3.11.7"
  }
 },
 "nbformat": 4,
 "nbformat_minor": 2
}
