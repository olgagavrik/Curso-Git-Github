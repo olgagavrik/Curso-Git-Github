{
 "cells": [
  {
   "cell_type": "code",
   "execution_count": 12,
   "metadata": {},
   "outputs": [
    {
     "name": "stdout",
     "output_type": "stream",
     "text": [
      "Estos son los resultados para los números 12.0 y 14.0:\n",
      "\n",
      "Suma: 26.0\n",
      "Resta: -2.0\n",
      "Multiplicación: 168.0\n",
      "División (resultado flotante): 0.8571428571428571\n",
      "División (resultado entero): 0.0\n",
      "Módulo: 12.0\n",
      "Potencia: 1283918464548864.0\n"
     ]
    }
   ],
   "source": [
    "# ACTIVIDAD 3\n",
    "\n",
    "# TODAS LAS OPERACIONES BASICAS PARA DOS NUMEROS REALES\n",
    "\n",
    "# Pedimos al usuario que introduzca dos números reales\n",
    "num1 = float(input(\"Introduce el primer número real: \"))\n",
    "num2 = float(input(\"Introduce el segundo número real: \"))\n",
    "\n",
    "# Realizamos las operaciones básicas\n",
    "suma = num1 + num2\n",
    "resta = num1 - num2\n",
    "multiplicacion = num1 * num2\n",
    "division_float = num1 / num2\n",
    "division_entera = num1 // num2\n",
    "modulo = num1 % num2\n",
    "potencia = num1 ** num2\n",
    "\n",
    "# Imprimimos el mensaje inicial con los números usados\n",
    "print(f\"Estos son los resultados para los números {num1} y {num2}:\\n\")\n",
    "\n",
    "# Imprimimos los resultados\n",
    "print(f\"Suma: {suma}\")\n",
    "print(f\"Resta: {resta}\")\n",
    "print(f\"Multiplicación: {multiplicacion}\")\n",
    "print(f\"División (resultado flotante): {division_float}\")\n",
    "print(f\"División (resultado entero): {division_entera}\")\n",
    "print(f\"Módulo: {modulo}\")\n",
    "print(f\"Potencia: {potencia}\")\n",
    "\n"
   ]
  },
  {
   "cell_type": "code",
   "execution_count": 14,
   "metadata": {},
   "outputs": [
    {
     "name": "stdout",
     "output_type": "stream",
     "text": [
      "Nombre completo: María Magdalena\n",
      "Sexo: fem\n",
      "Edad: 25\n",
      "Tu Índice de Masa Corporal (IMC) es: 20.20\n"
     ]
    }
   ],
   "source": [
    "# ACTIVIDAD 4\n",
    "# Dado el peso y la altura de un paciente escribir código que calcule e imprima el índice de masa corporal IMC, admás los datos de paciente\n",
    "\n",
    "# Función para calcular el IMC\n",
    "def calcular_imc(peso, altura):  # peso en kg,  altura en m\n",
    "    return peso / (altura ** 2)\n",
    "\n",
    "# Solicitar datos del usuario\n",
    "nombre_completo = input(\"Introduce tu nombre completo: \")\n",
    "sexo = input(\"Introduce tu sexo: \")\n",
    "edad = input(\"Introduce tu edad: \")\n",
    "peso = float(input(\"Introduce tu peso en kilogramos: \"))\n",
    "altura = float(input(\"Introduce tu altura en metros: \"))\n",
    "\n",
    "# Calcular el IMC\n",
    "imc = calcular_imc(peso, altura)\n",
    "\n",
    "# Imprimir los resultados\n",
    "print(f\"Nombre completo: {nombre_completo}\")\n",
    "print(f\"Sexo: {sexo}\")\n",
    "print(f\"Edad: {edad}\")\n",
    "print(f\"Tu Índice de Masa Corporal (IMC) es: {imc:.2f}\")\n"
   ]
  }
 ],
 "metadata": {
  "kernelspec": {
   "display_name": "base",
   "language": "python",
   "name": "python3"
  },
  "language_info": {
   "codemirror_mode": {
    "name": "ipython",
    "version": 3
   },
   "file_extension": ".py",
   "mimetype": "text/x-python",
   "name": "python",
   "nbconvert_exporter": "python",
   "pygments_lexer": "ipython3",
   "version": "3.11.7"
  }
 },
 "nbformat": 4,
 "nbformat_minor": 2
}
