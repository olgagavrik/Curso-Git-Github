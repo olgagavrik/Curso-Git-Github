{
 "cells": [
  {
   "cell_type": "markdown",
   "id": "b8b3820c",
   "metadata": {},
   "source": [
    "# Practica 24 - Funciones. 15 ejercicios para resolver solo 10."
   ]
  },
  {
   "cell_type": "markdown",
   "id": "51fd8a94",
   "metadata": {},
   "source": [
    "1 - Escribe un programa que defina una función crear_lista( ) para crear y devolver una lista que sea la combinación de dos listas que se le pasen."
   ]
  },
  {
   "cell_type": "code",
   "execution_count": 1,
   "id": "411e44c4",
   "metadata": {},
   "outputs": [
    {
     "name": "stdout",
     "output_type": "stream",
     "text": [
      "[('a', 1), ('a', 2), ('a', 3), ('b', 1), ('b', 2), ('b', 3), ('c', 1), ('c', 2), ('c', 3)]\n"
     ]
    }
   ],
   "source": [
    "def crear_lista(lista1, lista2):\n",
    "    resultado = []\n",
    "    for elemento1 in lista1:\n",
    "        for elemento2 in lista2:\n",
    "            resultado.append((elemento1, elemento2))  # Combinamos los elementos como tuplas\n",
    "    return resultado\n",
    "\n",
    "lista_a = ['a', 'b', 'c']\n",
    "lista_b = [1, 2, 3]\n",
    "lista_combinada = crear_lista(lista_a, lista_b)\n",
    "\n",
    "print(lista_combinada)\n"
   ]
  },
  {
   "cell_type": "markdown",
   "id": "1aa4b8b7",
   "metadata": {},
   "source": [
    "2- Escribe una programa que defina una funcion que haga conversiones de precios de moneda. Se le pide al usuario que introduzca la cantidad en euros y que introduzca la divisa a la que quiere convertir. Use por lo menos dos divisas mas: Dolár y Francos por ejemplo. Imprima los resultados."
   ]
  },
  {
   "cell_type": "code",
   "execution_count": 3,
   "id": "cfa89752",
   "metadata": {},
   "outputs": [
    {
     "name": "stdout",
     "output_type": "stream",
     "text": [
      "256.0 euros son equivalentes a 273.92 dolars\n"
     ]
    }
   ],
   "source": [
    "def convertir_moneda(cantidad_euros, divisa):\n",
    "    tasas_cambio = {\n",
    "    'dolar': 1.07,   # Ejemplo de tasa de cambio de euro a dólar\n",
    "    'franco': 1.01   # Ejemplo de tasa de cambio de euro a franco suizo\n",
    "    }\n",
    "\n",
    "    if divisa in tasas_cambio:\n",
    "        return cantidad_euros * tasas_cambio[divisa]\n",
    "    else:\n",
    "        return None\n",
    "\n",
    "cantidad_euros = float(input(\"Introduce la cantidad en euros: \"))\n",
    "divisa = input(\"Introduce la divisa a la que quieres convertir (dolar o franco): \").lower()\n",
    "\n",
    "resultado = convertir_moneda(cantidad_euros, divisa)\n",
    "if resultado is not None:\n",
    "    print(f\"{cantidad_euros} euros son equivalentes a {resultado:.2f} {divisa}s\")\n",
    "else:\n",
    "    print(\"La divisa introducida no es soportada.\")\n"
   ]
  },
  {
   "cell_type": "markdown",
   "id": "e8e0284d",
   "metadata": {},
   "source": [
    "3- Escribe un programa que defina una función llamada limpiar_lista( ) para eliminar todas las entradas duplicadas de la lista que recibe."
   ]
  },
  {
   "cell_type": "code",
   "execution_count": 4,
   "id": "33b4c69b",
   "metadata": {},
   "outputs": [
    {
     "name": "stdout",
     "output_type": "stream",
     "text": [
      "Lista original: [1, 2, 2, 3, 4, 4, 4, 5, 6, 7, 7, 8]\n",
      "Lista sin duplicados: [1, 2, 3, 4, 5, 6, 7, 8]\n"
     ]
    }
   ],
   "source": [
    "def limpiar_lista(lista):\n",
    "    visto = set()\n",
    "    lista_limpia = []\n",
    "    for elemento in lista:\n",
    "        if elemento not in visto:\n",
    "            visto.add(elemento)\n",
    "            lista_limpia.append(elemento)\n",
    "    return lista_limpia\n",
    "\n",
    "lista_original = [1, 2, 2, 3, 4, 4, 4, 5, 6, 7, 7, 8]\n",
    "lista_sin_duplicados = limpiar_lista(lista_original)\n",
    "\n",
    "print(\"Lista original:\", lista_original)\n",
    "print(\"Lista sin duplicados:\", lista_sin_duplicados)"
   ]
  },
  {
   "cell_type": "markdown",
   "id": "0a28448d",
   "metadata": {},
   "source": [
    "4- ¿Cuál de las llamadas a la función imprímelo( ) en el siguiente programa informará de errores?"
   ]
  },
  {
   "cell_type": "code",
   "execution_count": 5,
   "id": "78571ae1",
   "metadata": {},
   "outputs": [
    {
     "ename": "TypeError",
     "evalue": "imprimelo() missing 1 required positional argument: 's'",
     "output_type": "error",
     "traceback": [
      "\u001b[1;31m---------------------------------------------------------------------------\u001b[0m",
      "\u001b[1;31mTypeError\u001b[0m                                 Traceback (most recent call last)",
      "Cell \u001b[1;32mIn[5], line 7\u001b[0m\n\u001b[0;32m      4\u001b[0m     \u001b[38;5;28;01mfor\u001b[39;00m var \u001b[38;5;129;01min\u001b[39;00m args:\n\u001b[0;32m      5\u001b[0m         \u001b[38;5;28mprint\u001b[39m(var, end \u001b[38;5;241m=\u001b[39m \u001b[38;5;124m'\u001b[39m\u001b[38;5;124m'\u001b[39m)\n\u001b[1;32m----> 7\u001b[0m \u001b[43mimprimelo\u001b[49m\u001b[43m(\u001b[49m\u001b[38;5;241;43m10\u001b[39;49m\u001b[43m,\u001b[49m\u001b[43m \u001b[49m\u001b[38;5;241;43m3.14\u001b[39;49m\u001b[43m)\u001b[49m \n\u001b[0;32m      8\u001b[0m imprimelo(\u001b[38;5;241m20\u001b[39m, s \u001b[38;5;241m=\u001b[39m \u001b[38;5;124m'\u001b[39m\u001b[38;5;124mHi\u001b[39m\u001b[38;5;124m'\u001b[39m, a \u001b[38;5;241m=\u001b[39m \u001b[38;5;241m6.28\u001b[39m)\n\u001b[0;32m      9\u001b[0m imprimelo(a \u001b[38;5;241m=\u001b[39m \u001b[38;5;241m6.28\u001b[39m, s \u001b[38;5;241m=\u001b[39m \u001b[38;5;124m'\u001b[39m\u001b[38;5;124mHello\u001b[39m\u001b[38;5;124m'\u001b[39m, i \u001b[38;5;241m=\u001b[39m \u001b[38;5;241m30\u001b[39m) \n",
      "\u001b[1;31mTypeError\u001b[0m: imprimelo() missing 1 required positional argument: 's'"
     ]
    }
   ],
   "source": [
    "def imprimelo(i, a, s, *args) : \n",
    "    print( )\n",
    "    print(i, a, s, end = '') \n",
    "    for var in args:\n",
    "        print(var, end = '')\n",
    "        \n",
    "imprimelo(10, 3.14) \n",
    "imprimelo(20, s = 'Hi', a = 6.28)\n",
    "imprimelo(a = 6.28, s = 'Hello', i = 30) \n",
    "imprimelo(40, 2.35, 'Nag', 'Mum', 10)"
   ]
  },
  {
   "cell_type": "markdown",
   "id": "90072e0e",
   "metadata": {},
   "source": [
    "5 - ¿Cuál de las llamadas a funciona( ) en el siguiente programa informará de errores?"
   ]
  },
  {
   "cell_type": "code",
   "execution_count": 6,
   "id": "f5869eee",
   "metadata": {},
   "outputs": [
    {
     "name": "stdout",
     "output_type": "stream",
     "text": [
      "10 !\n",
      "10 !\n",
      "20 !\n",
      "10 !\n",
      "20 !\n",
      "30 !\n",
      "10 +\n",
      "20 +\n",
      "30 +\n",
      "40 +\n"
     ]
    }
   ],
   "source": [
    "def funciona(a, *args, s = '!') :\n",
    "    print(a, s)\n",
    "    for i in args :\n",
    "        print(i, s)\n",
    "        \n",
    "funciona(10) \n",
    "funciona(10, 20)\n",
    "funciona(10, 20, 30)\n",
    "funciona(10, 20, 30, 40, s = '+')"
   ]
  },
  {
   "cell_type": "markdown",
   "id": "88393dc3",
   "metadata": {},
   "source": [
    "6 - ¿Cuál de las siguientes es una declaración de retorno válida?"
   ]
  },
  {
   "cell_type": "code",
   "execution_count": null,
   "id": "2346695d",
   "metadata": {},
   "outputs": [],
   "source": [
    "return (a, b, c)  # Esta línea retorna una tupla que contiene tres elementos: a, b, y c.\n",
    "return a + b + c  # Esto retorna la suma de a, b, y c. \n",
    "return a, b, c    # Similar al primer caso, esto también retorna una tupla con los elementos a, b, y c. "
   ]
  },
  {
   "cell_type": "markdown",
   "id": "eec1a252",
   "metadata": {},
   "source": [
    "7 - ¿Cuál de las siguientes es una declaración de retorno válida?"
   ]
  },
  {
   "cell_type": "code",
   "execution_count": null,
   "id": "51b2233a",
   "metadata": {},
   "outputs": [],
   "source": [
    "def fun( ) :\n",
    "    print('First avatar')\n",
    "fun( )\n",
    "\n",
    "#################################\n",
    "\"\"\"si no se especifica una declaración de retorno en una función,\n",
    "la función devuelve None automáticamente. Así que técnicamente, \n",
    "ambos ejemplos son válidos y tienen una \"declaración de retorno\"\n",
    "implícita que es None.\"\"\"\n",
    "\n",
    "def fun( ) :\n",
    "    print('New avatar') \n",
    " fun( )   # esta linea da error por un espacio sobrante en el principio"
   ]
  },
  {
   "cell_type": "markdown",
   "id": "e30f2b75",
   "metadata": {},
   "source": [
    "8 (Opcional) - ¿Cómo definirías una función que contenga tres sentencias return, cada una de las cuales devuelve un tipo de valor diferente?"
   ]
  },
  {
   "cell_type": "code",
   "execution_count": 7,
   "id": "a6e88b02",
   "metadata": {},
   "outputs": [
    {
     "name": "stdout",
     "output_type": "stream",
     "text": [
      "Negativo\n",
      "0\n",
      "3.14\n"
     ]
    }
   ],
   "source": [
    "'''Para definir una función que contenga tres sentencias return, \n",
    "cada una devolviendo un tipo de valor diferente, podemos establecer \n",
    "condiciones específicas bajo las cuales cada return se activará.\n",
    "Esto se puede lograr utilizando declaraciones\n",
    "condicionales (if, elif, else).'''\n",
    "def devolver_valores(x):\n",
    "    if x < 0:\n",
    "        return \"Negativo\"  # Devuelve un string\n",
    "    elif x == 0:\n",
    "        return 0  # Devuelve un entero\n",
    "    else:\n",
    "        return 3.14 * x  # Devuelve un float\n",
    "\n",
    "print(devolver_valores(-1))  # Imprime: Negativo\n",
    "print(devolver_valores(0))   # Imprime: 0\n",
    "print(devolver_valores(1))   # Imprime: 3.14\n"
   ]
  },
  {
   "cell_type": "markdown",
   "id": "4d539a86",
   "metadata": {},
   "source": [
    "9 (Opcional) - ¿Cómo llamarías a imprimelo( ) para que imprima los elementos de una tupla?"
   ]
  },
  {
   "cell_type": "code",
   "execution_count": 8,
   "id": "65a3ff18",
   "metadata": {},
   "outputs": [
    {
     "name": "stdout",
     "output_type": "stream",
     "text": [
      "1\n",
      "2\n",
      "3\n",
      "cuatro\n",
      "cinco\n"
     ]
    }
   ],
   "source": [
    "def imprimelo(tupla):\n",
    "    for elemento in tupla:\n",
    "        print(elemento)\n",
    "\n",
    "tupla_ejemplo = (1, 2, 3, 'cuatro', 'cinco')\n",
    "\n",
    "# Llamar a la función\n",
    "imprimelo(tupla_ejemplo)\n"
   ]
  },
  {
   "cell_type": "markdown",
   "id": "a8ac9fe9",
   "metadata": {},
   "source": [
    "10 - ¿Cuál será la salida de los siguientes programas?. Explique también con sus propias palabras lo que el programa está haciendo. Puede hacerlo en un bloque aparte o en el mismo bloque del codigo usando comentarios"
   ]
  },
  {
   "cell_type": "markdown",
   "id": "9f9b6b87",
   "metadata": {},
   "source": [
    "a)"
   ]
  },
  {
   "cell_type": "code",
   "execution_count": 9,
   "id": "3af9f912",
   "metadata": {},
   "outputs": [
    {
     "name": "stdout",
     "output_type": "stream",
     "text": [
      "48\n"
     ]
    }
   ],
   "source": [
    "def fun(x, y) :\n",
    "    if x == 0 :\n",
    "        return y\n",
    "    else :\n",
    "        return fun(x - 1, x * y) \n",
    "\n",
    "print(fun(4, 2))"
   ]
  },
  {
   "cell_type": "markdown",
   "id": "94e66740",
   "metadata": {},
   "source": [
    "Primera llamada: fun(4, 2)\n",
    "\n",
    "x es 4, que no es 0, por lo tanto, se llama a fun(3, 4*2) que es fun(3, 8).\n",
    "\n",
    "Segunda llamada: fun(3, 8)\n",
    "\n",
    "x es 3, se llama a fun(2, 3*8) que es fun(2, 24).\n",
    "Tercera llamada: fun(2, 24)\n",
    "\n",
    "x es 2, se llama a fun(1, 2*24) que es fun(1, 48).\n",
    "Cuarta llamada: fun(1, 48)\n",
    "\n",
    "x es 1, se llama a fun(0, 1*48) que es fun(0, 48).\n",
    "Quinta llamada: fun(0, 48)\n",
    "\n",
    "x es 0, por lo tanto, retorna y, que es 48."
   ]
  },
  {
   "cell_type": "markdown",
   "id": "6f8299d0",
   "metadata": {},
   "source": [
    "b)"
   ]
  },
  {
   "cell_type": "code",
   "execution_count": 10,
   "id": "f46c2ba5",
   "metadata": {},
   "outputs": [
    {
     "name": "stdout",
     "output_type": "stream",
     "text": [
      "91\n"
     ]
    }
   ],
   "source": [
    "def fun(num) :\n",
    "    if num > 100 : \n",
    "        return num - 10\n",
    "    return fun(fun(num + 11)) \n",
    "print(fun(75))"
   ]
  },
  {
   "cell_type": "markdown",
   "id": "09790f29",
   "metadata": {},
   "source": [
    "Primera llamada: fun(75)\n",
    "\n",
    "num es 75, que es menor que 100. Por lo tanto, la función se llama a sí misma con num + 11, es decir, fun(86).\n",
    "\n",
    "Segunda llamada: fun(86)\n",
    "\n",
    "Ahora num es 86, sigue siendo menor que 100. Llama a fun(97).\n",
    "Tercera llamada: fun(97)\n",
    "\n",
    "Ahora num es 97, todavía menor que 100. Llama a fun(108).\n",
    "Cuarta llamada: fun(108)\n",
    "\n",
    "num es ahora 108, que es mayor que 100. Retorna 108 - 10 = 98.\n",
    "Vuelve a Tercera llamada: Ahora evalúa fun(98) como parte de la doble recursión.\n",
    "\n",
    "Llama a fun(109).\n",
    "Quinta llamada: fun(109)\n",
    "\n",
    "num es 109, mayor que 100. Retorna 109 - 10 = 99.\n",
    "Vuelve a la Tercera llamada de nuevo: Ahora evalúa fun(99) como parte de la doble recursión.\n",
    "\n",
    "Llama a fun(110).  etcetera.....\n",
    "\n",
    "La función se llama de forma recursiva incrementando el número hasta que supera 100, y luego empieza a restarle 10 en cada llamada hasta que el valor retornado vuelve a entrar en la función.\n",
    "Una vez que el número inicial más 11 incrementos supera 100, la función recursiva interna empezará a retornar números que, al restarles 10, aún requieren de más llamadas hasta eventualmente estabilizarse alrededor de 91.\n"
   ]
  },
  {
   "cell_type": "markdown",
   "id": "b91e6a9c",
   "metadata": {},
   "source": [
    "c)"
   ]
  },
  {
   "cell_type": "code",
   "execution_count": 11,
   "id": "40f50f6c",
   "metadata": {},
   "outputs": [
    {
     "name": "stdout",
     "output_type": "stream",
     "text": [
      "True\n"
     ]
    }
   ],
   "source": [
    "def fun_(num) :\n",
    "    if num == 0 :\n",
    "        print(\"False\")\n",
    "    elif num == 1 :\n",
    "        print(\"True\")\n",
    "    elif num % 2 == 0 :\n",
    "        fun_(num / 2)\n",
    "fun_(256)"
   ]
  },
  {
   "cell_type": "markdown",
   "id": "ad3b3b23",
   "metadata": {},
   "source": [
    "La función fun_ verifica si un número es 0, 1, o par.\n",
    "\n",
    " Si el número es 0, imprime \"False\"; si es 1, imprime \"True\".\n",
    " \n",
    "  Si el número es par y no es ninguno de los casos anteriores, la función se llama a sí misma con la mitad de ese número. \n",
    "  \n",
    "  Este proceso de dividir a la mitad continúa hasta que se alcanza el caso base de num siendo 1 o 0. \n",
    "  \n",
    "  Para num = 256 y, en general, para cualquier potencia de 2, el resultado final será \"True\"."
   ]
  },
  {
   "cell_type": "markdown",
   "id": "3e2f061f",
   "metadata": {},
   "source": [
    "11 - Considere la siguiente lista: lst = [1.25, 3.22, 4.68, 10.95, 32.55, 12.54]. Los números en la lista representan radios de circulos. Escriba un programa donde se obtenga una lista de las areas de esos circulos."
   ]
  },
  {
   "cell_type": "markdown",
   "id": "44b90292",
   "metadata": {},
   "source": [
    "- Area del circulo: A ---------------> A = (pi) * r**2"
   ]
  },
  {
   "cell_type": "code",
   "execution_count": 2,
   "id": "fc8d0d68",
   "metadata": {},
   "outputs": [
    {
     "name": "stdout",
     "output_type": "stream",
     "text": [
      "[4.908738521234052, 32.57328926948041, 68.80841893598507, 376.68481314705014, 3328.5252704600193, 494.02047132524063]\n"
     ]
    }
   ],
   "source": [
    "import math\n",
    "\n",
    "radios = [1.25, 3.22, 4.68, 10.95, 32.55, 12.54]\n",
    "\n",
    "areas = [math.pi * r ** 2 for r in radios]\n",
    "\n",
    "print(areas)\n"
   ]
  },
  {
   "cell_type": "markdown",
   "id": "32444ae6",
   "metadata": {},
   "source": [
    "12 - Considere la siguiente lista: lista = ['Thor', 'Iron Man', 'Cap America', 'Hulk', 'Hawkeye']. Escribe un programa para obtener una lista en la que todos los nombres se conviertan a mayúsculas."
   ]
  },
  {
   "cell_type": "code",
   "execution_count": 3,
   "id": "4bd49275",
   "metadata": {},
   "outputs": [
    {
     "name": "stdout",
     "output_type": "stream",
     "text": [
      "['THOR', 'IRON MAN', 'CAP AMERICA', 'HULK', 'HAWKEYE']\n"
     ]
    }
   ],
   "source": [
    "lista = ['Thor', 'Iron Man', 'Cap America', 'Hulk', 'Hawkeye']\n",
    "\n",
    "lista_mayusculas = [nombre.upper() for nombre in lista]\n",
    "\n",
    "print(lista_mayusculas)\n"
   ]
  },
  {
   "cell_type": "markdown",
   "id": "e68715cf",
   "metadata": {},
   "source": [
    "13 - Considere la siguiente lista: lista_1 = ['Yo hago Yoga Hoy', 'Acaso hubo búhos acá', 'Ana, la tacaña catalana.', 'Julio está dando caña'] . Escribe un programa que imprima las cadenas que son palíndromos."
   ]
  },
  {
   "cell_type": "code",
   "execution_count": 4,
   "id": "7859f9dd",
   "metadata": {},
   "outputs": [
    {
     "name": "stdout",
     "output_type": "stream",
     "text": [
      "Yo hago Yoga Hoy\n",
      "Ana, la tacaña catalana.\n"
     ]
    }
   ],
   "source": [
    "import re\n",
    "\n",
    "lista_1 = ['Yo hago Yoga Hoy', 'Acaso hubo búhos acá', 'Ana, la tacaña catalana.',\\\n",
    "'Julio está dando caña']\n",
    "\n",
    "def es_palindromo(cadena):\n",
    "    cadena_limpia = re.sub(r'[^a-zA-Z0-9]', '', cadena).lower()\n",
    "    return cadena_limpia == cadena_limpia[::-1]\n",
    "\n",
    "for cadena in lista_1:\n",
    "    if es_palindromo(cadena):\n",
    "        print(cadena)\n"
   ]
  },
  {
   "cell_type": "markdown",
   "id": "84f77ceb",
   "metadata": {},
   "source": [
    "14 - Supongamos que un diccionario contiene los nombres de los alumnos y las notas que han obtenido en un examen (Rango de notas de 0 - 100). Escribe un programa para obtener una lista de los alumnos que han obtenido más de 40 puntos en el examen."
   ]
  },
  {
   "cell_type": "code",
   "execution_count": 5,
   "id": "83a20444",
   "metadata": {},
   "outputs": [
    {
     "name": "stdout",
     "output_type": "stream",
     "text": [
      "['María', 'Pedro', 'Ana', 'Carmen', 'Carlos', 'Lucía']\n"
     ]
    }
   ],
   "source": [
    "notas_alumnos = {\n",
    "    'Juan': 35,\n",
    "    'María': 82,\n",
    "    'Pedro': 57,\n",
    "    'Ana': 45,\n",
    "    'Luis': 28,\n",
    "    'Carmen': 93,\n",
    "    'Carlos': 41,\n",
    "    'Lucía': 60,\n",
    "}\n",
    "\n",
    "alumnos_aprobados = [nombre for nombre, nota in notas_alumnos.items() if nota > 40]\n",
    "\n",
    "print(alumnos_aprobados)\n"
   ]
  },
  {
   "cell_type": "markdown",
   "id": "cc191c04",
   "metadata": {},
   "source": [
    "15 - Considere las siguientes listas:"
   ]
  },
  {
   "cell_type": "code",
   "execution_count": null,
   "id": "f2164659",
   "metadata": {},
   "outputs": [],
   "source": [
    "nums = [10, 20, 30, 40, 50, 60, 70, 80]\n",
    "strs = ['A', 'B', 'C', 'D', 'E', 'F', 'G', 'H']"
   ]
  },
  {
   "cell_type": "markdown",
   "id": "0ec7ca4d",
   "metadata": {},
   "source": [
    "Escribe un programa para obtener una lista de tuplas, donde cada tupla contenga un número de una lista y una cadena de otra, en el mismo orden en que aparecen en las listas originales"
   ]
  },
  {
   "cell_type": "code",
   "execution_count": 6,
   "id": "a4e64fd8",
   "metadata": {},
   "outputs": [
    {
     "name": "stdout",
     "output_type": "stream",
     "text": [
      "[(10, 'A'), (20, 'B'), (30, 'C'), (40, 'D'), (50, 'E'), (60, 'F'), (70, 'G'), (80, 'H')]\n"
     ]
    }
   ],
   "source": [
    "nums = [10, 20, 30, 40, 50, 60, 70, 80]\n",
    "strs = ['A', 'B', 'C', 'D', 'E', 'F', 'G', 'H']\n",
    "\n",
    "lista_tuplas = list(zip(nums, strs))\n",
    "\n",
    "print(lista_tuplas)\n"
   ]
  }
 ],
 "metadata": {
  "kernelspec": {
   "display_name": "Python 3.8.10 64-bit",
   "language": "python",
   "name": "python3"
  },
  "language_info": {
   "codemirror_mode": {
    "name": "ipython",
    "version": 3
   },
   "file_extension": ".py",
   "mimetype": "text/x-python",
   "name": "python",
   "nbconvert_exporter": "python",
   "pygments_lexer": "ipython3",
   "version": "3.11.7"
  },
  "vscode": {
   "interpreter": {
    "hash": "2a75be7c44ec7304484796a123393aaf72432c0d4935e52fae8ff7c54b508870"
   }
  }
 },
 "nbformat": 4,
 "nbformat_minor": 5
}
