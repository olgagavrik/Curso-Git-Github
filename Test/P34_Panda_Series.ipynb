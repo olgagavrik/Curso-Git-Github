{
 "cells": [
  {
   "cell_type": "markdown",
   "metadata": {},
   "source": [
    "# Ejercicios Pandas Series\n"
   ]
  },
  {
   "cell_type": "code",
   "execution_count": 1,
   "metadata": {},
   "outputs": [
    {
     "name": "stdout",
     "output_type": "stream",
     "text": [
      "Versión de pandas: 2.2.2\n",
      "\n",
      "Configuración de pandas:\n"
     ]
    },
    {
     "name": "stderr",
     "output_type": "stream",
     "text": [
      "c:\\Users\\CursosTardes\\anaconda3\\Lib\\site-packages\\_distutils_hack\\__init__.py:33: UserWarning: Setuptools is replacing distutils.\n",
      "  warnings.warn(\"Setuptools is replacing distutils.\")\n"
     ]
    },
    {
     "name": "stdout",
     "output_type": "stream",
     "text": [
      "\n",
      "INSTALLED VERSIONS\n",
      "------------------\n",
      "commit                : d9cdd2ee5a58015ef6f4d15c7226110c9aab8140\n",
      "python                : 3.11.7.final.0\n",
      "python-bits           : 64\n",
      "OS                    : Windows\n",
      "OS-release            : 10\n",
      "Version               : 10.0.19045\n",
      "machine               : AMD64\n",
      "processor             : Intel64 Family 6 Model 94 Stepping 3, GenuineIntel\n",
      "byteorder             : little\n",
      "LC_ALL                : None\n",
      "LANG                  : None\n",
      "LOCALE                : es_ES.cp1252\n",
      "\n",
      "pandas                : 2.2.2\n",
      "numpy                 : 1.26.4\n",
      "pytz                  : 2023.3.post1\n",
      "dateutil              : 2.8.2\n",
      "setuptools            : 68.2.2\n",
      "pip                   : 23.3.1\n",
      "Cython                : None\n",
      "pytest                : 7.4.0\n",
      "hypothesis            : None\n",
      "sphinx                : 5.0.2\n",
      "blosc                 : None\n",
      "feather               : None\n",
      "xlsxwriter            : None\n",
      "lxml.etree            : 5.2.1\n",
      "html5lib              : None\n",
      "pymysql               : None\n",
      "psycopg2              : None\n",
      "jinja2                : 3.1.3\n",
      "IPython               : 8.20.0\n",
      "pandas_datareader     : None\n",
      "adbc-driver-postgresql: None\n",
      "adbc-driver-sqlite    : None\n",
      "bs4                   : 4.12.2\n",
      "bottleneck            : 1.3.7\n",
      "dataframe-api-compat  : None\n",
      "fastparquet           : None\n",
      "fsspec                : 2023.10.0\n",
      "gcsfs                 : None\n",
      "matplotlib            : 3.8.0\n",
      "numba                 : 0.59.0\n",
      "numexpr               : 2.8.7\n",
      "odfpy                 : None\n",
      "openpyxl              : 3.1.2\n",
      "pandas_gbq            : None\n",
      "pyarrow               : 14.0.2\n",
      "pyreadstat            : None\n",
      "python-calamine       : None\n",
      "pyxlsb                : None\n",
      "s3fs                  : 2023.10.0\n",
      "scipy                 : 1.11.4\n",
      "sqlalchemy            : 2.0.25\n",
      "tables                : 3.9.2\n",
      "tabulate              : 0.9.0\n",
      "xarray                : 2023.6.0\n",
      "xlrd                  : None\n",
      "zstandard             : 0.19.0\n",
      "tzdata                : 2023.3\n",
      "qtpy                  : 2.4.1\n",
      "pyqt5                 : None\n",
      "None\n"
     ]
    }
   ],
   "source": [
    "# Importa el paquete numpy con el nombre np\n",
    "import numpy as np\n",
    "\n",
    "# Importa el paquete pandas con el nombre pd\n",
    "import pandas as pd\n",
    "\n",
    "# Imprime la versión de pandas y la configuración\n",
    "print(\"Versión de pandas:\", pd.__version__)\n",
    "print(\"\\nConfiguración de pandas:\")\n",
    "print(pd.show_versions(as_json=False))\n"
   ]
  },
  {
   "cell_type": "markdown",
   "metadata": {},
   "source": [
    "##  (a) Creando una `Series`"
   ]
  },
  {
   "cell_type": "markdown",
   "metadata": {},
   "source": [
    "### 1) Crear una serie pandas vacía"
   ]
  },
  {
   "cell_type": "code",
   "execution_count": 2,
   "metadata": {},
   "outputs": [
    {
     "name": "stdout",
     "output_type": "stream",
     "text": [
      "Series([], dtype: object)\n"
     ]
    }
   ],
   "source": [
    "# Crear una serie pandas vacía\n",
    "\n",
    "empty_series = pd.Series()\n",
    "print(empty_series)\n",
    "\n"
   ]
  },
  {
   "cell_type": "markdown",
   "metadata": {},
   "source": [
    "### 2) Dada la lista X de Python conviértala en una serie Y de Pandas"
   ]
  },
  {
   "cell_type": "code",
   "execution_count": 3,
   "metadata": {},
   "outputs": [
    {
     "name": "stdout",
     "output_type": "stream",
     "text": [
      "0    1\n",
      "1    2\n",
      "2    3\n",
      "3    4\n",
      "4    5\n",
      "dtype: int64\n"
     ]
    }
   ],
   "source": [
    "# Dada la lista X de Python conviértala en una serie Y de Pandas\n",
    "\n",
    "# Supongamos que la lista X es la siguiente\n",
    "X = [1, 2, 3, 4, 5]\n",
    "\n",
    "# Convertir la lista X en una serie Y de Pandas\n",
    "Y = pd.Series(X)\n",
    "print(Y)\n",
    "\n"
   ]
  },
  {
   "cell_type": "markdown",
   "metadata": {},
   "source": [
    "### 3) Dada la serie X pandas, nómbrala 'My letters'."
   ]
  },
  {
   "cell_type": "code",
   "execution_count": 4,
   "metadata": {},
   "outputs": [
    {
     "name": "stdout",
     "output_type": "stream",
     "text": [
      "0    a\n",
      "1    b\n",
      "2    c\n",
      "3    d\n",
      "4    e\n",
      "Name: My letters, dtype: object\n"
     ]
    }
   ],
   "source": [
    "# Dada la serie X pandas, nómbrala 'My letters'\n",
    "\n",
    "# Supongamos que la serie X es la siguiente\n",
    "X = pd.Series(['a', 'b', 'c', 'd', 'e'])\n",
    "\n",
    "# Nombrar la serie X como 'My letters'\n",
    "X.name = 'My letters'\n",
    "print(X)\n",
    "\n"
   ]
  },
  {
   "cell_type": "markdown",
   "metadata": {},
   "source": [
    "### 4) Dada la serie X de pandas, muestre sus valores\n"
   ]
  },
  {
   "cell_type": "code",
   "execution_count": 5,
   "metadata": {},
   "outputs": [
    {
     "name": "stdout",
     "output_type": "stream",
     "text": [
      "['a' 'b' 'c' 'd' 'e']\n"
     ]
    }
   ],
   "source": [
    "# Dada la serie X de pandas, muestre sus valores\n",
    "\n",
    "# Supongamos que la serie X es la siguiente\n",
    "X = pd.Series(['a', 'b', 'c', 'd', 'e'])\n",
    "\n",
    "# Mostrar los valores de la serie X\n",
    "print(X.values)\n",
    "\n"
   ]
  },
  {
   "cell_type": "markdown",
   "metadata": {},
   "source": [
    "## (b) Indexación de Series "
   ]
  },
  {
   "cell_type": "markdown",
   "metadata": {},
   "source": [
    "### 5) Asignar nombres de índice a las Series X  de pandas dadas\n"
   ]
  },
  {
   "cell_type": "code",
   "execution_count": 6,
   "metadata": {},
   "outputs": [
    {
     "name": "stdout",
     "output_type": "stream",
     "text": [
      "A    a\n",
      "B    b\n",
      "C    c\n",
      "D    d\n",
      "E    e\n",
      "dtype: object\n"
     ]
    }
   ],
   "source": [
    "# Asignar nombres de índice a las Series X de pandas dadas\n",
    "\n",
    "# Supongamos que la serie X es la siguiente\n",
    "X = pd.Series(['a', 'b', 'c', 'd', 'e'])\n",
    "\n",
    "# Asignar nombres de índice\n",
    "X.index = ['A', 'B', 'C', 'D', 'E']\n",
    "print(X)\n",
    "\n"
   ]
  },
  {
   "cell_type": "markdown",
   "metadata": {},
   "source": [
    "### 6) Dada la serie X de pandas, muestre su primer elemento\n"
   ]
  },
  {
   "cell_type": "code",
   "execution_count": 7,
   "metadata": {},
   "outputs": [
    {
     "name": "stdout",
     "output_type": "stream",
     "text": [
      "a\n"
     ]
    }
   ],
   "source": [
    "\n",
    "# Supongamos que la serie X es la siguiente\n",
    "X = pd.Series(['a', 'b', 'c', 'd', 'e'])\n",
    "\n",
    "# Mostrar el primer elemento de la serie X\n",
    "print(X.iloc[0])\n",
    "\n"
   ]
  },
  {
   "cell_type": "markdown",
   "metadata": {},
   "source": [
    "### 7) Dada la serie X de pandas, muestra su último elemento\n"
   ]
  },
  {
   "cell_type": "code",
   "execution_count": 8,
   "metadata": {},
   "outputs": [
    {
     "name": "stdout",
     "output_type": "stream",
     "text": [
      "e\n"
     ]
    }
   ],
   "source": [
    "# Supongamos que la serie X es la siguiente\n",
    "X = pd.Series(['a', 'b', 'c', 'd', 'e'])\n",
    "\n",
    "# Mostrar el último elemento de la serie X\n",
    "print(X.iloc[-1])\n",
    "\n"
   ]
  },
  {
   "cell_type": "markdown",
   "metadata": {},
   "source": [
    "### 8) Dada la serie X pandas, mostrar todos los elementos centrales\n"
   ]
  },
  {
   "cell_type": "code",
   "execution_count": 9,
   "metadata": {},
   "outputs": [
    {
     "name": "stdout",
     "output_type": "stream",
     "text": [
      "1    b\n",
      "2    c\n",
      "3    d\n",
      "dtype: object\n"
     ]
    }
   ],
   "source": [
    "# Supongamos que la serie X es la siguiente\n",
    "X = pd.Series(['a', 'b', 'c', 'd', 'e'])\n",
    "\n",
    "# Mostrar todos los elementos centrales de la serie X (excluyendo el primero y el último)\n",
    "central_elements = X.iloc[1:-1]\n",
    "print(central_elements)\n",
    "\n"
   ]
  },
  {
   "cell_type": "markdown",
   "metadata": {},
   "source": [
    "### 9) Dada la serie X de pandas, muestre los elementos en posición inversa\n"
   ]
  },
  {
   "cell_type": "code",
   "execution_count": 10,
   "metadata": {},
   "outputs": [
    {
     "name": "stdout",
     "output_type": "stream",
     "text": [
      "4    e\n",
      "3    d\n",
      "2    c\n",
      "1    b\n",
      "0    a\n",
      "dtype: object\n"
     ]
    }
   ],
   "source": [
    "# Supongamos que la serie X es la siguiente\n",
    "X = pd.Series(['a', 'b', 'c', 'd', 'e'])\n",
    "\n",
    "# Mostrar los elementos en posición inversa\n",
    "reverse_X = X.iloc[::-1]\n",
    "print(reverse_X)\n",
    "\n"
   ]
  },
  {
   "cell_type": "markdown",
   "metadata": {},
   "source": [
    "### 10) Dada la serie X de pandas, muestre el primer y el último elemento"
   ]
  },
  {
   "cell_type": "code",
   "execution_count": 11,
   "metadata": {},
   "outputs": [
    {
     "name": "stdout",
     "output_type": "stream",
     "text": [
      "Primer elemento: a\n",
      "Último elemento: e\n"
     ]
    }
   ],
   "source": [
    "# Supongamos que la serie X es la siguiente\n",
    "X = pd.Series(['a', 'b', 'c', 'd', 'e'])\n",
    "\n",
    "# Mostrar el primer y el último elemento de la serie X\n",
    "first_element = X.iloc[0]\n",
    "last_element = X.iloc[-1]\n",
    "\n",
    "print(\"Primer elemento:\", first_element)\n",
    "print(\"Último elemento:\", last_element)\n",
    "\n"
   ]
  },
  {
   "cell_type": "markdown",
   "metadata": {},
   "source": [
    "## (c) 'Manipulanción' de `Series`"
   ]
  },
  {
   "cell_type": "markdown",
   "metadata": {},
   "source": [
    "### 11) Convierte la serie pandas entera dada a float\n"
   ]
  },
  {
   "cell_type": "code",
   "execution_count": 12,
   "metadata": {},
   "outputs": [
    {
     "name": "stdout",
     "output_type": "stream",
     "text": [
      "0    1.0\n",
      "1    2.0\n",
      "2    3.0\n",
      "3    4.0\n",
      "4    5.0\n",
      "dtype: float64\n"
     ]
    }
   ],
   "source": [
    "# Supongamos que la serie X es la siguiente\n",
    "X = pd.Series([1, 2, 3, 4, 5])\n",
    "\n",
    "# Convertir la serie X de enteros a floats\n",
    "X = X.astype(float)\n",
    "print(X)\n",
    "\n"
   ]
  },
  {
   "cell_type": "markdown",
   "metadata": {},
   "source": [
    "### 12) Invierte la serie de pandas dada (el primer elemento se convierte en el último)"
   ]
  },
  {
   "cell_type": "code",
   "execution_count": 13,
   "metadata": {},
   "outputs": [
    {
     "name": "stdout",
     "output_type": "stream",
     "text": [
      "4    5\n",
      "3    4\n",
      "2    3\n",
      "1    2\n",
      "0    1\n",
      "dtype: int64\n"
     ]
    }
   ],
   "source": [
    "# Supongamos que la serie X es la siguiente\n",
    "X = pd.Series([1, 2, 3, 4, 5])\n",
    "\n",
    "# Invertir la serie X\n",
    "X_reversed = X[::-1]\n",
    "print(X_reversed)\n",
    "\n"
   ]
  },
  {
   "cell_type": "markdown",
   "metadata": {},
   "source": [
    "### 13) Ordenar (sort) las series de pandas dadas\n"
   ]
  },
  {
   "cell_type": "code",
   "execution_count": 14,
   "metadata": {},
   "outputs": [
    {
     "name": "stdout",
     "output_type": "stream",
     "text": [
      "3    1\n",
      "1    2\n",
      "2    3\n",
      "4    4\n",
      "0    5\n",
      "dtype: int64\n"
     ]
    }
   ],
   "source": [
    "# Supongamos que la serie X es la siguiente\n",
    "X = pd.Series([5, 2, 3, 1, 4])\n",
    "\n",
    "# Ordenar la serie X\n",
    "X_sorted = X.sort_values()\n",
    "print(X_sorted)\n",
    "\n"
   ]
  },
  {
   "cell_type": "markdown",
   "metadata": {},
   "source": [
    "### 14) Dada la serie X de pandas, establece (set) el quinto elemento igual a 10\n"
   ]
  },
  {
   "cell_type": "code",
   "execution_count": 15,
   "metadata": {},
   "outputs": [
    {
     "name": "stdout",
     "output_type": "stream",
     "text": [
      "0     1\n",
      "1     2\n",
      "2     3\n",
      "3     4\n",
      "4    10\n",
      "dtype: int64\n"
     ]
    }
   ],
   "source": [
    "# Supongamos que la serie X es la siguiente\n",
    "X = pd.Series([1, 2, 3, 4, 5])\n",
    "\n",
    "# Establecer el quinto elemento igual a 10\n",
    "X.iloc[4] = 10\n",
    "print(X)\n",
    "\n"
   ]
  },
  {
   "cell_type": "markdown",
   "metadata": {},
   "source": [
    "### 15) Dada la serie X de pandas, cambia todos los elementos del medio (centrales) a 0\n"
   ]
  },
  {
   "cell_type": "code",
   "execution_count": 16,
   "metadata": {},
   "outputs": [
    {
     "name": "stdout",
     "output_type": "stream",
     "text": [
      "0    1\n",
      "1    0\n",
      "2    0\n",
      "3    0\n",
      "4    5\n",
      "dtype: int64\n"
     ]
    }
   ],
   "source": [
    "# Supongamos que la serie X es la siguiente\n",
    "X = pd.Series([1, 2, 3, 4, 5])\n",
    "\n",
    "# Cambiar todos los elementos del medio a 0\n",
    "X.iloc[1:-1] = 0\n",
    "print(X)\n",
    "\n"
   ]
  },
  {
   "cell_type": "markdown",
   "metadata": {},
   "source": [
    "### 16) Dada la serie X de pandas, suma 5 a cada elemento\n"
   ]
  },
  {
   "cell_type": "code",
   "execution_count": 17,
   "metadata": {
    "cell_type": "solution"
   },
   "outputs": [
    {
     "name": "stdout",
     "output_type": "stream",
     "text": [
      "0     6\n",
      "1     7\n",
      "2     8\n",
      "3     9\n",
      "4    10\n",
      "dtype: int64\n"
     ]
    }
   ],
   "source": [
    "# Supongamos que la serie X es la siguiente\n",
    "X = pd.Series([1, 2, 3, 4, 5])\n",
    "\n",
    "# Sumar 5 a cada elemento de la serie X\n",
    "X = X + 5\n",
    "print(X)\n"
   ]
  },
  {
   "cell_type": "markdown",
   "metadata": {},
   "source": [
    "## (d) `Series` de tipo 'Boolean Arrays' (también llamadas mask)"
   ]
  },
  {
   "cell_type": "markdown",
   "metadata": {},
   "source": [
    "### 17) Dada la serie X de pandas, haz una máscara (mask) que muestre los elementos negativos\n"
   ]
  },
  {
   "cell_type": "code",
   "execution_count": 18,
   "metadata": {
    "cell_type": "solution"
   },
   "outputs": [
    {
     "name": "stdout",
     "output_type": "stream",
     "text": [
      "0    False\n",
      "1     True\n",
      "2    False\n",
      "3     True\n",
      "4    False\n",
      "dtype: bool\n",
      "1   -2\n",
      "3   -4\n",
      "dtype: int64\n"
     ]
    }
   ],
   "source": [
    "# Supongamos que la serie X es la siguiente\n",
    "X = pd.Series([1, -2, 3, -4, 5])\n",
    "\n",
    "# Crear una máscara que muestre los elementos negativos\n",
    "negative_mask = X < 0\n",
    "print(negative_mask)\n",
    "\n",
    "# Usar la máscara para mostrar los elementos negativos\n",
    "negative_elements = X[negative_mask]\n",
    "print(negative_elements)\n"
   ]
  },
  {
   "cell_type": "markdown",
   "metadata": {},
   "source": [
    "### 18) Dada la serie X de pandas, obtener los elementos negativos"
   ]
  },
  {
   "cell_type": "code",
   "execution_count": 19,
   "metadata": {
    "cell_type": "solution"
   },
   "outputs": [
    {
     "name": "stdout",
     "output_type": "stream",
     "text": [
      "1   -2\n",
      "3   -4\n",
      "dtype: int64\n"
     ]
    }
   ],
   "source": [
    "# Supongamos que la serie X es la siguiente\n",
    "X = pd.Series([1, -2, 3, -4, 5])\n",
    "\n",
    "# Obtener los elementos negativos de la serie X\n",
    "negative_elements = X[X < 0]\n",
    "print(negative_elements)\n"
   ]
  },
  {
   "cell_type": "markdown",
   "metadata": {},
   "source": [
    "### 19) Dada la serie X pandas, obtener números superiores a 5\n"
   ]
  },
  {
   "cell_type": "code",
   "execution_count": 20,
   "metadata": {
    "cell_type": "solution"
   },
   "outputs": [
    {
     "name": "stdout",
     "output_type": "stream",
     "text": [
      "1    6\n",
      "3    8\n",
      "5    9\n",
      "dtype: int64\n"
     ]
    }
   ],
   "source": [
    "# Supongamos que la serie X es la siguiente\n",
    "X = pd.Series([1, 6, 3, 8, 5, 9])\n",
    "\n",
    "# Obtener números superiores a 5 de la serie X\n",
    "greater_than_five = X[X > 5]\n",
    "print(greater_than_five)\n"
   ]
  },
  {
   "cell_type": "markdown",
   "metadata": {},
   "source": [
    "### 20) Dada la serie X pandas, obtener números superiores a la media de los elementos"
   ]
  },
  {
   "cell_type": "code",
   "execution_count": 21,
   "metadata": {
    "cell_type": "solution"
   },
   "outputs": [
    {
     "name": "stdout",
     "output_type": "stream",
     "text": [
      "1    6\n",
      "3    8\n",
      "5    9\n",
      "dtype: int64\n"
     ]
    }
   ],
   "source": [
    "# Supongamos que la serie X es la siguiente\n",
    "X = pd.Series([1, 6, 3, 8, 5, 9])\n",
    "\n",
    "# Calcular la media de los elementos de la serie X\n",
    "mean_value = X.mean()\n",
    "\n",
    "# Obtener números superiores a la media de los elementos de la serie X\n",
    "greater_than_mean = X[X > mean_value]\n",
    "print(greater_than_mean)\n"
   ]
  },
  {
   "cell_type": "markdown",
   "metadata": {},
   "source": [
    "### 21) Dada la serie X pandas, obtener números iguales a 2 o 10\n"
   ]
  },
  {
   "cell_type": "code",
   "execution_count": 22,
   "metadata": {
    "cell_type": "solution",
    "scrolled": true
   },
   "outputs": [
    {
     "name": "stdout",
     "output_type": "stream",
     "text": [
      "1     2\n",
      "3    10\n",
      "5    10\n",
      "6     2\n",
      "dtype: int64\n"
     ]
    }
   ],
   "source": [
    "# Supongamos que la serie X es la siguiente\n",
    "X = pd.Series([1, 2, 3, 10, 5, 10, 2])\n",
    "\n",
    "# Obtener números iguales a 2 o 10\n",
    "numbers_2_or_10 = X[(X == 2) | (X == 10)]\n",
    "print(numbers_2_or_10)\n"
   ]
  },
  {
   "cell_type": "markdown",
   "metadata": {},
   "source": [
    "##  (e) Funciones de tipo 'Logic'"
   ]
  },
  {
   "cell_type": "markdown",
   "metadata": {},
   "source": [
    "### 22) Dada la serie X de pandas, devuelve True si ninguno de sus elementos es cero\n"
   ]
  },
  {
   "cell_type": "code",
   "execution_count": 23,
   "metadata": {
    "cell_type": "solution"
   },
   "outputs": [
    {
     "name": "stdout",
     "output_type": "stream",
     "text": [
      "True\n"
     ]
    }
   ],
   "source": [
    "# Supongamos que la serie X es la siguiente\n",
    "X = pd.Series([1, 2, 3, 4, 5])\n",
    "\n",
    "# Devolver True si ninguno de los elementos es cero\n",
    "no_zeros = (X != 0).all()\n",
    "print(no_zeros)\n"
   ]
  },
  {
   "cell_type": "markdown",
   "metadata": {},
   "source": [
    "### 23) Dada la serie X de pandas, devuelve True si alguno de sus elementos es cero"
   ]
  },
  {
   "cell_type": "code",
   "execution_count": 24,
   "metadata": {
    "cell_type": "solution"
   },
   "outputs": [
    {
     "name": "stdout",
     "output_type": "stream",
     "text": [
      "True\n"
     ]
    }
   ],
   "source": [
    "# Supongamos que la serie X es la siguiente\n",
    "X = pd.Series([1, 2, 3, 0, 5])\n",
    "\n",
    "# Devolver True si alguno de los elementos es cero\n",
    "has_zero = (X == 0).any()\n",
    "print(has_zero)\n"
   ]
  },
  {
   "cell_type": "markdown",
   "metadata": {},
   "source": [
    "## (f) Algunas funciones estadísticas"
   ]
  },
  {
   "cell_type": "markdown",
   "metadata": {},
   "source": [
    "### 24) Dada la serie X de pandas, muestra la suma de sus elementos\n"
   ]
  },
  {
   "cell_type": "code",
   "execution_count": 26,
   "metadata": {
    "cell_type": "solution"
   },
   "outputs": [
    {
     "name": "stdout",
     "output_type": "stream",
     "text": [
      "15\n"
     ]
    }
   ],
   "source": [
    "# Supongamos que la serie X es la siguiente\n",
    "X = pd.Series([1, 2, 3, 4, 5])\n",
    "\n",
    "# Mostrar la suma de los elementos de la serie X\n",
    "sum_elements = X.sum()\n",
    "print(sum_elements)\n"
   ]
  },
  {
   "cell_type": "markdown",
   "metadata": {},
   "source": [
    "### 25) Dada la serie X de pandas, muestre el valor medio de sus elementos"
   ]
  },
  {
   "cell_type": "code",
   "execution_count": 27,
   "metadata": {
    "cell_type": "solution"
   },
   "outputs": [
    {
     "name": "stdout",
     "output_type": "stream",
     "text": [
      "3.0\n"
     ]
    }
   ],
   "source": [
    "# Supongamos que la serie X es la siguiente\n",
    "X = pd.Series([1, 2, 3, 4, 5])\n",
    "\n",
    "# Mostrar el valor medio de los elementos de la serie X\n",
    "mean_value = X.mean()\n",
    "print(mean_value)\n"
   ]
  },
  {
   "cell_type": "markdown",
   "metadata": {},
   "source": [
    "### 26) Dada la serie X de pandas, muestre el valor máximo de sus elementos"
   ]
  },
  {
   "cell_type": "code",
   "execution_count": 28,
   "metadata": {
    "cell_type": "solution"
   },
   "outputs": [
    {
     "name": "stdout",
     "output_type": "stream",
     "text": [
      "5\n"
     ]
    }
   ],
   "source": [
    "# Supongamos que la serie X es la siguiente\n",
    "X = pd.Series([1, 2, 3, 4, 5])\n",
    "\n",
    "# Mostrar el valor máximo de los elementos de la serie X\n",
    "max_value = X.max()\n",
    "print(max_value)\n"
   ]
  },
  {
   "cell_type": "markdown",
   "metadata": {},
   "source": []
  }
 ],
 "metadata": {
  "kernelspec": {
   "display_name": "Python 3 (ipykernel)",
   "language": "python",
   "name": "python3"
  },
  "language_info": {
   "codemirror_mode": {
    "name": "ipython",
    "version": 3
   },
   "file_extension": ".py",
   "mimetype": "text/x-python",
   "name": "python",
   "nbconvert_exporter": "python",
   "pygments_lexer": "ipython3",
   "version": "3.11.7"
  }
 },
 "nbformat": 4,
 "nbformat_minor": 4
}
