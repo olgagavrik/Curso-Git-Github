{
 "cells": [
  {
   "cell_type": "markdown",
   "metadata": {},
   "source": [
    "### Práctica 20 . Introducción a Listas\n",
    "\n",
    "#### 1.\n",
    " Escribir un programa que almacene las asignaturas de un curso (por\n",
    "ejemplo, Matemáticas, Física, Química, Historia y Lengua) en una lista y la\n",
    "muestre por pantalla"
   ]
  },
  {
   "cell_type": "code",
   "execution_count": 2,
   "metadata": {},
   "outputs": [
    {
     "name": "stdout",
     "output_type": "stream",
     "text": [
      "['Matematicas', 'Ingles', 'Fisica', 'Quimica', 'Biologia', 'Informatica', 'Chino']\n"
     ]
    }
   ],
   "source": [
    "asignaturas = ['Matematicas', 'Ingles', 'Fisica', 'Quimica', 'Biologia', 'Informatica',\n",
    "               'Chino']\n",
    "print(asignaturas)"
   ]
  },
  {
   "cell_type": "markdown",
   "metadata": {},
   "source": [
    "####  2.\n",
    " Escribir un programa que almacene las asignaturas de un curso (por\n",
    "ejemplo, Matemáticas, Física, Química, Historia y Lengua) en una lista y \n",
    "muestre por pantalla el mensaje Yo estudio <asignatura>, donde\n",
    "<asignatura> es cada una de las asignaturas de la lista."
   ]
  },
  {
   "cell_type": "code",
   "execution_count": 8,
   "metadata": {},
   "outputs": [
    {
     "name": "stdout",
     "output_type": "stream",
     "text": [
      "Yo estudio Matematicas\n",
      "Yo estudio Ingles\n",
      "Yo estudio Fisica\n",
      "Yo estudio Quimica\n",
      "Yo estudio Biologia\n",
      "Yo estudio Informatica\n",
      "Yo estudio Chino\n"
     ]
    }
   ],
   "source": [
    "for asignatura in asignaturas:\n",
    "    print('Yo estudio ' + asignatura)"
   ]
  },
  {
   "cell_type": "markdown",
   "metadata": {},
   "source": [
    "#### 3.  \n",
    " Escribir un programa que almacene las asignaturas de un curso (por\n",
    "ejemplo, Matemáticas, Física, Química, Historia y Lengua) en una lista,\n",
    "pregunte al usuario la nota que ha sacado en cada asignatura, y después las\n",
    "muestre por pantalla con el mensaje En <asignatura> has sacado <nota>\n",
    "donde <asignatura> es cada una de las asignaturas de la lista y <nota> cada\n",
    "una de las correspondientes notas introducidas por el usuario"
   ]
  },
  {
   "cell_type": "code",
   "execution_count": 15,
   "metadata": {},
   "outputs": [
    {
     "name": "stdout",
     "output_type": "stream",
     "text": [
      "En Matematicas has sacado 8\n",
      "En Ingles has sacado 9\n",
      "En Fisica has sacado 8\n",
      "En Quimica has sacado 6\n",
      "En Biologia has sacado 8\n",
      "En Informatica has sacado 9\n",
      "En Chino has sacado 9\n"
     ]
    }
   ],
   "source": [
    "\n",
    "for asignatura in asignaturas:\n",
    "    nota = int(input(f\"¿Qué nota has sacado en {asignatura}? \"))\n",
    "    if 0 <= nota <= 10:  \n",
    "        print(f\"En {asignatura} has sacado {nota}\")\n",
    "    else:\n",
    "        print(\"Por favor, ingresa una nota válida entre 0 y 10.\")    \n",
    "\n"
   ]
  },
  {
   "cell_type": "markdown",
   "metadata": {},
   "source": [
    "####  4.\n",
    " Escribir un programa que almacene en una lista los números del 1 al 10\n",
    "y los muestre por pantalla en orden inverso separados por comas"
   ]
  },
  {
   "cell_type": "code",
   "execution_count": 16,
   "metadata": {},
   "outputs": [
    {
     "name": "stdout",
     "output_type": "stream",
     "text": [
      "10, 9, 8, 7, 6, 5, 4, 3, 2, 1\n"
     ]
    }
   ],
   "source": [
    "numeros = list(range(1, 11))\n",
    "\n",
    "numeros_invertidos = numeros[::-1]  # Invertir la lista\n",
    "\n",
    "print(\", \".join(str(num) for num in numeros_invertidos))\n"
   ]
  },
  {
   "cell_type": "markdown",
   "metadata": {},
   "source": [
    "#### 5. \n",
    " Escribir un programa que almacene las asignaturas de un curso (por\n",
    "ejemplo, Matemáticas, Física, Química, Historia y Lengua) en una lista,\n",
    "pregunte al usuario la nota que ha sacado en cada asignatura y elimine de la\n",
    "lista las asignaturas aprobadas. Al final el programa debe mostrar por\n",
    "pantalla las asignaturas que el usuario tiene que repetir."
   ]
  },
  {
   "cell_type": "code",
   "execution_count": 17,
   "metadata": {},
   "outputs": [
    {
     "name": "stdout",
     "output_type": "stream",
     "text": [
      "Tienes que repetir las siguientes asignaturas:\n",
      "Chino\n"
     ]
    }
   ],
   "source": [
    "asignaturas_pendientes = []\n",
    "for asignatura in asignaturas:\n",
    "    nota = int(input(f\"¿Qué nota has sacado en {asignatura}? \"))\n",
    "    if nota < 5:  # Consideramos que una nota menor a 5 es suspenso\n",
    "        asignaturas_pendientes.append(asignatura)\n",
    "\n",
    "if asignaturas_pendientes:  # Mostrar las asignaturas que el usuario tiene que repetir\n",
    "    print(\"Tienes que repetir las siguientes asignaturas:\")\n",
    "    for asignatura in asignaturas_pendientes:\n",
    "        print(asignatura)\n",
    "else:\n",
    "    print(\"¡Felicidades! Has aprobado todas las asignaturas.\")\n"
   ]
  }
 ],
 "metadata": {
  "kernelspec": {
   "display_name": "base",
   "language": "python",
   "name": "python3"
  },
  "language_info": {
   "codemirror_mode": {
    "name": "ipython",
    "version": 3
   },
   "file_extension": ".py",
   "mimetype": "text/x-python",
   "name": "python",
   "nbconvert_exporter": "python",
   "pygments_lexer": "ipython3",
   "version": "3.11.7"
  }
 },
 "nbformat": 4,
 "nbformat_minor": 2
}
