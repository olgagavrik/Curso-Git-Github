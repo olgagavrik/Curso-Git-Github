{
 "cells": [
  {
   "cell_type": "markdown",
   "id": "6784d35a-46ff-4dac-b8c3-c6c72269b3b1",
   "metadata": {},
   "source": [
    "# Practica 23: Ejercicios \"resueltos\" de funciones"
   ]
  },
  {
   "cell_type": "markdown",
   "id": "e7d537df-d1ab-42e1-9002-3f5c9ab46844",
   "metadata": {},
   "source": [
    "Los siguientes ejercicios de funciones están resueltos pero tienen errores de indentación. Corregir y ejecutar el código. "
   ]
  },
  {
   "cell_type": "markdown",
   "id": "2dddb9f2-2628-4308-8141-c39d6a80605c",
   "metadata": {},
   "source": [
    "1 - Escribe un programa que reciba tres enteros desde el teclado y obtenga su suma y producto calculados mediante una función definida por el usuario cal_sum_prod( )"
   ]
  },
  {
   "cell_type": "code",
   "execution_count": null,
   "id": "f7262cb3-75b3-43c1-add0-3aeb01cd13eb",
   "metadata": {},
   "outputs": [],
   "source": [
    "def cal_sum_prod(x, y, z): \n",
    "ss = x + y + z\n",
    "pp = x * y * z\n",
    "return ss, pp\t# or return(ss, pp)\n",
    "\n",
    "a = int(input('Enter a: '))\n",
    "b = int(input('Enter b: '))\n",
    "c = int(input('Enter c: '))\n",
    "s, p = cal_sum_prod(a, b, c) print(s, p)\n"
   ]
  },
  {
   "cell_type": "markdown",
   "id": "a441e123-78a0-4015-8f05-ce6ce499cbad",
   "metadata": {},
   "source": [
    "2 - Un pangrama es una frase que utiliza todas las letras del alfabeto. Escribe un programa que compruebe si una cadena dada es pangrama o no, mediante una función definida por el usuario ispangram( )."
   ]
  },
  {
   "cell_type": "code",
   "execution_count": null,
   "id": "56d06fa7-8161-408f-b8eb-e965cd438db6",
   "metadata": {},
   "outputs": [],
   "source": [
    "def ispangram(s) :\n",
    "alphaset = set('abcdefghijklmnopqrstuvwxyz') \n",
    "return alphaset <= set(s.lower( ))\n",
    "\n",
    "print(ispangram('The quick brown fox jumps over the lazy dog')) \n",
    "print(ispangram('Crazy Fredrick bought many very exquisite opal jewels'))\n"
   ]
  },
  {
   "cell_type": "markdown",
   "id": "a9b7e010-298c-444c-a4d3-25064fe4b6e6",
   "metadata": {},
   "source": [
    "3 - Escriba un programa en Python que acepte como entrada una secuencia de palabras separadas por guiones y llame a una función convert( ) que la convierta en una secuencia separada por guiones después de ordenarlas alfabéticamente. Por ejemplo, si la cadena de entrada es\n",
    "\n",
    "'aquí-vienen-los-puntos-seguidos-por-guiones' \n",
    "la cadena convertida será\n",
    "por-come-los-puntos-seguidos-aquí-los'"
   ]
  },
  {
   "cell_type": "code",
   "execution_count": null,
   "id": "7b579848-e0da-4055-a9ae-d59a7550db98",
   "metadata": {},
   "outputs": [],
   "source": [
    "def convert(s1) :\n",
    "items = [s for s in s1.split('-')] items.sort( )\n",
    "s2 = '-'.join(items) return s2\n",
    "s = 'here-come-the-dots-followed-by-dashes' t = convert(s)\n",
    "print(t)\n"
   ]
  },
  {
   "cell_type": "markdown",
   "id": "5a6bacd4-b718-46b1-b548-2fddc109f145",
   "metadata": {},
   "source": [
    "4 - Escribe una función Python para crear y devolver una lista que contenga tuplas de la forma (x, x2, x3) para todas las x comprendidas entre 1 y 20 (ambas incluidas)."
   ]
  },
  {
   "cell_type": "code",
   "execution_count": null,
   "id": "d18b8135-48f2-4a91-a468-258b680f5917",
   "metadata": {},
   "outputs": [],
   "source": [
    "def generate_list( ):\n",
    "lst = list( )\t# or lst = [ ] for i in range(1, 11):\n",
    "lst.append((i, i ** 2, i ** 3))\n",
    "return lst\n",
    "l = generate_list( ) print(l)"
   ]
  },
  {
   "cell_type": "markdown",
   "id": "9eb6d82e-cf2e-4662-9153-7ac4432bb763",
   "metadata": {},
   "source": [
    "5 - Un palíndromo es una palabra o frase que se lee igual en ambas direcciones. A continuación se muestran algunas cadenas:  \n",
    "\n",
    "yo hago yoga hoy\n",
    "Malayalam\n",
    "Rats live on no evil star \n",
    "Murder for a jar of red rum\n",
    "La ruta nos aportó otro paso natural  \n",
    "\n",
    "Escribe un programa que defina una función ispalindrome( ) que compruebe si una cadena dada es un palíndromo o no. Ignore los espacios y el desajuste entre mayúsculas y minúsculas mientras comprueba si se trata de un palíndromo."
   ]
  },
  {
   "cell_type": "code",
   "execution_count": null,
   "id": "63f4f949-4267-4022-b186-6689b31dfd6f",
   "metadata": {},
   "outputs": [],
   "source": [
    "def ispalindrome(s): t = s.lower( ) left = 0\n",
    "right = len(t) - 1\n",
    "\n",
    "while right >= left : if t[left] == ' ' :\n",
    "left += 1\n",
    "if t[right] == ' ' : right -= 1\n",
    "if t[left] != t[right]: return False\n",
    "left += 1\n",
    "right -= 1 return True\n",
    "print(ispalindrome('Malayalam'))\n",
    "print(ispalindrome('Rats live on no evil star')) print(ispalindrome('Murder for a jar of red rum'))\n"
   ]
  },
  {
   "cell_type": "markdown",
   "id": "b4898fb4-5d04-4e65-b40d-aeba7ab5d8b8",
   "metadata": {},
   "source": [
    "6 - Escriba un programa que defina una función convert( ) que reciba una cadena que contenga una secuencia de palabras separadas por espacios en blanco y devuelva una cadena después de eliminar todas las palabras duplicadas y ordenarlas alfanuméricamente.\n",
    "Por ejemplo, si la cadena que se pasa a convert( ) es:  \n",
    "\n",
    "s = 'Sakhi was a singer because her mother was a singer, and Sakhi\\'s mother was a singer because her father was a singer'  \n",
    "\n",
    "Sakhi Sakhi's a and because father her mother singer singer, was"
   ]
  },
  {
   "cell_type": "markdown",
   "id": "e839508e-5ad4-49f6-8131-f99c9ec11cdf",
   "metadata": {},
   "source": [
    "Tips:\n",
    "- set( ) elimina automáticamente los datos duplicados.\n",
    "- list( ) convierte el conjunto en una lista.\n",
    "- sorted( ) ordena los datos de la lista y devuelve la lista ordenada.\n",
    "- La lista de datos ordenada se convierte en una cadena utilizando el método join( ) de str, añadiendo un espacio al final de cada palabra, excepto la última."
   ]
  },
  {
   "cell_type": "code",
   "execution_count": null,
   "id": "8e0c0e82-aee1-4d0c-8754-7f1c2dd4b7ca",
   "metadata": {},
   "outputs": [],
   "source": [
    "def convert(s) :\n",
    "words = [word for word in s.split(' ')] return ' '.join(sorted(list(set(words))))\n",
    "s = 'I felt happy because I saw the others were happy and because I knew I should feel happy, but I wasn\\'t really happy'\n",
    "t = convert(s) print(t)\n",
    "\n",
    "s = 'Sakhi was a singer because her mother was a singer, and Sakhi\\'s mother was a singer because her father was a singer'\n",
    "t = convert(s) print(t)\n"
   ]
  },
  {
   "cell_type": "markdown",
   "id": "973a58fd-4d70-4c05-9eee-5414431b5fe6",
   "metadata": {},
   "source": [
    "7 - Escriba un programa que defina una función count_alphabets_digits( ) que acepte una cadena y calcule el número de letras y dígitos que contiene. Debe devolver estos valores como un diccionario. Llame a esta función para algunas cadenas de ejemplo."
   ]
  },
  {
   "cell_type": "code",
   "execution_count": null,
   "id": "5abedfb6-ff91-49cb-8c1e-84bc952057cc",
   "metadata": {},
   "outputs": [],
   "source": [
    "def count_alphabets_digits(s) : d={'Digits' : 0, 'Alphabets' : 0} for ch in s:\n",
    "if ch.isalpha( ) :\n",
    "d['Alphabets'] += 1 elif ch.isdigit( ) :\n",
    "d['Digits'] += 1\n",
    "else :\n",
    "pass return(d)\n",
    "\n",
    "d = count_alphabets_digits('James Bond 007') print(d)\n",
    "d = count_alphabets_digits('Kholi Number 420') print(d)\n"
   ]
  },
  {
   "cell_type": "markdown",
   "id": "c2167070-a425-405b-bb6b-4bab328c5c2b",
   "metadata": {},
   "source": [
    "Tips:\n",
    "pass no hace nada en la ejecución."
   ]
  },
  {
   "cell_type": "markdown",
   "id": "aaead656-b127-4f11-8d8a-c91c07dd30b7",
   "metadata": {},
   "source": [
    "8 - Escriba un programa que defina una función llamada frequency( ) que calcule la frecuencia de las palabras presentes en una cadena que se le pase. Las frecuencias deben devolverse ordenadas por palabras en la cadena."
   ]
  },
  {
   "cell_type": "code",
   "execution_count": null,
   "id": "a8e07db9-82a0-4ffa-acea-1b191fab0235",
   "metadata": {},
   "outputs": [],
   "source": [
    "def frequency(s) : freq = { }\n",
    "for word in s.split( ) :\n",
    "freq[word] = freq.get(word, 0) + 1 return freq\n",
    "\n",
    "sentence = 'It is true for all that that that that \\ that that that refers to is not the same that \\ that that that refers to'\n",
    "d = frequency(sentence)\n",
    "words = sorted(d)\n",
    "\n",
    "for w in words:\n",
    "print ('%s:%d' % (w, d[w]))\n"
   ]
  },
  {
   "cell_type": "markdown",
   "id": "3edf8c9b-97df-4d3b-9100-713c841b8488",
   "metadata": {},
   "source": [
    "Tips\n",
    "- No utilizamos freq[word] = freq[word] + 1 porque no hemos inicializado todos los recuentos de palabras para cada palabra única a 0 para empezar.\n",
    "- Cuando utilizamos freq.get(word, 0), get( ) busca la palabra. Si no la encuentra, devolverá el segundo parámetro, es decir, 0. Así, para la primera llamada para cada palabra única, el recuento de palabras se inicializa correctamente a 0.\n",
    "- sorted( ) devuelve una lista ordenada de los valores clave del diccionario.\n",
    "- w, d[w] devuelve la palabra y su recuento de frecuencia almacenados en el diccionario d."
   ]
  },
  {
   "cell_type": "markdown",
   "id": "13b73b16-3ab9-4d6d-9eb5-4a45e13df16b",
   "metadata": {},
   "source": [
    "9 (Opcional) - Escriba un programa que defina dos funciones llamadas create_sent1( ) y create_sent2( ). Ambas reciben las 3 listas siguientes:"
   ]
  },
  {
   "cell_type": "markdown",
   "id": "6cf229c0-cbd9-4a46-bd4b-dbd82fd8e3b2",
   "metadata": {},
   "source": [
    "subjects = ['He', 'She']\r\n",
    "verbs = ['loves', 'hates']\n",
    " objects = ['TV Serials','Netflix']\r\n"
   ]
  },
  {
   "cell_type": "markdown",
   "id": "d52161e8-fdab-48ca-9288-b9c1a5d7c3bd",
   "metadata": {},
   "source": [
    "Ambas funciones deben formar frases escogiendo elementos de estas listas y devolverlas. Utilice bucles for en create_sent1( ) y comprensión de listas en create_sent2( )."
   ]
  },
  {
   "cell_type": "code",
   "execution_count": null,
   "id": "4fab80b8-04dc-4ae2-82f7-a718906ac5eb",
   "metadata": {},
   "outputs": [],
   "source": [
    "def create_sent1(sub, ver, obj) : lst = [ ]\n",
    "for i in range(len(sub)) :\n",
    "for j in range(len(ver)) :\n",
    "for k in range(len(obj)) :\n",
    "sent = sub[i] + ' ' + ver[j] + ' ' + obj[k] lst.append(sent)\n",
    "return lst\n",
    "\n",
    "def create_sent2(sub, ver, obj) :\n",
    "return [(s + ' ' + v + ' ' + o) for s in sub for v in ver for o in obj]\n",
    "\n",
    "subjects = ['He', 'She']\n",
    "verbs = ['loves', 'hates'] objects = ['TV Serials','Netflix']\n",
    "\n",
    "lst1 = create_sent1( subjects, verbs, objects) for l in lst1 :\n",
    "print(l)\n",
    "\n",
    "print( )\n",
    "lst2 = create_sent2( subjects, verbs, objects) for l in lst2 :\n",
    "print(l)\n"
   ]
  },
  {
   "cell_type": "code",
   "execution_count": null,
   "id": "9f3441cc-df44-49de-9562-05830dbc6c3e",
   "metadata": {},
   "outputs": [],
   "source": []
  }
 ],
 "metadata": {
  "kernelspec": {
   "display_name": "Python 3 (ipykernel)",
   "language": "python",
   "name": "python3"
  },
  "language_info": {
   "codemirror_mode": {
    "name": "ipython",
    "version": 3
   },
   "file_extension": ".py",
   "mimetype": "text/x-python",
   "name": "python",
   "nbconvert_exporter": "python",
   "pygments_lexer": "ipython3",
   "version": "3.11.9"
  }
 },
 "nbformat": 4,
 "nbformat_minor": 5
}
