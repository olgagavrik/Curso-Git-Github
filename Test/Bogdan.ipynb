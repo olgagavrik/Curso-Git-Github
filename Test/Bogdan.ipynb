{
 "cells": [
  {
   "cell_type": "markdown",
   "metadata": {},
   "source": [
    "Напишите функцию right_justify(), которая принимает строку s в каче\u0002стве параметра и печатает строку с достаточным количеством пробелов \n",
    "в начале строки, так чтобы последняя буква строки находилась в столбце 70 \n",
    "на экране:"
   ]
  },
  {
   "cell_type": "code",
   "execution_count": 30,
   "metadata": {},
   "outputs": [
    {
     "name": "stdout",
     "output_type": "stream",
     "text": [
      "                                                                 monty\n"
     ]
    }
   ],
   "source": [
    "def right_justify(s):\n",
    "\n",
    "    num_spaces = 70 - len(s)\n",
    "    \n",
    "    result = ' ' * num_spaces + s\n",
    "    \n",
    "    print(result)\n",
    "\n",
    "right_justify('monty')\n",
    "\n"
   ]
  },
  {
   "cell_type": "code",
   "execution_count": 29,
   "metadata": {},
   "outputs": [
    {
     "name": "stdout",
     "output_type": "stream",
     "text": [
      "monty monty monty monty monty monty monty monty monty monty monty \n"
     ]
    }
   ],
   "source": [
    "def right_justify(s):\n",
    "    # Вычисляем максимальное количество повторений\n",
    "    # Учитываем, что нам нужно, чтобы последний символ строки был в 70-й колонке\n",
    "    max_length = 70\n",
    "    word_length = len(s) + 1  # +1 учитывает пробел между повторениями\n",
    "    repetitions = max_length // word_length\n",
    "    \n",
    "    # Формируем строку, повторяя слово нужное количество раз\n",
    "    result = (s + ' ') * repetitions\n",
    "    # Печатаем результат, обрезая лишние символы, чтобы последняя буква была на 70-й позиции\n",
    "    print(result[:max_length])\n",
    "\n",
    "# Пример вызова функции\n",
    "right_justify('monty')\n"
   ]
  },
  {
   "cell_type": "markdown",
   "metadata": {},
   "source": [
    "Упражнение 3.2\n",
    "\n",
    "Объект функции — это значение, которое вы можете присвоить переменной \n",
    "или передать в качестве аргумента. Например, do_twice() — это функция, \n",
    "которая принимает объект функции в качестве аргумента и вызывает его \n",
    "дважды"
   ]
  },
  {
   "cell_type": "code",
   "execution_count": 38,
   "metadata": {},
   "outputs": [
    {
     "name": "stdout",
     "output_type": "stream",
     "text": [
      "spam\n",
      "spam\n"
     ]
    }
   ],
   "source": [
    "def print_spam():\n",
    "    print('spam')\n",
    "do_twice(print_spam)"
   ]
  },
  {
   "cell_type": "code",
   "execution_count": 39,
   "metadata": {},
   "outputs": [],
   "source": [
    "def do_eleven(f):\n",
    "    f()\n",
    "    f()\n",
    "    f()\n",
    "    f()\n",
    "    f()\n",
    "    f()\n",
    "    f()\n",
    "    f()\n",
    "    f()\n",
    "    f()\n",
    "    f()\n",
    "    "
   ]
  },
  {
   "cell_type": "code",
   "execution_count": 35,
   "metadata": {},
   "outputs": [
    {
     "name": "stdout",
     "output_type": "stream",
     "text": [
      "abracadabraabracadabraabracadabra\n",
      "abracadabraabracadabraabracadabra\n",
      "abracadabraabracadabraabracadabra\n",
      "abracadabraabracadabraabracadabra\n",
      "abracadabraabracadabraabracadabra\n",
      "abracadabraabracadabraabracadabra\n",
      "abracadabraabracadabraabracadabra\n",
      "abracadabraabracadabraabracadabra\n",
      "abracadabraabracadabraabracadabra\n",
      "abracadabraabracadabraabracadabra\n",
      "abracadabraabracadabraabracadabra\n"
     ]
    }
   ],
   "source": [
    "def print_algo():\n",
    "    print('abracadabraabracadabraabracadabra')\n",
    "do_eleven(print_algo)"
   ]
  },
  {
   "cell_type": "code",
   "execution_count": 37,
   "metadata": {},
   "outputs": [
    {
     "name": "stdout",
     "output_type": "stream",
     "text": [
      "abracadabraabracadabraabracadabra\n",
      "abracadabraabracadabraabracadabra\n"
     ]
    }
   ],
   "source": [
    "do_twice(print_algo)"
   ]
  },
  {
   "cell_type": "code",
   "execution_count": 40,
   "metadata": {},
   "outputs": [
    {
     "name": "stdout",
     "output_type": "stream",
     "text": [
      "abracadabraabracadabraabracadabra\n",
      "abracadabraabracadabraabracadabra\n",
      "abracadabraabracadabraabracadabra\n",
      "abracadabraabracadabraabracadabra\n",
      "spam\n",
      "spam\n"
     ]
    }
   ],
   "source": [
    "def do_four(f):\n",
    "    f()\n",
    "    f()\n",
    "    f()\n",
    "    f()\n",
    "do_four(print_algo)\n",
    "do_twice(print_spam)"
   ]
  },
  {
   "cell_type": "markdown",
   "metadata": {},
   "source": [
    "Напишите функцию, которая рисует сетку"
   ]
  },
  {
   "cell_type": "code",
   "execution_count": 59,
   "metadata": {},
   "outputs": [
    {
     "name": "stdout",
     "output_type": "stream",
     "text": [
      "+ - - - - + - - - - +\n",
      "|         |         |\n",
      "|         |         |\n",
      "|         |         |\n",
      "|         |         |\n",
      "+ - - - - + - - - - +\n",
      "|         |         |\n",
      "|         |         |\n",
      "|         |         |\n",
      "|         |         |\n",
      "+ - - - - + - - - - +\n"
     ]
    }
   ],
   "source": [
    "\n",
    "def print_columna():\n",
    "    print('|         |         |')\n",
    "    \n",
    "def print_fila():\n",
    "    print('+ - - - - + - - - - +')\n",
    "    \n",
    "def risuy_setku():   \n",
    "    print_fila()\n",
    "    do_four(print_columna)\n",
    "    print_fila()\n",
    "    do_four(print_columna)\n",
    "    print_fila()\n",
    "    \n",
    "risuy_setku()\n",
    "    \n",
    "    \n",
    "    "
   ]
  },
  {
   "cell_type": "markdown",
   "metadata": {},
   "source": [
    "Оператор continue используется для пропуска текущей итерации цикла и перехода к следующей итерации. Когда внутри цикла встречается оператор continue, \n",
    "цикл пропускает текущую итерацию и переходит к следующей."
   ]
  },
  {
   "cell_type": "code",
   "execution_count": 1,
   "metadata": {},
   "outputs": [
    {
     "name": "stdout",
     "output_type": "stream",
     "text": [
      "green\n",
      "red\n"
     ]
    }
   ],
   "source": [
    "colors = ['green', 'yellow', 'red']\n",
    "for color in colors:\n",
    "    if color == 'yellow':\n",
    "        continue\n",
    "    print(color)"
   ]
  },
  {
   "cell_type": "markdown",
   "metadata": {},
   "source": [
    "Kak vyzvat spisok vseh vstroennyh funkciy"
   ]
  },
  {
   "cell_type": "code",
   "execution_count": 5,
   "metadata": {},
   "outputs": [
    {
     "name": "stdout",
     "output_type": "stream",
     "text": [
      "['ArithmeticError', 'AssertionError', 'AttributeError', 'BaseException', 'BaseExceptionGroup', 'BlockingIOError', 'BrokenPipeError', 'BufferError', 'BytesWarning', 'ChildProcessError', 'ConnectionAbortedError', 'ConnectionError', 'ConnectionRefusedError', 'ConnectionResetError', 'DeprecationWarning', 'EOFError', 'Ellipsis', 'EncodingWarning', 'EnvironmentError', 'Exception', 'ExceptionGroup', 'False', 'FileExistsError', 'FileNotFoundError', 'FloatingPointError', 'FutureWarning', 'GeneratorExit', 'IOError', 'ImportError', 'ImportWarning', 'IndentationError', 'IndexError', 'InterruptedError', 'IsADirectoryError', 'KeyError', 'KeyboardInterrupt', 'LookupError', 'MemoryError', 'ModuleNotFoundError', 'NameError', 'None', 'NotADirectoryError', 'NotImplemented', 'NotImplementedError', 'OSError', 'OverflowError', 'PendingDeprecationWarning', 'PermissionError', 'ProcessLookupError', 'RecursionError', 'ReferenceError', 'ResourceWarning', 'RuntimeError', 'RuntimeWarning', 'StopAsyncIteration', 'StopIteration', 'SyntaxError', 'SyntaxWarning', 'SystemError', 'SystemExit', 'TabError', 'TimeoutError', 'True', 'TypeError', 'UnboundLocalError', 'UnicodeDecodeError', 'UnicodeEncodeError', 'UnicodeError', 'UnicodeTranslateError', 'UnicodeWarning', 'UserWarning', 'ValueError', 'Warning', 'WindowsError', 'ZeroDivisionError', '__IPYTHON__', '__build_class__', '__debug__', '__doc__', '__import__', '__loader__', '__name__', '__package__', '__spec__', 'abs', 'aiter', 'all', 'anext', 'any', 'ascii', 'bin', 'bool', 'breakpoint', 'bytearray', 'bytes', 'callable', 'chr', 'classmethod', 'compile', 'complex', 'copyright', 'credits', 'delattr', 'dict', 'dir', 'display', 'divmod', 'enumerate', 'eval', 'exec', 'execfile', 'filter', 'float', 'format', 'frozenset', 'get_ipython', 'getattr', 'globals', 'hasattr', 'hash', 'help', 'hex', 'id', 'input', 'int', 'isinstance', 'issubclass', 'iter', 'len', 'license', 'list', 'locals', 'map', 'max', 'memoryview', 'min', 'next', 'object', 'oct', 'open', 'ord', 'pow', 'print', 'property', 'range', 'repr', 'reversed', 'round', 'runfile', 'set', 'setattr', 'slice', 'sorted', 'staticmethod', 'str', 'sum', 'super', 'tuple', 'type', 'vars', 'zip']\n"
     ]
    }
   ],
   "source": [
    "print(dir(__builtin__))"
   ]
  }
 ],
 "metadata": {
  "kernelspec": {
   "display_name": "base",
   "language": "python",
   "name": "python3"
  },
  "language_info": {
   "codemirror_mode": {
    "name": "ipython",
    "version": 3
   },
   "file_extension": ".py",
   "mimetype": "text/x-python",
   "name": "python",
   "nbconvert_exporter": "python",
   "pygments_lexer": "ipython3",
   "version": "3.11.7"
  }
 },
 "nbformat": 4,
 "nbformat_minor": 2
}
