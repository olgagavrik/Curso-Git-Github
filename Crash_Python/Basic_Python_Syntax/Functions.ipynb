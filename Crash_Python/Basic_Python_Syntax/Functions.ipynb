{
 "cells": [
  {
   "cell_type": "code",
   "execution_count": 1,
   "metadata": {},
   "outputs": [
    {
     "name": "stdout",
     "output_type": "stream",
     "text": [
      "Welcome, Kay\n",
      "Welcome, Cameron\n"
     ]
    }
   ],
   "source": [
    "def greeting(name):\n",
    "    print(\"Welcome, \" + name)\n",
    "\n",
    "greeting(\"Kay\")    \n",
    "greeting(\"Cameron\")"
   ]
  },
  {
   "cell_type": "code",
   "execution_count": 2,
   "metadata": {},
   "outputs": [
    {
     "name": "stdout",
     "output_type": "stream",
     "text": [
      "Welcome, Blake\n",
      "You are part of Software engineering\n",
      "Welcome, Ellis\n",
      "You are part of Software engeneering\n"
     ]
    }
   ],
   "source": [
    "def greeting(name, department):\n",
    "    print(\"Welcome, \" + name)\n",
    "    print(\"You are part of \" + department)\n",
    "\n",
    "greeting(\"Blake\", \"Software engineering\")\n",
    "greeting(\"Ellis\", \"Software engeneering\")"
   ]
  },
  {
   "cell_type": "code",
   "execution_count": 3,
   "metadata": {},
   "outputs": [
    {
     "name": "stdout",
     "output_type": "stream",
     "text": [
      "Investigate failed login attempts during September If more than 100\n"
     ]
    }
   ],
   "source": [
    "month = \"September\"\n",
    "print(\"Investigate failed login attempts during\", month, \"If more than\", 100)"
   ]
  },
  {
   "cell_type": "code",
   "execution_count": 4,
   "metadata": {},
   "outputs": [
    {
     "name": "stdout",
     "output_type": "stream",
     "text": [
      "<class 'str'>\n"
     ]
    }
   ],
   "source": [
    "print(type(\"This is a string\"))"
   ]
  },
  {
   "cell_type": "code",
   "execution_count": 5,
   "metadata": {},
   "outputs": [
    {
     "name": "stdout",
     "output_type": "stream",
     "text": [
      "12\n"
     ]
    }
   ],
   "source": [
    "number = 12\n",
    "string_representation = str(number)\n",
    "print(string_representation)"
   ]
  },
  {
   "cell_type": "code",
   "execution_count": 6,
   "metadata": {},
   "outputs": [
    {
     "name": "stdout",
     "output_type": "stream",
     "text": [
      "[2, 12, 14, 19, 22, 32, 57]\n"
     ]
    }
   ],
   "source": [
    "# The sorted() function sorts the components of a list.\n",
    "time_list = [12, 2, 32, 19, 57, 22, 14]\n",
    "print(sorted(time_list))"
   ]
  },
  {
   "cell_type": "code",
   "execution_count": 7,
   "metadata": {},
   "outputs": [
    {
     "name": "stdout",
     "output_type": "stream",
     "text": [
      "[2, 12, 14, 19, 22, 32, 57]\n",
      "[12, 2, 32, 19, 57, 22, 14]\n"
     ]
    }
   ],
   "source": [
    "# The sorted() function does not change the iterable that it sorts.\n",
    "time_list = [12, 2, 32, 19, 57, 22, 14]\n",
    "print(sorted(time_list))\n",
    "print(time_list)"
   ]
  },
  {
   "cell_type": "code",
   "execution_count": 8,
   "metadata": {},
   "outputs": [
    {
     "name": "stdout",
     "output_type": "stream",
     "text": [
      "2\n",
      "57\n"
     ]
    }
   ],
   "source": [
    "# The max() function returns the largest numeric inout passed into it.\n",
    "# The min()......................smallest.............................\n",
    "time_list = [12, 2, 32, 19, 57, 22, 14]\n",
    "print(min(time_list))\n",
    "print(max(time_list))"
   ]
  },
  {
   "cell_type": "code",
   "execution_count": 9,
   "metadata": {},
   "outputs": [],
   "source": [
    "def area_triangle(base, height):\n",
    "    return base*height/2"
   ]
  },
  {
   "cell_type": "code",
   "execution_count": 10,
   "metadata": {},
   "outputs": [],
   "source": [
    "area_a = area_triangle(5,4)\n",
    "area_b = area_triangle(7,3)"
   ]
  },
  {
   "cell_type": "code",
   "execution_count": 11,
   "metadata": {},
   "outputs": [],
   "source": [
    "sum = area_a + area_b"
   ]
  },
  {
   "cell_type": "code",
   "execution_count": 12,
   "metadata": {},
   "outputs": [
    {
     "name": "stdout",
     "output_type": "stream",
     "text": [
      "The sum of both areas is: 20.5\n"
     ]
    }
   ],
   "source": [
    "print(\"The sum of both areas is: \" + str(sum))"
   ]
  },
  {
   "cell_type": "code",
   "execution_count": 15,
   "metadata": {},
   "outputs": [],
   "source": [
    "def convert_seconds(seconds):\n",
    "    hours = seconds // 3600\n",
    "    minutes = (seconds - hours * 3600) // 60\n",
    "    remaining_seconds = seconds - hours * 3600 - minutes * 60\n",
    "    return hours, minutes, remaining_seconds"
   ]
  },
  {
   "cell_type": "code",
   "execution_count": 16,
   "metadata": {},
   "outputs": [
    {
     "name": "stdout",
     "output_type": "stream",
     "text": [
      "1 23 20\n"
     ]
    }
   ],
   "source": [
    "hours, minutes, seconds = convert_seconds(5000)\n",
    "print(hours, minutes, seconds)"
   ]
  },
  {
   "cell_type": "code",
   "execution_count": 19,
   "metadata": {},
   "outputs": [
    {
     "name": "stdout",
     "output_type": "stream",
     "text": [
      "Welcome, Christine\n",
      "None\n"
     ]
    }
   ],
   "source": [
    "def greeting(name):\n",
    "    print(\"Welcome, \" + name)\n",
    "result = greeting(\"Christine\")\n",
    "print(result)"
   ]
  },
  {
   "cell_type": "code",
   "execution_count": 20,
   "metadata": {},
   "outputs": [
    {
     "name": "stdout",
     "output_type": "stream",
     "text": [
      "Hello Kay. Your lucky number is 27\n",
      "Hello Cameron. Your lucky number is 63\n"
     ]
    }
   ],
   "source": [
    "name = \"Kay\" \n",
    "number = len(name) * 9\n",
    "\n",
    "print(\"Hello \" + name + \". Your lucky number is \" + str(number))\n",
    "\n",
    "name = \"Cameron\"\n",
    "number = len(name) * 9\n",
    "\n",
    "print(\"Hello \" + name + \". Your lucky number is \" + str(number))"
   ]
  },
  {
   "cell_type": "code",
   "execution_count": 24,
   "metadata": {},
   "outputs": [
    {
     "name": "stdout",
     "output_type": "stream",
     "text": [
      "Hello Kay. Your lucky number is 27\n",
      "Hello Cameron. Your lucky number is 63\n"
     ]
    }
   ],
   "source": [
    "def lucky_number(name):\n",
    "    number = len(name) * 9\n",
    "    print(\"Hello \" + name + \". Your lucky number is \" + str(number))\n",
    "\n",
    "lucky_number(\"Kay\")\n",
    "lucky_number(\"Cameron\")"
   ]
  },
  {
   "cell_type": "code",
   "execution_count": 26,
   "metadata": {},
   "outputs": [
    {
     "name": "stdout",
     "output_type": "stream",
     "text": [
      "78.5\n"
     ]
    }
   ],
   "source": [
    "def calculate(d):\n",
    "    q = 3.14\n",
    "    z = q * (d ** 2)\n",
    "    print(z)\n",
    "\n",
    "calculate(5)\n",
    "# Output is 78.5"
   ]
  },
  {
   "cell_type": "code",
   "execution_count": 28,
   "metadata": {},
   "outputs": [
    {
     "name": "stdout",
     "output_type": "stream",
     "text": [
      "78.5\n"
     ]
    }
   ],
   "source": [
    "def circle_area(radius):\n",
    "    pi = 3.14\n",
    "    area = pi * (radius ** 2)\n",
    "    print(area)\n",
    "    \n",
    "circle_area(5)\n",
    "# Output is 78.5"
   ]
  },
  {
   "cell_type": "code",
   "execution_count": 29,
   "metadata": {},
   "outputs": [
    {
     "name": "stdout",
     "output_type": "stream",
     "text": [
      "903\n"
     ]
    }
   ],
   "source": [
    "# This function calculates the number of days in a variable number of\n",
    "# years, months, and days. These variables are provided by the user and\n",
    "# are passed to the function through the function´s parameters.\n",
    "def find_total_days(years, months, days):\n",
    "# Assign a variable to hold the calculations for the number of days in\n",
    "# a year (years*365) plus the number of days in a month (months*30) plus\n",
    "# the number of days provided trough the \"days\" parameter variable\n",
    "    my_days = (years*365) + (months*30) + days\n",
    "# Use the \"return\" keyword to send the result of the \"my_days\" calculation\n",
    "# to the function call.\n",
    "    return my_days\n",
    "\n",
    "# Function call with user provided parameter values.\n",
    "print(find_total_days(2,5,23))"
   ]
  },
  {
   "cell_type": "code",
   "execution_count": 30,
   "metadata": {},
   "outputs": [
    {
     "name": "stdout",
     "output_type": "stream",
     "text": [
      "The volume in milliliters is 59.0\n",
      "The volume in milliliters is 118.0\n"
     ]
    }
   ],
   "source": [
    "# This function converts fluid onces to milliliters and returns the result\n",
    "# of the conversion.\n",
    "def convert_volume(fluid_once):\n",
    "    ml = fluid_once * 29.5\n",
    "    return ml\n",
    "\n",
    "print(\"The volume in milliliters is \" + str(convert_volume(2)))\n",
    "print(\"The volume in milliliters is \" + str(convert_volume(2)*2))"
   ]
  },
  {
   "cell_type": "code",
   "execution_count": null,
   "metadata": {},
   "outputs": [],
   "source": []
  }
 ],
 "metadata": {
  "kernelspec": {
   "display_name": "Python 3.6.8 64-bit",
   "language": "python",
   "name": "python3"
  },
  "language_info": {
   "codemirror_mode": {
    "name": "ipython",
    "version": 3
   },
   "file_extension": ".py",
   "mimetype": "text/x-python",
   "name": "python",
   "nbconvert_exporter": "python",
   "pygments_lexer": "ipython3",
   "version": "3.6.8"
  },
  "orig_nbformat": 4,
  "vscode": {
   "interpreter": {
    "hash": "0664568eec612509e3f4f9ca054325288895e1bf42fd6b6ec863d622dc6e339a"
   }
  }
 },
 "nbformat": 4,
 "nbformat_minor": 2
}
