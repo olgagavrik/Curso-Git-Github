{
 "cells": [
  {
   "cell_type": "code",
   "execution_count": 1,
   "metadata": {},
   "outputs": [
    {
     "name": "stdout",
     "output_type": "stream",
     "text": [
      "Hello Manny, your lucky number is 15\n"
     ]
    }
   ],
   "source": [
    "name = 'Manny'\n",
    "number = len(name) * 3\n",
    "print('Hello {}, your lucky number is {}'.format(name, number))\n"
   ]
  },
  {
   "cell_type": "code",
   "execution_count": 6,
   "metadata": {},
   "outputs": [
    {
     "name": "stdout",
     "output_type": "stream",
     "text": [
      "Your lucky number is 15, Manny.\n"
     ]
    }
   ],
   "source": [
    "name = 'Manny'\n",
    "print('Your lucky number is {number}, {name}.'.format(name=name, number = len(name) * 3))"
   ]
  },
  {
   "cell_type": "code",
   "execution_count": 7,
   "metadata": {},
   "outputs": [
    {
     "name": "stdout",
     "output_type": "stream",
     "text": [
      "7.5 8.175\n",
      "Base price: $7.50. With Tax: $8.18\n"
     ]
    }
   ],
   "source": [
    "price = 7.5\n",
    "with_tax = price * 1.09\n",
    "print(price, with_tax)\n",
    "print('Base price: ${:.2f}. With Tax: ${:.2f}'.format(price, with_tax))"
   ]
  },
  {
   "cell_type": "code",
   "execution_count": 9,
   "metadata": {},
   "outputs": [
    {
     "name": "stdout",
     "output_type": "stream",
     "text": [
      "  0 F | -17.78 C\n",
      " 10 F | -12.22 C\n",
      " 20 F |  -6.67 C\n",
      " 30 F |  -1.11 C\n",
      " 40 F |   4.44 C\n",
      " 50 F |  10.00 C\n",
      " 60 F |  15.56 C\n",
      " 70 F |  21.11 C\n",
      " 80 F |  26.67 C\n",
      " 90 F |  32.22 C\n",
      "100 F |  37.78 C\n"
     ]
    }
   ],
   "source": [
    "def to_celsius(x):\n",
    "    return(x - 32) * 5 / 9\n",
    "for x in range(0,101,10):\n",
    "    print('{:>3} F | {:>6.2f} C'.format(x, to_celsius(x)))"
   ]
  },
  {
   "cell_type": "markdown",
   "metadata": {},
   "source": [
    "You can use the format method on strings to concatenate and format strings in all kinds of powerful ways. To do this, create a string containing curly brackets, {}, as a placeholder, to be replaced. Then call the format method on the string using .format() and pass variables as parameters. The variables passed to the method will then be used to replace the curly bracket placeholders. This method automatically handles any conversion between data types for us. \n",
    "\n",
    "If the curly brackets are empty, they’ll be populated with the variables passed in the order in which they're passed. However, you can put certain expressions inside the curly brackets to do even more powerful string formatting operations. You can put the name of a variable into the curly brackets, then use the names in the parameters. This allows for more easily readable code, and for more flexibility with the order of variables.\n",
    "\n",
    "You can also put a formatting expression inside the curly brackets, which lets you alter the way the string is formatted. For example, the formatting expression {:.2f} means that you’d format this as a float number, with two digits after the decimal dot. The colon acts as a separator from the field name, if you had specified one. You can also specify text alignment using the greater than operator: >. For example, the expression {:>3.2f} would align the text three spaces to the right, as well as specify a float number with two decimal places. String formatting can be very handy for outputting easy-to-read textual output"
   ]
  },
  {
   "cell_type": "code",
   "execution_count": 10,
   "metadata": {},
   "outputs": [
    {
     "name": "stdout",
     "output_type": "stream",
     "text": [
      "5\n"
     ]
    }
   ],
   "source": [
    "print(len('abcde'))"
   ]
  },
  {
   "cell_type": "code",
   "execution_count": 11,
   "metadata": {},
   "outputs": [
    {
     "name": "stdout",
     "output_type": "stream",
     "text": [
      "a\n",
      "b\n",
      "c\n",
      "d\n",
      "e\n"
     ]
    }
   ],
   "source": [
    "# for character in string - iterates over each character \n",
    "for c in 'abcde':\n",
    "    print(c)"
   ]
  },
  {
   "cell_type": "code",
   "execution_count": 12,
   "metadata": {},
   "outputs": [
    {
     "name": "stdout",
     "output_type": "stream",
     "text": [
      "True\n",
      "False\n"
     ]
    }
   ],
   "source": [
    "# if substring in string\n",
    "print('abc' in 'abcde')\n",
    "print('def' in 'abcde')"
   ]
  },
  {
   "cell_type": "code",
   "execution_count": 13,
   "metadata": {},
   "outputs": [
    {
     "name": "stdout",
     "output_type": "stream",
     "text": [
      "c\n",
      "e\n"
     ]
    }
   ],
   "source": [
    "# string [i] - accesses the character at index i of the string\n",
    "print('abcde'[2])\n",
    "print('abcde'[-1])"
   ]
  },
  {
   "cell_type": "code",
   "execution_count": 15,
   "metadata": {},
   "outputs": [
    {
     "name": "stdout",
     "output_type": "stream",
     "text": [
      "ab\n",
      "cde\n"
     ]
    }
   ],
   "source": [
    "# string[i:j] - accesses the substring staring at index i, ending at index j minus 1\n",
    "print('abcde' [0:2])\n",
    "print('abcde'[2:])\n"
   ]
  },
  {
   "cell_type": "code",
   "execution_count": 16,
   "metadata": {},
   "outputs": [
    {
     "name": "stdout",
     "output_type": "stream",
     "text": [
      "abbfjjkkskkm\n"
     ]
    }
   ],
   "source": [
    "# method string.lower()\n",
    "print('AbbFjjkksKKm'.lower())"
   ]
  },
  {
   "cell_type": "code",
   "execution_count": 17,
   "metadata": {},
   "outputs": [
    {
     "name": "stdout",
     "output_type": "stream",
     "text": [
      "NNHHJJSHSHUII\n"
     ]
    }
   ],
   "source": [
    "# method string.upper()\n",
    "print('NNHHjjshshUii'.upper())"
   ]
  },
  {
   "cell_type": "code",
   "execution_count": 18,
   "metadata": {},
   "outputs": [
    {
     "name": "stdout",
     "output_type": "stream",
     "text": [
      "Hello   \n"
     ]
    }
   ],
   "source": [
    "# method string.lstrip() left-side whitespace removes\n",
    "print('  Hello   '.lstrip())"
   ]
  },
  {
   "cell_type": "code",
   "execution_count": 19,
   "metadata": {},
   "outputs": [
    {
     "name": "stdout",
     "output_type": "stream",
     "text": [
      "      Hello\n"
     ]
    }
   ],
   "source": [
    "print('      Hello               '.rstrip())"
   ]
  },
  {
   "cell_type": "code",
   "execution_count": 20,
   "metadata": {},
   "outputs": [
    {
     "name": "stdout",
     "output_type": "stream",
     "text": [
      "Hello\n"
     ]
    }
   ],
   "source": [
    "print('           Hello              '.strip())"
   ]
  },
  {
   "cell_type": "code",
   "execution_count": 21,
   "metadata": {},
   "outputs": [
    {
     "name": "stdout",
     "output_type": "stream",
     "text": [
      "2\n"
     ]
    }
   ],
   "source": [
    "test = 'How much wood would a woodchuck chuck'\n",
    "print(test.count('wood'))"
   ]
  },
  {
   "cell_type": "code",
   "execution_count": 22,
   "metadata": {},
   "outputs": [
    {
     "name": "stdout",
     "output_type": "stream",
     "text": [
      "True\n",
      "False\n"
     ]
    }
   ],
   "source": [
    "# string.isnumeric() returns True if there are only numeric characters\n",
    "print('15645464'.isnumeric())\n",
    "print('-14524'.isnumeric())"
   ]
  },
  {
   "cell_type": "code",
   "execution_count": 23,
   "metadata": {},
   "outputs": [
    {
     "name": "stdout",
     "output_type": "stream",
     "text": [
      "True\n",
      "False\n"
     ]
    }
   ],
   "source": [
    "print('xgteh'.isalpha())\n",
    "print('DDRkk.k'.isalpha())"
   ]
  },
  {
   "cell_type": "code",
   "execution_count": 24,
   "metadata": {},
   "outputs": [
    {
     "name": "stdout",
     "output_type": "stream",
     "text": [
      "['How', 'much', 'wood', 'would', 'a', 'woodchuck', 'chuck']\n"
     ]
    }
   ],
   "source": [
    "print(test.split())"
   ]
  },
  {
   "cell_type": "code",
   "execution_count": 25,
   "metadata": {},
   "outputs": [
    {
     "name": "stdout",
     "output_type": "stream",
     "text": [
      "['How much wood would a woodchuck chuck']\n"
     ]
    }
   ],
   "source": [
    "# string.split(delimeter) returns a list of substrings that were separated\n",
    "# by whitespace or another string\n",
    "print(test.split(' - '))"
   ]
  },
  {
   "cell_type": "code",
   "execution_count": 27,
   "metadata": {},
   "outputs": [
    {
     "name": "stdout",
     "output_type": "stream",
     "text": [
      "How much plastic would a plasticchuck chuck\n"
     ]
    }
   ],
   "source": [
    "print(test.replace('wood', 'plastic'))"
   ]
  },
  {
   "cell_type": "code",
   "execution_count": 30,
   "metadata": {},
   "outputs": [
    {
     "name": "stdout",
     "output_type": "stream",
     "text": [
      "How-much-wood-would-a-woodchuck-chuck\n"
     ]
    }
   ],
   "source": [
    "print('-'.join(test.split()))"
   ]
  },
  {
   "cell_type": "code",
   "execution_count": 31,
   "metadata": {},
   "outputs": [
    {
     "name": "stdout",
     "output_type": "stream",
     "text": [
      "Subtotal: 27.245\n",
      "Sales Tax: 1.8049812500000002\n",
      "Total: 29.049981250000002\n"
     ]
    }
   ],
   "source": [
    "basket = [\n",
    "    ('Peaches', 3.0, 2.99),\n",
    "    ('Pears', 5.0, 1.66),\n",
    "    ('Plums', 2.5, 3.99)\n",
    "]\n",
    "subtotal = 0.00\n",
    "for item in basket:\n",
    "    fruit, weight, unit_price = item\n",
    "    subtotal += (weight * unit_price)\n",
    "tax_rate = 0.06625              # 6.625% sales tax in New Jersey\n",
    "tax_amt = subtotal * tax_rate\n",
    "total = subtotal + tax_amt\n",
    "print('Subtotal:', subtotal)\n",
    "print('Sales Tax:', tax_amt)\n",
    "print('Total:', total)"
   ]
  },
  {
   "cell_type": "code",
   "execution_count": 32,
   "metadata": {},
   "outputs": [
    {
     "name": "stdout",
     "output_type": "stream",
     "text": [
      " You are buying 3.0 pounds of peaches at 2.99 per pound\n"
     ]
    }
   ],
   "source": [
    "fruit = 'peaches'\n",
    "weight = 3.0\n",
    "per_pound = 2.99\n",
    "output = ' You are buying {} pounds of {} at {} per pound'.format(weight, fruit, per_pound)\n",
    "print(output)"
   ]
  },
  {
   "cell_type": "code",
   "execution_count": 33,
   "metadata": {},
   "outputs": [
    {
     "name": "stdout",
     "output_type": "stream",
     "text": [
      "peaches are 2.99 per pound, and you have 3.0 pounds of peaches.\n"
     ]
    }
   ],
   "source": [
    "output = '{1} are {2} per pound, and you have {0} pounds of {1}.'\\\n",
    ".format(weight, fruit, per_pound)\n",
    "print(output)"
   ]
  },
  {
   "cell_type": "code",
   "execution_count": 34,
   "metadata": {},
   "outputs": [
    {
     "name": "stdout",
     "output_type": "stream",
     "text": [
      "peaches are 2.99 per pound, and you have 3.0 pounds of peaches.\n"
     ]
    }
   ],
   "source": [
    "output = '{fruit} are {price} per pound, and you have {weight} pounds of {fruit}.'\\\n",
    ".format(weight = weight, fruit = fruit, price = per_pound)\n",
    "print(output)"
   ]
  },
  {
   "cell_type": "code",
   "execution_count": 35,
   "metadata": {},
   "outputs": [
    {
     "name": "stdout",
     "output_type": "stream",
     "text": [
      "Subtotal:     $     27.25\n",
      "Sales Tax:    $      1.80\n",
      "Total:        $     29.05\n"
     ]
    }
   ],
   "source": [
    "print('Subtotal:     ${:10,.2f}'.format(subtotal))\n",
    "print('Sales Tax:    ${:10,.2f}'.format(tax_amt))\n",
    "print('Total:        ${:10,.2f}'.format(total))"
   ]
  },
  {
   "cell_type": "code",
   "execution_count": 40,
   "metadata": {},
   "outputs": [],
   "source": [
    "def mirrored_string(my_string):\n",
    "    forwards = \" \"\n",
    "    backwards = \" \"\n",
    "    for character in my_string:\n",
    "        if character.isalpha():\n",
    "            forwards += character\n",
    "            backwards = character + backwards\n",
    "        if forwards.lower() == backwards.lower():\n",
    "            return True\n",
    "        return False\n",
    "    print(mirrored_string('12 Noon'))\n",
    "    print(mirrored_string('Was it a car or cat I saw'))\n",
    "    print(mirrored_string(\"'eve, Madam Eve\"))"
   ]
  },
  {
   "cell_type": "code",
   "execution_count": 41,
   "metadata": {},
   "outputs": [
    {
     "name": "stdout",
     "output_type": "stream",
     "text": [
      "12 ounces equals 0.75 pounds\n",
      "50.5 ounces equals 3.16 pounds\n",
      "16 ounces equals 1.00 pounds\n"
     ]
    }
   ],
   "source": [
    "# Use the format() method, with {} placeholders for variable data,\n",
    "# to create a new string\n",
    "def convert_weight(ounces):\n",
    "    pounds = ounces/16    # conversion formula  1 pound = 16 ounces\n",
    "    result = '{} ounces equals {:.2f} pounds'.format(ounces, pounds)\n",
    "    return result\n",
    "print(convert_weight(12))\n",
    "print(convert_weight(50.5))\n",
    "print(convert_weight(16))\n",
    "    "
   ]
  },
  {
   "cell_type": "code",
   "execution_count": 42,
   "metadata": {},
   "outputs": [
    {
     "name": "stdout",
     "output_type": "stream",
     "text": [
      "Iva1985\n",
      "Rod2005\n",
      "Den1989\n"
     ]
    }
   ],
   "source": [
    "# This function generates  ausername using the first 3 letters of a\n",
    "# user´s last name plus their birth year.\n",
    "def username(last_name, birth_year):\n",
    "    return('{}{}'.format(last_name[0:3], birth_year))\n",
    "print(username('Ivanov', '1985'))\n",
    "print(username('Rodriguez', '2005'))\n",
    "print(username('Den', '1989'))"
   ]
  },
  {
   "cell_type": "code",
   "execution_count": 44,
   "metadata": {},
   "outputs": [
    {
     "name": "stdout",
     "output_type": "stream",
     "text": [
      "Last year´s annual report will be released in March 2024\n",
      "In April, the CEO will hold a conference\n",
      "The convention is scheduled for June\n"
     ]
    }
   ],
   "source": [
    "# This function checks a given schedule entry for an old date and, if\n",
    "# found, the function replaces it with a new date.\n",
    "def replace_date(schedule, old_date, new_date):\n",
    "    if schedule.endswith(old_date):\n",
    "        p = len(old_date)\n",
    "        new_schedule = schedule[:-p] + schedule[-p:].replace(old_date, new_date)\n",
    "        return new_schedule\n",
    "    return schedule\n",
    "print(replace_date('Last year´s annual report will be released in March 2023', '2023', '2024'))\n",
    "print(replace_date('In April, the CEO will hold a conference', 'April', 'May'))\n",
    "print(replace_date('The convention is scheduled for October', 'October', 'June'))"
   ]
  }
 ],
 "metadata": {
  "kernelspec": {
   "display_name": "Python 3.8.10 64-bit",
   "language": "python",
   "name": "python3"
  },
  "language_info": {
   "codemirror_mode": {
    "name": "ipython",
    "version": 3
   },
   "file_extension": ".py",
   "mimetype": "text/x-python",
   "name": "python",
   "nbconvert_exporter": "python",
   "pygments_lexer": "ipython3",
   "version": "3.8.10"
  },
  "orig_nbformat": 4,
  "vscode": {
   "interpreter": {
    "hash": "2a75be7c44ec7304484796a123393aaf72432c0d4935e52fae8ff7c54b508870"
   }
  }
 },
 "nbformat": 4,
 "nbformat_minor": 2
}
