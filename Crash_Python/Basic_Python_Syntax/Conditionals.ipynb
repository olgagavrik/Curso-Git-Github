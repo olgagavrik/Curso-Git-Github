{
 "cells": [
  {
   "cell_type": "code",
   "execution_count": 1,
   "metadata": {},
   "outputs": [
    {
     "name": "stdout",
     "output_type": "stream",
     "text": [
      "True\n",
      "False\n",
      "True\n"
     ]
    }
   ],
   "source": [
    "print(10>1)\n",
    "#True\n",
    "print(\"cat\" == \"dog\")\n",
    "#False\n",
    "print(1 != 2)\n",
    "#True"
   ]
  },
  {
   "cell_type": "code",
   "execution_count": 2,
   "metadata": {},
   "outputs": [
    {
     "name": "stdout",
     "output_type": "stream",
     "text": [
      "False\n"
     ]
    }
   ],
   "source": [
    "print(1 == \"1\")\n",
    "#False"
   ]
  },
  {
   "cell_type": "code",
   "execution_count": 3,
   "metadata": {},
   "outputs": [
    {
     "ename": "TypeError",
     "evalue": "'<' not supported between instances of 'int' and 'str'",
     "output_type": "error",
     "traceback": [
      "\u001b[1;31m---------------------------------------------------------------------------\u001b[0m",
      "\u001b[1;31mTypeError\u001b[0m                                 Traceback (most recent call last)",
      "\u001b[1;32m<ipython-input-3-bc4656320e3e>\u001b[0m in \u001b[0;36m<module>\u001b[1;34m\u001b[0m\n\u001b[1;32m----> 1\u001b[1;33m \u001b[0mprint\u001b[0m\u001b[1;33m(\u001b[0m\u001b[1;36m1\u001b[0m \u001b[1;33m<\u001b[0m \u001b[1;34m\"1\"\u001b[0m\u001b[1;33m)\u001b[0m\u001b[1;33m\u001b[0m\u001b[1;33m\u001b[0m\u001b[0m\n\u001b[0m\u001b[0;32m      2\u001b[0m \u001b[1;31m#Will return a type error\u001b[0m\u001b[1;33m\u001b[0m\u001b[1;33m\u001b[0m\u001b[1;33m\u001b[0m\u001b[0m\n",
      "\u001b[1;31mTypeError\u001b[0m: '<' not supported between instances of 'int' and 'str'"
     ]
    }
   ],
   "source": [
    "print(1 < \"1\")\n",
    "#Will return a type error"
   ]
  },
  {
   "cell_type": "code",
   "execution_count": 4,
   "metadata": {},
   "outputs": [
    {
     "name": "stdout",
     "output_type": "stream",
     "text": [
      "False\n"
     ]
    }
   ],
   "source": [
    "print(\"Yellow\" > \"Cyan\" and \"Brown\" > \"Magenta\")\n",
    "#False"
   ]
  },
  {
   "cell_type": "code",
   "execution_count": 5,
   "metadata": {},
   "outputs": [
    {
     "name": "stdout",
     "output_type": "stream",
     "text": [
      "True\n"
     ]
    }
   ],
   "source": [
    "print(25 > 50 or 1 != 2)\n",
    "#True"
   ]
  },
  {
   "cell_type": "code",
   "execution_count": 7,
   "metadata": {},
   "outputs": [
    {
     "name": "stdout",
     "output_type": "stream",
     "text": [
      "True\n"
     ]
    }
   ],
   "source": [
    "print(not 42 == \"Answer\")\n",
    "#True"
   ]
  },
  {
   "cell_type": "code",
   "execution_count": 9,
   "metadata": {},
   "outputs": [
    {
     "name": "stdout",
     "output_type": "stream",
     "text": [
      "True\n",
      "False\n",
      "True\n",
      "False\n"
     ]
    }
   ],
   "source": [
    "print(32 == 30+2)\n",
    "\n",
    "print(5+10 == 6+7)\n",
    "\n",
    "print(10-4 != 10+4)\n",
    "\n",
    "print(9/3 != 3*1)"
   ]
  },
  {
   "cell_type": "code",
   "execution_count": 11,
   "metadata": {},
   "outputs": [
    {
     "name": "stdout",
     "output_type": "stream",
     "text": [
      "15\n",
      "True\n"
     ]
    }
   ],
   "source": [
    "# The = equals assigment operator is used to assign a value to a variable\n",
    "my_variable = 3*5\n",
    "print(my_variable)\n",
    "\n",
    "print(my_variable == 3*5)"
   ]
  },
  {
   "cell_type": "code",
   "execution_count": 12,
   "metadata": {},
   "outputs": [
    {
     "name": "stdout",
     "output_type": "stream",
     "text": [
      "True\n",
      "False\n",
      "True\n",
      "False\n"
     ]
    }
   ],
   "source": [
    "# The > operator checks if the left value is greater then the right value.\n",
    "print(11 > 3*3)\n",
    "\n",
    "print(4/2 > 8-4)\n",
    "\n",
    "print(4/2 < 8-4)\n",
    "\n",
    "print(11 < 3*3)"
   ]
  },
  {
   "cell_type": "code",
   "execution_count": 13,
   "metadata": {},
   "outputs": [
    {
     "name": "stdout",
     "output_type": "stream",
     "text": [
      "True\n",
      "False\n",
      "True\n",
      "False\n",
      "False\n"
     ]
    }
   ],
   "source": [
    "# The == operator can check if two strings are equal to each other.\n",
    "print(\"a string\" == \"a string\")\n",
    "\n",
    "print(\"4 + 5\" == 4 + 5)\n",
    "\n",
    "print(\"rabbit\" != \"frog\")\n",
    "\n",
    "event_city = \"Shanghai\"\n",
    "print(event_city != \"Shanghai\")\n",
    "\n",
    "print(\"three\" == 3)"
   ]
  },
  {
   "cell_type": "code",
   "execution_count": 14,
   "metadata": {},
   "outputs": [
    {
     "name": "stdout",
     "output_type": "stream",
     "text": [
      "True\n",
      "True\n",
      "False\n",
      "False\n"
     ]
    },
    {
     "ename": "TypeError",
     "evalue": "'<' not supported between instances of 'str' and 'int'",
     "output_type": "error",
     "traceback": [
      "\u001b[1;31m---------------------------------------------------------------------------\u001b[0m",
      "\u001b[1;31mTypeError\u001b[0m                                 Traceback (most recent call last)",
      "\u001b[1;32m<ipython-input-14-ec60652bd414>\u001b[0m in \u001b[0;36m<module>\u001b[1;34m\u001b[0m\n\u001b[0;32m      8\u001b[0m \u001b[0mprint\u001b[0m\u001b[1;33m(\u001b[0m\u001b[1;34m\"Lima\"\u001b[0m \u001b[1;33m<\u001b[0m \u001b[1;34m\"Lima\"\u001b[0m\u001b[1;33m)\u001b[0m\u001b[1;33m\u001b[0m\u001b[1;33m\u001b[0m\u001b[0m\n\u001b[0;32m      9\u001b[0m \u001b[1;33m\u001b[0m\u001b[0m\n\u001b[1;32m---> 10\u001b[1;33m \u001b[0mprint\u001b[0m\u001b[1;33m(\u001b[0m\u001b[1;34m\"Five\"\u001b[0m \u001b[1;33m<\u001b[0m \u001b[1;36m6\u001b[0m\u001b[1;33m)\u001b[0m\u001b[1;33m\u001b[0m\u001b[1;33m\u001b[0m\u001b[0m\n\u001b[0m",
      "\u001b[1;31mTypeError\u001b[0m: '<' not supported between instances of 'str' and 'int'"
     ]
    }
   ],
   "source": [
    "# The greater than > operator checks if the left string has a lower Unicode value than the right string.\n",
    "print(\"Wednesday\" > \"Friday\")\n",
    "\n",
    "print(\"Brown\" < \"brown\")\n",
    "\n",
    "print(\"sunbathe\" > \"suntan\")\n",
    "\n",
    "print(\"Lima\" < \"Lima\")\n",
    "\n",
    "print(\"Five\" < 6)"
   ]
  },
  {
   "cell_type": "code",
   "execution_count": 15,
   "metadata": {},
   "outputs": [
    {
     "name": "stdout",
     "output_type": "stream",
     "text": [
      "Is \"my computer\" greater than or equal to \"my chair\"? Result:  True\n",
      "Is \"Spring\" less tha or equal to \"Winter\"? Result:  True\n",
      "Is \"pineapple\" less than or equal to \"pineapple\"? Result:  True\n"
     ]
    }
   ],
   "source": [
    "var1 = \"my computer\" >= \"my chair\"\n",
    "var2 = \"Spring\" < \"Winter\"\n",
    "var3 = \"pineapple\" >= \"pineapple\"\n",
    "\n",
    "print(\"Is \\\"my computer\\\" greater than or equal to \\\"my chair\\\"? Result: \", var1)\n",
    "print(\"Is \\\"Spring\\\" less tha or equal to \\\"Winter\\\"? Result: \", var2)\n",
    "print(\"Is \\\"pineapple\\\" less than or equal to \\\"pineapple\\\"? Result: \", var3)"
   ]
  },
  {
   "cell_type": "code",
   "execution_count": 17,
   "metadata": {},
   "outputs": [
    {
     "name": "stdout",
     "output_type": "stream",
     "text": [
      "True\n"
     ]
    }
   ],
   "source": [
    "print((6*3 >= 18) and (9+9 >= 36/2))"
   ]
  },
  {
   "cell_type": "code",
   "execution_count": 18,
   "metadata": {},
   "outputs": [
    {
     "name": "stdout",
     "output_type": "stream",
     "text": [
      "False\n"
     ]
    }
   ],
   "source": [
    "print(\"Nairobi\" < \"Milan\" and \"Nairobi\" > \"Hanoi\")"
   ]
  },
  {
   "cell_type": "code",
   "execution_count": 19,
   "metadata": {},
   "outputs": [
    {
     "name": "stdout",
     "output_type": "stream",
     "text": [
      "True\n",
      "True\n",
      "True\n",
      "False\n"
     ]
    }
   ],
   "source": [
    "# Define country and city variables\n",
    "country = \"United States\"\n",
    "city = \"New York City\"\n",
    "\n",
    "print((15/3 < 2+4) or (0 >= 6-7))\n",
    "\n",
    "print(country == \"New York City\" or city == \"New York City\")\n",
    "\n",
    "print(16 <= 4**2 or 9**(0.5) !=3)\n",
    "\n",
    "print(\"B_name\" > \"C-name\" or \"B_name\" < \"A_name\")"
   ]
  },
  {
   "cell_type": "code",
   "execution_count": 20,
   "metadata": {},
   "outputs": [
    {
     "name": "stdout",
     "output_type": "stream",
     "text": [
      "The value of x is:\n",
      "False\n",
      "\n",
      "The inverse value of x is:\n",
      "True\n"
     ]
    }
   ],
   "source": [
    "x = 2*3 > 6\n",
    "print(\"The value of x is:\")\n",
    "print(x)\n",
    "\n",
    "print(\"\") # prints a blank line\n",
    "\n",
    "print(\"The inverse value of x is:\")\n",
    "print(not x)"
   ]
  },
  {
   "cell_type": "code",
   "execution_count": 21,
   "metadata": {},
   "outputs": [
    {
     "name": "stdout",
     "output_type": "stream",
     "text": [
      "True\n"
     ]
    }
   ],
   "source": [
    "today = \"Monday\"\n",
    "print(not today == \"Tuesday\")"
   ]
  },
  {
   "cell_type": "code",
   "execution_count": 22,
   "metadata": {},
   "outputs": [],
   "source": [
    "def hint_username(username):\n",
    "    if len(username) < 3:\n",
    "        print(\"Invalid username. Must be at least 3 characters long\")\n",
    "    else:\n",
    "        print(\"Valid username\")"
   ]
  },
  {
   "cell_type": "code",
   "execution_count": null,
   "metadata": {},
   "outputs": [],
   "source": [
    "def is_even(number):\n",
    "    if number % 2 == 0:\n",
    "        return True\n",
    "    return False "
   ]
  },
  {
   "cell_type": "code",
   "execution_count": 3,
   "metadata": {},
   "outputs": [],
   "source": [
    "def hint_username(username):\n",
    "    if len(username) < 3:\n",
    "        print(\"Invalid username. Must be at least 3 characters long\")\n",
    "    else:\n",
    "        if len(username) > 15:\n",
    "            print(\"Invalid username. Must be at most 15 characters long\")\n",
    "        else:\n",
    "            print(\"Valid username\")       "
   ]
  },
  {
   "cell_type": "code",
   "execution_count": null,
   "metadata": {},
   "outputs": [],
   "source": [
    "def hint_username(username):\n",
    "    if len(username) < 3:\n",
    "        print(\"Invalid username. Must be at least 3 characters long\")\n",
    "    elif len(username) > 15:\n",
    "        print(\"Invalid username. Must be at most 15 characters long\")\n",
    "    else:\n",
    "        print(\"Valid username\")    "
   ]
  },
  {
   "cell_type": "code",
   "execution_count": 6,
   "metadata": {},
   "outputs": [
    {
     "name": "stdout",
     "output_type": "stream",
     "text": [
      "Requested web page no found of server\n"
     ]
    }
   ],
   "source": [
    "# This funcyion accepts one variable as a parameter\n",
    "def translate_error_code(error_code):\n",
    "    if error_code == \"401 Unauthorized\":\n",
    "        translation = \"Server recieved an unauthenticated request\"\n",
    "    elif error_code == \"404 Not Found\":\n",
    "        translation = \"Requested web page no found of server\"\n",
    "    elif error_code == \"408 Request Timeout\":    \n",
    "        translation = \"Server reques to close unused connection\"  \n",
    "    else:\n",
    "        translation = \"Unknown error code\"      \n",
    "    return translation\n",
    "print(translate_error_code(\"404 Not Found\"))        \n"
   ]
  },
  {
   "cell_type": "code",
   "execution_count": 10,
   "metadata": {},
   "outputs": [
    {
     "name": "stdout",
     "output_type": "stream",
     "text": [
      "The number is less than 32 and greater than 6.\n"
     ]
    }
   ],
   "source": [
    "# Sets value of the \"number\" variable\n",
    "number = 25\n",
    "if number <= 5:\n",
    "    print(\"The number is 5 or smaller.\")\n",
    "elif number == 33:\n",
    "    print(\"The number is 33.\")\n",
    "elif number <32 and number >= 6:\n",
    "    print(\"The number is less than 32 and greater than 6.\")\n",
    "\n",
    "else:\n",
    "    print(\"The number is \" + str(number))    "
   ]
  },
  {
   "cell_type": "markdown",
   "metadata": {},
   "source": []
  },
  {
   "cell_type": "code",
   "execution_count": 12,
   "metadata": {},
   "outputs": [
    {
     "name": "stdout",
     "output_type": "stream",
     "text": [
      "40\n"
     ]
    }
   ],
   "source": [
    "# This function rounds a variable number up to the nearest 10x value\n",
    "def round_up(number):\n",
    "    x = 10\n",
    "# The floor division operator will calculate the integer value of \"number\" divided\n",
    "# by x: 35 // 10 will return the integer 3.\n",
    "    whole_number = number // x\n",
    "    remainder = number % x\n",
    "    if remainder >= 5:\n",
    "        return x*(whole_number + 1)\n",
    "    return x*whole_number\n",
    "print(round_up(35))"
   ]
  },
  {
   "cell_type": "code",
   "execution_count": 13,
   "metadata": {},
   "outputs": [
    {
     "name": "stdout",
     "output_type": "stream",
     "text": [
      "4096\n",
      "4096\n",
      "8192\n",
      "8192\n"
     ]
    }
   ],
   "source": [
    "def calculate_storage(filesize):\n",
    "    block_size = 4096\n",
    "    full_blocks = filesize //block_size\n",
    "    partial_block_remainder = filesize % block_size\n",
    "    if partial_block_remainder > 0:\n",
    "        return (full_blocks + 1) * 4096\n",
    "    return 4096\n",
    "print(calculate_storage(1))\n",
    "print(calculate_storage(4096))\n",
    "print(calculate_storage(4097))\n",
    "print(calculate_storage(6000))"
   ]
  }
 ],
 "metadata": {
  "kernelspec": {
   "display_name": "Python 3.6.8 64-bit",
   "language": "python",
   "name": "python3"
  },
  "language_info": {
   "codemirror_mode": {
    "name": "ipython",
    "version": 3
   },
   "file_extension": ".py",
   "mimetype": "text/x-python",
   "name": "python",
   "nbconvert_exporter": "python",
   "pygments_lexer": "ipython3",
   "version": "3.6.8"
  },
  "orig_nbformat": 4,
  "vscode": {
   "interpreter": {
    "hash": "0664568eec612509e3f4f9ca054325288895e1bf42fd6b6ec863d622dc6e339a"
   }
  }
 },
 "nbformat": 4,
 "nbformat_minor": 2
}
