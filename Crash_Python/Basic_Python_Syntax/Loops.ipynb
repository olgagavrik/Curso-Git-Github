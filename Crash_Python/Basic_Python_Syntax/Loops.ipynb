{
 "cells": [
  {
   "cell_type": "code",
   "execution_count": 3,
   "metadata": {},
   "outputs": [
    {
     "name": "stdout",
     "output_type": "stream",
     "text": [
      "Not there yet, x=0\n",
      "Not there yet, x=1\n",
      "Not there yet, x=2\n",
      "Not there yet, x=3\n",
      "Not there yet, x=4\n",
      "x=5\n"
     ]
    }
   ],
   "source": [
    "x = 0\n",
    "while x < 5:\n",
    "    print(\"Not there yet, x=\" + str(x))\n",
    "    x = x + 1\n",
    "print(\"x=\" + str(x))"
   ]
  },
  {
   "cell_type": "code",
   "execution_count": 4,
   "metadata": {},
   "outputs": [
    {
     "name": "stdout",
     "output_type": "stream",
     "text": [
      "Attempt 1\n",
      "Attempt 2\n",
      "Attempt 3\n",
      "Attempt 4\n",
      "Attempt 5\n",
      "Done\n"
     ]
    }
   ],
   "source": [
    "def attempts(n):\n",
    "    x = 1\n",
    "    while x <= n:\n",
    "        print(\"Attempt \" + str(x))\n",
    "        x += 1\n",
    "    print(\"Done\")\n",
    "\n",
    "attempts(5)"
   ]
  },
  {
   "cell_type": "code",
   "execution_count": 5,
   "metadata": {},
   "outputs": [
    {
     "ename": "NameError",
     "evalue": "name 'get_username' is not defined",
     "output_type": "error",
     "traceback": [
      "\u001b[1;31m---------------------------------------------------------------------------\u001b[0m",
      "\u001b[1;31mNameError\u001b[0m                                 Traceback (most recent call last)",
      "\u001b[1;32m<ipython-input-5-3b5bacabfe93>\u001b[0m in \u001b[0;36m<module>\u001b[1;34m\u001b[0m\n\u001b[1;32m----> 1\u001b[1;33m \u001b[0musername\u001b[0m \u001b[1;33m=\u001b[0m \u001b[0mget_username\u001b[0m\u001b[1;33m(\u001b[0m\u001b[1;33m)\u001b[0m\u001b[1;33m\u001b[0m\u001b[1;33m\u001b[0m\u001b[0m\n\u001b[0m\u001b[0;32m      2\u001b[0m \u001b[1;32mwhile\u001b[0m \u001b[1;32mnot\u001b[0m \u001b[0mvalid_username\u001b[0m\u001b[1;33m(\u001b[0m\u001b[0musername\u001b[0m\u001b[1;33m)\u001b[0m\u001b[1;33m:\u001b[0m\u001b[1;33m\u001b[0m\u001b[1;33m\u001b[0m\u001b[0m\n\u001b[0;32m      3\u001b[0m     \u001b[0mprint\u001b[0m\u001b[1;33m(\u001b[0m\u001b[1;34m\"Invalid username\"\u001b[0m\u001b[1;33m)\u001b[0m\u001b[1;33m\u001b[0m\u001b[1;33m\u001b[0m\u001b[0m\n\u001b[0;32m      4\u001b[0m     \u001b[0musername\u001b[0m \u001b[1;33m=\u001b[0m \u001b[0mget_username\u001b[0m\u001b[1;33m(\u001b[0m\u001b[1;33m)\u001b[0m\u001b[1;33m\u001b[0m\u001b[1;33m\u001b[0m\u001b[0m\n\u001b[0;32m      5\u001b[0m \u001b[1;31m# This code will give an error because get_username is not defined\u001b[0m\u001b[1;33m\u001b[0m\u001b[1;33m\u001b[0m\u001b[1;33m\u001b[0m\u001b[0m\n",
      "\u001b[1;31mNameError\u001b[0m: name 'get_username' is not defined"
     ]
    }
   ],
   "source": [
    "username = get_username()\n",
    "while not valid_username(username):\n",
    "    print(\"Invalid username\")\n",
    "    username = get_username()\n",
    "# This code will give an error because get_username is not defined"
   ]
  },
  {
   "cell_type": "code",
   "execution_count": 6,
   "metadata": {},
   "outputs": [
    {
     "ename": "NameError",
     "evalue": "name 'my_variable' is not defined",
     "output_type": "error",
     "traceback": [
      "\u001b[1;31m---------------------------------------------------------------------------\u001b[0m",
      "\u001b[1;31mNameError\u001b[0m                                 Traceback (most recent call last)",
      "\u001b[1;32m<ipython-input-6-dd0ba923a111>\u001b[0m in \u001b[0;36m<module>\u001b[1;34m\u001b[0m\n\u001b[1;32m----> 1\u001b[1;33m \u001b[1;32mwhile\u001b[0m \u001b[0mmy_variable\u001b[0m \u001b[1;33m<\u001b[0m \u001b[1;36m10\u001b[0m\u001b[1;33m:\u001b[0m\u001b[1;33m\u001b[0m\u001b[1;33m\u001b[0m\u001b[0m\n\u001b[0m\u001b[0;32m      2\u001b[0m     \u001b[0mprint\u001b[0m\u001b[1;33m(\u001b[0m\u001b[1;34m\"Hello\"\u001b[0m\u001b[1;33m)\u001b[0m\u001b[1;33m\u001b[0m\u001b[1;33m\u001b[0m\u001b[0m\n\u001b[0;32m      3\u001b[0m     \u001b[0mmy_variable\u001b[0m \u001b[1;33m+=\u001b[0m \u001b[1;36m1\u001b[0m\u001b[1;33m\u001b[0m\u001b[1;33m\u001b[0m\u001b[0m\n\u001b[0;32m      4\u001b[0m \u001b[1;31m# This code will give a NameError, variable is not defined\u001b[0m\u001b[1;33m\u001b[0m\u001b[1;33m\u001b[0m\u001b[1;33m\u001b[0m\u001b[0m\n",
      "\u001b[1;31mNameError\u001b[0m: name 'my_variable' is not defined"
     ]
    }
   ],
   "source": [
    "while my_variable < 10:\n",
    "    print(\"Hello\")\n",
    "    my_variable += 1\n",
    "# This code will give a NameError, variable is not defined"
   ]
  },
  {
   "cell_type": "code",
   "execution_count": 7,
   "metadata": {},
   "outputs": [
    {
     "name": "stdout",
     "output_type": "stream",
     "text": [
      "Hello\n",
      "Hello\n",
      "Hello\n",
      "Hello\n",
      "Hello\n"
     ]
    }
   ],
   "source": [
    "my_variable = 5\n",
    "while my_variable < 10:\n",
    "    print(\"Hello\")\n",
    "    my_variable += 1"
   ]
  },
  {
   "cell_type": "code",
   "execution_count": 9,
   "metadata": {},
   "outputs": [
    {
     "name": "stdout",
     "output_type": "stream",
     "text": [
      "45 10\n"
     ]
    }
   ],
   "source": [
    "x = 1\n",
    "sum = 0\n",
    "while x < 10:\n",
    "    sum = sum + x\n",
    "    x = x + 1\n",
    "\n",
    "product = x\n",
    "while x < 10:\n",
    "    product = product * x\n",
    "    x = x + 1\n",
    "\n",
    "print(sum, product)"
   ]
  },
  {
   "cell_type": "code",
   "execution_count": 10,
   "metadata": {},
   "outputs": [],
   "source": [
    "while x % 2 == 0:\n",
    "    x = x / 2\n",
    "# No output"
   ]
  },
  {
   "cell_type": "code",
   "execution_count": 11,
   "metadata": {},
   "outputs": [],
   "source": [
    "if x != 0:\n",
    "    while x % 2 == 0:\n",
    "        x = x / 2\n",
    "#No output"
   ]
  },
  {
   "cell_type": "code",
   "execution_count": null,
   "metadata": {},
   "outputs": [],
   "source": [
    "while x != 0 and x % 2 == 0:\n",
    "    x = x / 2\n",
    "# No output\n"
   ]
  },
  {
   "cell_type": "code",
   "execution_count": 12,
   "metadata": {},
   "outputs": [
    {
     "ename": "NameError",
     "evalue": "name 'do_something_cool' is not defined",
     "output_type": "error",
     "traceback": [
      "\u001b[1;31m---------------------------------------------------------------------------\u001b[0m",
      "\u001b[1;31mNameError\u001b[0m                                 Traceback (most recent call last)",
      "\u001b[1;32m<ipython-input-12-88f3f557bfea>\u001b[0m in \u001b[0;36m<module>\u001b[1;34m\u001b[0m\n\u001b[0;32m      1\u001b[0m \u001b[1;32mwhile\u001b[0m \u001b[1;32mTrue\u001b[0m\u001b[1;33m:\u001b[0m\u001b[1;33m\u001b[0m\u001b[1;33m\u001b[0m\u001b[0m\n\u001b[1;32m----> 2\u001b[1;33m     \u001b[0mdo_something_cool\u001b[0m\u001b[1;33m(\u001b[0m\u001b[1;33m)\u001b[0m\u001b[1;33m\u001b[0m\u001b[1;33m\u001b[0m\u001b[0m\n\u001b[0m\u001b[0;32m      3\u001b[0m     \u001b[1;32mif\u001b[0m \u001b[0muser_requested_to_stop\u001b[0m\u001b[1;33m(\u001b[0m\u001b[1;33m)\u001b[0m\u001b[1;33m:\u001b[0m\u001b[1;33m\u001b[0m\u001b[1;33m\u001b[0m\u001b[0m\n\u001b[0;32m      4\u001b[0m         \u001b[1;32mbreak\u001b[0m\u001b[1;33m\u001b[0m\u001b[1;33m\u001b[0m\u001b[0m\n\u001b[0;32m      5\u001b[0m \u001b[1;31m# This code will give an error because do_something_cool is not defined\u001b[0m\u001b[1;33m\u001b[0m\u001b[1;33m\u001b[0m\u001b[1;33m\u001b[0m\u001b[0m\n",
      "\u001b[1;31mNameError\u001b[0m: name 'do_something_cool' is not defined"
     ]
    }
   ],
   "source": [
    "while True:\n",
    "    do_something_cool()\n",
    "    if user_requested_to_stop():\n",
    "        break\n",
    "# This code will give an error because do_something_cool is not defined"
   ]
  },
  {
   "cell_type": "code",
   "execution_count": 2,
   "metadata": {},
   "outputs": [
    {
     "name": "stdout",
     "output_type": "stream",
     "text": [
      "5\n",
      "10\n",
      "15\n",
      "20\n",
      "25\n",
      "30\n",
      "35\n",
      "40\n",
      "45\n",
      "50\n",
      "Done\n"
     ]
    }
   ],
   "source": [
    "\n",
    "# A while loop execute the body of the loop while a specified condition remain True.\n",
    "multiplier = 1\n",
    "result = multiplier * 5\n",
    "while result <= 50:\n",
    "    print(result)\n",
    "    multiplier += 1\n",
    "    result = multiplier * 5\n",
    "print(\"Done\")\n"
   ]
  },
  {
   "cell_type": "code",
   "execution_count": 3,
   "metadata": {},
   "outputs": [
    {
     "name": "stdout",
     "output_type": "stream",
     "text": [
      "0\n",
      "2\n",
      "4\n",
      "8\n"
     ]
    }
   ],
   "source": [
    "# Skill group 1\n",
    "# Initialize a variable\n",
    "# Use a while  loop that runs while a specific condition is true\n",
    "# Ensure the while loop will not be an infinite loop\n",
    "# Increment a value within a while loop\n",
    "\n",
    "def count_factors(given_number):\n",
    "    factor = 1\n",
    "    count = 1\n",
    "    \n",
    "    # This \"if\" block will run if the \"given_number\" equals 0.bit_length\n",
    "    if given_number == 0:\n",
    "        return 0\n",
    "    while factor < given_number:\n",
    "        if given_number % factor == 0:\n",
    "            count += 1\n",
    "        factor += 1\n",
    "    return count\n",
    "\n",
    "print(count_factors(0))\n",
    "print(count_factors(3))\n",
    "print(count_factors(10))\n",
    "print(count_factors(24))"
   ]
  },
  {
   "cell_type": "code",
   "execution_count": 4,
   "metadata": {},
   "outputs": [
    {
     "name": "stdout",
     "output_type": "stream",
     "text": [
      "5 + 1 = 6\n",
      "5 + 2 = 7\n",
      "5 + 3 = 8\n",
      "5 + 4 = 9\n",
      "5 + 5 = 10\n",
      "17 + 1 = 18\n",
      "17 + 2 = 19\n",
      "17 + 3 = 20\n"
     ]
    }
   ],
   "source": [
    "# Skill group 2\n",
    "# Initialize variables to assign data types before they are used in a while loop\n",
    "# Use the break keyword as an exit point for a while loop\n",
    "def addition_table(given_number):\n",
    "    iterated_number = 1\n",
    "    my_sum = 1\n",
    "    while iterated_number <= 5:\n",
    "        my_sum = given_number + iterated_number\n",
    "        if my_sum > 20:\n",
    "            break\n",
    "        print(str(given_number), \"+\", str(iterated_number), \"=\", str(my_sum))\n",
    "        iterated_number += 1\n",
    "\n",
    "addition_table(5)\n",
    "addition_table(17)\n",
    "addition_table(30)\n"
   ]
  },
  {
   "cell_type": "code",
   "execution_count": 5,
   "metadata": {},
   "outputs": [
    {
     "name": "stdout",
     "output_type": "stream",
     "text": [
      "False\n",
      "True\n",
      "True\n",
      "False\n"
     ]
    }
   ],
   "source": [
    "def is_power_of_two(number):\n",
    "    if number <= 0:\n",
    "        return False\n",
    "    while number % 2 == 0:\n",
    "        number = number // 2\n",
    "    if number == 1:\n",
    "        return True\n",
    "    return False\n",
    "\n",
    "print(is_power_of_two(0))\n",
    "print(is_power_of_two(1))\n",
    "print(is_power_of_two(8))\n",
    "print(is_power_of_two(9))"
   ]
  },
  {
   "cell_type": "code",
   "execution_count": 7,
   "metadata": {},
   "outputs": [
    {
     "name": "stdout",
     "output_type": "stream",
     "text": [
      "False\n",
      "False\n",
      "True\n",
      "False\n",
      "False\n"
     ]
    }
   ],
   "source": [
    "def is_power_of_two(number):\n",
    "    if number <= 0:\n",
    "        return False\n",
    "    # This while loop checks if the \"number\" can by divided by 2 without a remainder\n",
    "    while number % 2 == 0:\n",
    "        number = number / 2\n",
    "    # If after dividing by 2 \"number\" equals 1, then \"number\" is a ppower of 2\n",
    "    if number == 1:\n",
    "        return True\n",
    "    return False\n",
    "\n",
    "print(is_power_of_two (0))\n",
    "print(is_power_of_two (15))\n",
    "print(is_power_of_two (32))\n",
    "print(is_power_of_two (78))\n",
    "print(is_power_of_two (651))\n",
    "\n"
   ]
  },
  {
   "cell_type": "code",
   "execution_count": 8,
   "metadata": {},
   "outputs": [
    {
     "name": "stdout",
     "output_type": "stream",
     "text": [
      "6\n",
      "45\n",
      "136\n",
      "4950\n"
     ]
    }
   ],
   "source": [
    "# Write a function that takes an argument n and returns the sum of integers from 1 to n\n",
    "\n",
    "def sum_of_integers(n):\n",
    "    if n < 1:\n",
    "        return 0\n",
    "\n",
    "    i = 1\n",
    "    sum = 0\n",
    "    while i <= n:\n",
    "        sum = sum + i\n",
    "        i = i+1\n",
    "    return sum\n",
    "print(sum_of_integers(3))\n",
    "print(sum_of_integers(9))\n",
    "print(sum_of_integers(16))\n",
    "print(sum_of_integers(99))"
   ]
  },
  {
   "cell_type": "code",
   "execution_count": 16,
   "metadata": {},
   "outputs": [],
   "source": [
    "# the function which should output a multiplication table\n",
    "def multiplication_table(number):\n",
    "    multiplier = 1\n",
    "\n",
    "    # Complete the whike loop condition\n",
    "    while multiplier <= 5:\n",
    "        result = number * multiplier\n",
    "        if result > 25:\n",
    "            #Enter the action to take if the result > 25\n",
    "            break\n",
    "        \n",
    "        print(str(number) + \"x\" + str(multiplier) + \"=\" + str(result))\n",
    "\n",
    "        # Increment the apropiate variable\n",
    "        multiplier += 1\n",
    "\n",
    "    multiplication_table(3)\n",
    "    multiplication_table(7)\n",
    "    multiplication_table(12)\n"
   ]
  }
 ],
 "metadata": {
  "kernelspec": {
   "display_name": "Python 3.6.8 64-bit",
   "language": "python",
   "name": "python3"
  },
  "language_info": {
   "codemirror_mode": {
    "name": "ipython",
    "version": 3
   },
   "file_extension": ".py",
   "mimetype": "text/x-python",
   "name": "python",
   "nbconvert_exporter": "python",
   "pygments_lexer": "ipython3",
   "version": "3.6.8"
  },
  "orig_nbformat": 4,
  "vscode": {
   "interpreter": {
    "hash": "0664568eec612509e3f4f9ca054325288895e1bf42fd6b6ec863d622dc6e339a"
   }
  }
 },
 "nbformat": 4,
 "nbformat_minor": 2
}
